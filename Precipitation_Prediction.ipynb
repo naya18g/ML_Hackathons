{
  "nbformat": 4,
  "nbformat_minor": 0,
  "metadata": {
    "colab": {
      "name": "Untitled13.ipynb",
      "provenance": [],
      "collapsed_sections": [],
      "authorship_tag": "ABX9TyPYW9pr+r6JXfIxrbUhud2t",
      "include_colab_link": true
    },
    "kernelspec": {
      "name": "python3",
      "display_name": "Python 3"
    },
    "language_info": {
      "name": "python"
    }
  },
  "cells": [
    {
      "cell_type": "markdown",
      "metadata": {
        "id": "view-in-github",
        "colab_type": "text"
      },
      "source": [
        "<a href=\"https://colab.research.google.com/github/naya18g/Project/blob/main/Precipitation_Prediction.ipynb\" target=\"_parent\"><img src=\"https://colab.research.google.com/assets/colab-badge.svg\" alt=\"Open In Colab\"/></a>"
      ]
    },
    {
      "cell_type": "code",
      "execution_count": null,
      "metadata": {
        "colab": {
          "base_uri": "https://localhost:8080/",
          "height": 641
        },
        "id": "-tUYFW487KXD",
        "outputId": "de3d0daf-5e52-4a3c-d060-e7194306506c"
      },
      "outputs": [
        {
          "output_type": "execute_result",
          "data": {
            "text/html": [
              "\n",
              "  <div id=\"df-dbf9112b-a49e-4465-9679-720d67798053\">\n",
              "    <div class=\"colab-df-container\">\n",
              "      <div>\n",
              "<style scoped>\n",
              "    .dataframe tbody tr th:only-of-type {\n",
              "        vertical-align: middle;\n",
              "    }\n",
              "\n",
              "    .dataframe tbody tr th {\n",
              "        vertical-align: top;\n",
              "    }\n",
              "\n",
              "    .dataframe thead th {\n",
              "        text-align: right;\n",
              "    }\n",
              "</style>\n",
              "<table border=\"1\" class=\"dataframe\">\n",
              "  <thead>\n",
              "    <tr style=\"text-align: right;\">\n",
              "      <th></th>\n",
              "      <th>STATION</th>\n",
              "      <th>NAME</th>\n",
              "      <th>DATE</th>\n",
              "      <th>AWND</th>\n",
              "      <th>PGTM</th>\n",
              "      <th>PRCP</th>\n",
              "      <th>TAVG</th>\n",
              "      <th>TMAX</th>\n",
              "      <th>TMIN</th>\n",
              "      <th>WDF2</th>\n",
              "      <th>WDF5</th>\n",
              "      <th>WSF2</th>\n",
              "      <th>WSF5</th>\n",
              "      <th>WT01</th>\n",
              "      <th>WT02</th>\n",
              "      <th>WT08</th>\n",
              "    </tr>\n",
              "  </thead>\n",
              "  <tbody>\n",
              "    <tr>\n",
              "      <th>0</th>\n",
              "      <td>USW00093134</td>\n",
              "      <td>LOS ANGELES DOWNTOWN USC, CA US</td>\n",
              "      <td>2016-01-01</td>\n",
              "      <td>2.46</td>\n",
              "      <td>NaN</td>\n",
              "      <td>0.00</td>\n",
              "      <td>NaN</td>\n",
              "      <td>64</td>\n",
              "      <td>43</td>\n",
              "      <td>10.0</td>\n",
              "      <td>30.0</td>\n",
              "      <td>8.1</td>\n",
              "      <td>11.0</td>\n",
              "      <td>NaN</td>\n",
              "      <td>NaN</td>\n",
              "      <td>1.0</td>\n",
              "    </tr>\n",
              "    <tr>\n",
              "      <th>1</th>\n",
              "      <td>USW00093134</td>\n",
              "      <td>LOS ANGELES DOWNTOWN USC, CA US</td>\n",
              "      <td>2016-01-02</td>\n",
              "      <td>2.01</td>\n",
              "      <td>NaN</td>\n",
              "      <td>0.00</td>\n",
              "      <td>NaN</td>\n",
              "      <td>65</td>\n",
              "      <td>47</td>\n",
              "      <td>270.0</td>\n",
              "      <td>30.0</td>\n",
              "      <td>6.0</td>\n",
              "      <td>8.9</td>\n",
              "      <td>NaN</td>\n",
              "      <td>NaN</td>\n",
              "      <td>NaN</td>\n",
              "    </tr>\n",
              "    <tr>\n",
              "      <th>2</th>\n",
              "      <td>USW00093134</td>\n",
              "      <td>LOS ANGELES DOWNTOWN USC, CA US</td>\n",
              "      <td>2016-01-03</td>\n",
              "      <td>0.67</td>\n",
              "      <td>NaN</td>\n",
              "      <td>0.00</td>\n",
              "      <td>NaN</td>\n",
              "      <td>62</td>\n",
              "      <td>44</td>\n",
              "      <td>150.0</td>\n",
              "      <td>150.0</td>\n",
              "      <td>10.1</td>\n",
              "      <td>14.1</td>\n",
              "      <td>NaN</td>\n",
              "      <td>NaN</td>\n",
              "      <td>NaN</td>\n",
              "    </tr>\n",
              "    <tr>\n",
              "      <th>3</th>\n",
              "      <td>USW00093134</td>\n",
              "      <td>LOS ANGELES DOWNTOWN USC, CA US</td>\n",
              "      <td>2016-01-04</td>\n",
              "      <td>1.34</td>\n",
              "      <td>NaN</td>\n",
              "      <td>0.01</td>\n",
              "      <td>NaN</td>\n",
              "      <td>69</td>\n",
              "      <td>55</td>\n",
              "      <td>270.0</td>\n",
              "      <td>280.0</td>\n",
              "      <td>8.1</td>\n",
              "      <td>14.1</td>\n",
              "      <td>NaN</td>\n",
              "      <td>NaN</td>\n",
              "      <td>NaN</td>\n",
              "    </tr>\n",
              "    <tr>\n",
              "      <th>4</th>\n",
              "      <td>USW00093134</td>\n",
              "      <td>LOS ANGELES DOWNTOWN USC, CA US</td>\n",
              "      <td>2016-01-05</td>\n",
              "      <td>2.46</td>\n",
              "      <td>NaN</td>\n",
              "      <td>1.61</td>\n",
              "      <td>NaN</td>\n",
              "      <td>59</td>\n",
              "      <td>49</td>\n",
              "      <td>140.0</td>\n",
              "      <td>140.0</td>\n",
              "      <td>10.1</td>\n",
              "      <td>16.1</td>\n",
              "      <td>1.0</td>\n",
              "      <td>1.0</td>\n",
              "      <td>NaN</td>\n",
              "    </tr>\n",
              "    <tr>\n",
              "      <th>...</th>\n",
              "      <td>...</td>\n",
              "      <td>...</td>\n",
              "      <td>...</td>\n",
              "      <td>...</td>\n",
              "      <td>...</td>\n",
              "      <td>...</td>\n",
              "      <td>...</td>\n",
              "      <td>...</td>\n",
              "      <td>...</td>\n",
              "      <td>...</td>\n",
              "      <td>...</td>\n",
              "      <td>...</td>\n",
              "      <td>...</td>\n",
              "      <td>...</td>\n",
              "      <td>...</td>\n",
              "      <td>...</td>\n",
              "    </tr>\n",
              "    <tr>\n",
              "      <th>1822</th>\n",
              "      <td>USW00093134</td>\n",
              "      <td>LOS ANGELES DOWNTOWN USC, CA US</td>\n",
              "      <td>2020-12-27</td>\n",
              "      <td>1.12</td>\n",
              "      <td>NaN</td>\n",
              "      <td>0.01</td>\n",
              "      <td>NaN</td>\n",
              "      <td>66</td>\n",
              "      <td>55</td>\n",
              "      <td>270.0</td>\n",
              "      <td>260.0</td>\n",
              "      <td>8.9</td>\n",
              "      <td>18.1</td>\n",
              "      <td>1.0</td>\n",
              "      <td>NaN</td>\n",
              "      <td>1.0</td>\n",
              "    </tr>\n",
              "    <tr>\n",
              "      <th>1823</th>\n",
              "      <td>USW00093134</td>\n",
              "      <td>LOS ANGELES DOWNTOWN USC, CA US</td>\n",
              "      <td>2020-12-28</td>\n",
              "      <td>4.70</td>\n",
              "      <td>NaN</td>\n",
              "      <td>1.81</td>\n",
              "      <td>NaN</td>\n",
              "      <td>56</td>\n",
              "      <td>47</td>\n",
              "      <td>90.0</td>\n",
              "      <td>260.0</td>\n",
              "      <td>14.1</td>\n",
              "      <td>21.0</td>\n",
              "      <td>1.0</td>\n",
              "      <td>NaN</td>\n",
              "      <td>NaN</td>\n",
              "    </tr>\n",
              "    <tr>\n",
              "      <th>1824</th>\n",
              "      <td>USW00093134</td>\n",
              "      <td>LOS ANGELES DOWNTOWN USC, CA US</td>\n",
              "      <td>2020-12-29</td>\n",
              "      <td>1.57</td>\n",
              "      <td>NaN</td>\n",
              "      <td>0.00</td>\n",
              "      <td>NaN</td>\n",
              "      <td>65</td>\n",
              "      <td>42</td>\n",
              "      <td>340.0</td>\n",
              "      <td>360.0</td>\n",
              "      <td>10.1</td>\n",
              "      <td>18.1</td>\n",
              "      <td>NaN</td>\n",
              "      <td>NaN</td>\n",
              "      <td>NaN</td>\n",
              "    </tr>\n",
              "    <tr>\n",
              "      <th>1825</th>\n",
              "      <td>USW00093134</td>\n",
              "      <td>LOS ANGELES DOWNTOWN USC, CA US</td>\n",
              "      <td>2020-12-30</td>\n",
              "      <td>0.45</td>\n",
              "      <td>NaN</td>\n",
              "      <td>0.00</td>\n",
              "      <td>NaN</td>\n",
              "      <td>69</td>\n",
              "      <td>44</td>\n",
              "      <td>260.0</td>\n",
              "      <td>260.0</td>\n",
              "      <td>6.9</td>\n",
              "      <td>12.1</td>\n",
              "      <td>NaN</td>\n",
              "      <td>NaN</td>\n",
              "      <td>NaN</td>\n",
              "    </tr>\n",
              "    <tr>\n",
              "      <th>1826</th>\n",
              "      <td>USW00093134</td>\n",
              "      <td>LOS ANGELES DOWNTOWN USC, CA US</td>\n",
              "      <td>2020-12-31</td>\n",
              "      <td>1.57</td>\n",
              "      <td>NaN</td>\n",
              "      <td>0.00</td>\n",
              "      <td>NaN</td>\n",
              "      <td>70</td>\n",
              "      <td>43</td>\n",
              "      <td>350.0</td>\n",
              "      <td>350.0</td>\n",
              "      <td>12.1</td>\n",
              "      <td>19.9</td>\n",
              "      <td>NaN</td>\n",
              "      <td>NaN</td>\n",
              "      <td>NaN</td>\n",
              "    </tr>\n",
              "  </tbody>\n",
              "</table>\n",
              "<p>1827 rows × 16 columns</p>\n",
              "</div>\n",
              "      <button class=\"colab-df-convert\" onclick=\"convertToInteractive('df-dbf9112b-a49e-4465-9679-720d67798053')\"\n",
              "              title=\"Convert this dataframe to an interactive table.\"\n",
              "              style=\"display:none;\">\n",
              "        \n",
              "  <svg xmlns=\"http://www.w3.org/2000/svg\" height=\"24px\"viewBox=\"0 0 24 24\"\n",
              "       width=\"24px\">\n",
              "    <path d=\"M0 0h24v24H0V0z\" fill=\"none\"/>\n",
              "    <path d=\"M18.56 5.44l.94 2.06.94-2.06 2.06-.94-2.06-.94-.94-2.06-.94 2.06-2.06.94zm-11 1L8.5 8.5l.94-2.06 2.06-.94-2.06-.94L8.5 2.5l-.94 2.06-2.06.94zm10 10l.94 2.06.94-2.06 2.06-.94-2.06-.94-.94-2.06-.94 2.06-2.06.94z\"/><path d=\"M17.41 7.96l-1.37-1.37c-.4-.4-.92-.59-1.43-.59-.52 0-1.04.2-1.43.59L10.3 9.45l-7.72 7.72c-.78.78-.78 2.05 0 2.83L4 21.41c.39.39.9.59 1.41.59.51 0 1.02-.2 1.41-.59l7.78-7.78 2.81-2.81c.8-.78.8-2.07 0-2.86zM5.41 20L4 18.59l7.72-7.72 1.47 1.35L5.41 20z\"/>\n",
              "  </svg>\n",
              "      </button>\n",
              "      \n",
              "  <style>\n",
              "    .colab-df-container {\n",
              "      display:flex;\n",
              "      flex-wrap:wrap;\n",
              "      gap: 12px;\n",
              "    }\n",
              "\n",
              "    .colab-df-convert {\n",
              "      background-color: #E8F0FE;\n",
              "      border: none;\n",
              "      border-radius: 50%;\n",
              "      cursor: pointer;\n",
              "      display: none;\n",
              "      fill: #1967D2;\n",
              "      height: 32px;\n",
              "      padding: 0 0 0 0;\n",
              "      width: 32px;\n",
              "    }\n",
              "\n",
              "    .colab-df-convert:hover {\n",
              "      background-color: #E2EBFA;\n",
              "      box-shadow: 0px 1px 2px rgba(60, 64, 67, 0.3), 0px 1px 3px 1px rgba(60, 64, 67, 0.15);\n",
              "      fill: #174EA6;\n",
              "    }\n",
              "\n",
              "    [theme=dark] .colab-df-convert {\n",
              "      background-color: #3B4455;\n",
              "      fill: #D2E3FC;\n",
              "    }\n",
              "\n",
              "    [theme=dark] .colab-df-convert:hover {\n",
              "      background-color: #434B5C;\n",
              "      box-shadow: 0px 1px 3px 1px rgba(0, 0, 0, 0.15);\n",
              "      filter: drop-shadow(0px 1px 2px rgba(0, 0, 0, 0.3));\n",
              "      fill: #FFFFFF;\n",
              "    }\n",
              "  </style>\n",
              "\n",
              "      <script>\n",
              "        const buttonEl =\n",
              "          document.querySelector('#df-dbf9112b-a49e-4465-9679-720d67798053 button.colab-df-convert');\n",
              "        buttonEl.style.display =\n",
              "          google.colab.kernel.accessAllowed ? 'block' : 'none';\n",
              "\n",
              "        async function convertToInteractive(key) {\n",
              "          const element = document.querySelector('#df-dbf9112b-a49e-4465-9679-720d67798053');\n",
              "          const dataTable =\n",
              "            await google.colab.kernel.invokeFunction('convertToInteractive',\n",
              "                                                     [key], {});\n",
              "          if (!dataTable) return;\n",
              "\n",
              "          const docLinkHtml = 'Like what you see? Visit the ' +\n",
              "            '<a target=\"_blank\" href=https://colab.research.google.com/notebooks/data_table.ipynb>data table notebook</a>'\n",
              "            + ' to learn more about interactive tables.';\n",
              "          element.innerHTML = '';\n",
              "          dataTable['output_type'] = 'display_data';\n",
              "          await google.colab.output.renderOutput(dataTable, element);\n",
              "          const docLink = document.createElement('div');\n",
              "          docLink.innerHTML = docLinkHtml;\n",
              "          element.appendChild(docLink);\n",
              "        }\n",
              "      </script>\n",
              "    </div>\n",
              "  </div>\n",
              "  "
            ],
            "text/plain": [
              "          STATION                             NAME  ... WT02  WT08\n",
              "0     USW00093134  LOS ANGELES DOWNTOWN USC, CA US  ...  NaN   1.0\n",
              "1     USW00093134  LOS ANGELES DOWNTOWN USC, CA US  ...  NaN   NaN\n",
              "2     USW00093134  LOS ANGELES DOWNTOWN USC, CA US  ...  NaN   NaN\n",
              "3     USW00093134  LOS ANGELES DOWNTOWN USC, CA US  ...  NaN   NaN\n",
              "4     USW00093134  LOS ANGELES DOWNTOWN USC, CA US  ...  1.0   NaN\n",
              "...           ...                              ...  ...  ...   ...\n",
              "1822  USW00093134  LOS ANGELES DOWNTOWN USC, CA US  ...  NaN   1.0\n",
              "1823  USW00093134  LOS ANGELES DOWNTOWN USC, CA US  ...  NaN   NaN\n",
              "1824  USW00093134  LOS ANGELES DOWNTOWN USC, CA US  ...  NaN   NaN\n",
              "1825  USW00093134  LOS ANGELES DOWNTOWN USC, CA US  ...  NaN   NaN\n",
              "1826  USW00093134  LOS ANGELES DOWNTOWN USC, CA US  ...  NaN   NaN\n",
              "\n",
              "[1827 rows x 16 columns]"
            ]
          },
          "metadata": {},
          "execution_count": 1555
        }
      ],
      "source": [
        "import pandas as pd\n",
        "import numpy as np            \n",
        "data = pd.read_csv('dataset.csv')         \n",
        "data"
      ]
    },
    {
      "cell_type": "code",
      "source": [
        "data.describe()"
      ],
      "metadata": {
        "colab": {
          "base_uri": "https://localhost:8080/",
          "height": 344
        },
        "id": "yJ5nrByVtcH1",
        "outputId": "05627b4a-61da-48e7-b93d-818ce5a8510b"
      },
      "execution_count": null,
      "outputs": [
        {
          "output_type": "execute_result",
          "data": {
            "text/html": [
              "\n",
              "  <div id=\"df-c889b290-e5a4-42b5-af19-9eee18b1750d\">\n",
              "    <div class=\"colab-df-container\">\n",
              "      <div>\n",
              "<style scoped>\n",
              "    .dataframe tbody tr th:only-of-type {\n",
              "        vertical-align: middle;\n",
              "    }\n",
              "\n",
              "    .dataframe tbody tr th {\n",
              "        vertical-align: top;\n",
              "    }\n",
              "\n",
              "    .dataframe thead th {\n",
              "        text-align: right;\n",
              "    }\n",
              "</style>\n",
              "<table border=\"1\" class=\"dataframe\">\n",
              "  <thead>\n",
              "    <tr style=\"text-align: right;\">\n",
              "      <th></th>\n",
              "      <th>AWND</th>\n",
              "      <th>PGTM</th>\n",
              "      <th>PRCP</th>\n",
              "      <th>TAVG</th>\n",
              "      <th>TMAX</th>\n",
              "      <th>TMIN</th>\n",
              "      <th>WDF2</th>\n",
              "      <th>WDF5</th>\n",
              "      <th>WSF2</th>\n",
              "      <th>WSF5</th>\n",
              "      <th>WT01</th>\n",
              "      <th>WT02</th>\n",
              "      <th>WT08</th>\n",
              "    </tr>\n",
              "  </thead>\n",
              "  <tbody>\n",
              "    <tr>\n",
              "      <th>count</th>\n",
              "      <td>1823.000000</td>\n",
              "      <td>62.000000</td>\n",
              "      <td>1827.000000</td>\n",
              "      <td>0.0</td>\n",
              "      <td>1827.000000</td>\n",
              "      <td>1827.000000</td>\n",
              "      <td>1822.000000</td>\n",
              "      <td>1809.000000</td>\n",
              "      <td>1823.000000</td>\n",
              "      <td>1809.000000</td>\n",
              "      <td>551.0</td>\n",
              "      <td>39.0</td>\n",
              "      <td>861.0</td>\n",
              "    </tr>\n",
              "    <tr>\n",
              "      <th>mean</th>\n",
              "      <td>1.675710</td>\n",
              "      <td>1404.854839</td>\n",
              "      <td>0.035720</td>\n",
              "      <td>NaN</td>\n",
              "      <td>76.498632</td>\n",
              "      <td>58.120416</td>\n",
              "      <td>254.143798</td>\n",
              "      <td>256.428966</td>\n",
              "      <td>9.062095</td>\n",
              "      <td>14.721669</td>\n",
              "      <td>1.0</td>\n",
              "      <td>1.0</td>\n",
              "      <td>1.0</td>\n",
              "    </tr>\n",
              "    <tr>\n",
              "      <th>std</th>\n",
              "      <td>0.909434</td>\n",
              "      <td>350.813754</td>\n",
              "      <td>0.189859</td>\n",
              "      <td>NaN</td>\n",
              "      <td>9.133929</td>\n",
              "      <td>7.223756</td>\n",
              "      <td>54.756284</td>\n",
              "      <td>55.571902</td>\n",
              "      <td>2.016827</td>\n",
              "      <td>3.622257</td>\n",
              "      <td>0.0</td>\n",
              "      <td>0.0</td>\n",
              "      <td>0.0</td>\n",
              "    </tr>\n",
              "    <tr>\n",
              "      <th>min</th>\n",
              "      <td>0.000000</td>\n",
              "      <td>103.000000</td>\n",
              "      <td>0.000000</td>\n",
              "      <td>NaN</td>\n",
              "      <td>52.000000</td>\n",
              "      <td>38.000000</td>\n",
              "      <td>10.000000</td>\n",
              "      <td>10.000000</td>\n",
              "      <td>2.900000</td>\n",
              "      <td>6.000000</td>\n",
              "      <td>1.0</td>\n",
              "      <td>1.0</td>\n",
              "      <td>1.0</td>\n",
              "    </tr>\n",
              "    <tr>\n",
              "      <th>25%</th>\n",
              "      <td>1.120000</td>\n",
              "      <td>1337.500000</td>\n",
              "      <td>0.000000</td>\n",
              "      <td>NaN</td>\n",
              "      <td>70.000000</td>\n",
              "      <td>53.000000</td>\n",
              "      <td>260.000000</td>\n",
              "      <td>270.000000</td>\n",
              "      <td>8.100000</td>\n",
              "      <td>12.100000</td>\n",
              "      <td>1.0</td>\n",
              "      <td>1.0</td>\n",
              "      <td>1.0</td>\n",
              "    </tr>\n",
              "    <tr>\n",
              "      <th>50%</th>\n",
              "      <td>1.570000</td>\n",
              "      <td>1442.500000</td>\n",
              "      <td>0.000000</td>\n",
              "      <td>NaN</td>\n",
              "      <td>76.000000</td>\n",
              "      <td>58.000000</td>\n",
              "      <td>270.000000</td>\n",
              "      <td>270.000000</td>\n",
              "      <td>8.900000</td>\n",
              "      <td>14.100000</td>\n",
              "      <td>1.0</td>\n",
              "      <td>1.0</td>\n",
              "      <td>1.0</td>\n",
              "    </tr>\n",
              "    <tr>\n",
              "      <th>75%</th>\n",
              "      <td>2.010000</td>\n",
              "      <td>1545.000000</td>\n",
              "      <td>0.000000</td>\n",
              "      <td>NaN</td>\n",
              "      <td>83.000000</td>\n",
              "      <td>64.000000</td>\n",
              "      <td>270.000000</td>\n",
              "      <td>280.000000</td>\n",
              "      <td>10.100000</td>\n",
              "      <td>16.100000</td>\n",
              "      <td>1.0</td>\n",
              "      <td>1.0</td>\n",
              "      <td>1.0</td>\n",
              "    </tr>\n",
              "    <tr>\n",
              "      <th>max</th>\n",
              "      <td>8.050000</td>\n",
              "      <td>2314.000000</td>\n",
              "      <td>2.670000</td>\n",
              "      <td>NaN</td>\n",
              "      <td>111.000000</td>\n",
              "      <td>79.000000</td>\n",
              "      <td>360.000000</td>\n",
              "      <td>360.000000</td>\n",
              "      <td>21.000000</td>\n",
              "      <td>34.000000</td>\n",
              "      <td>1.0</td>\n",
              "      <td>1.0</td>\n",
              "      <td>1.0</td>\n",
              "    </tr>\n",
              "  </tbody>\n",
              "</table>\n",
              "</div>\n",
              "      <button class=\"colab-df-convert\" onclick=\"convertToInteractive('df-c889b290-e5a4-42b5-af19-9eee18b1750d')\"\n",
              "              title=\"Convert this dataframe to an interactive table.\"\n",
              "              style=\"display:none;\">\n",
              "        \n",
              "  <svg xmlns=\"http://www.w3.org/2000/svg\" height=\"24px\"viewBox=\"0 0 24 24\"\n",
              "       width=\"24px\">\n",
              "    <path d=\"M0 0h24v24H0V0z\" fill=\"none\"/>\n",
              "    <path d=\"M18.56 5.44l.94 2.06.94-2.06 2.06-.94-2.06-.94-.94-2.06-.94 2.06-2.06.94zm-11 1L8.5 8.5l.94-2.06 2.06-.94-2.06-.94L8.5 2.5l-.94 2.06-2.06.94zm10 10l.94 2.06.94-2.06 2.06-.94-2.06-.94-.94-2.06-.94 2.06-2.06.94z\"/><path d=\"M17.41 7.96l-1.37-1.37c-.4-.4-.92-.59-1.43-.59-.52 0-1.04.2-1.43.59L10.3 9.45l-7.72 7.72c-.78.78-.78 2.05 0 2.83L4 21.41c.39.39.9.59 1.41.59.51 0 1.02-.2 1.41-.59l7.78-7.78 2.81-2.81c.8-.78.8-2.07 0-2.86zM5.41 20L4 18.59l7.72-7.72 1.47 1.35L5.41 20z\"/>\n",
              "  </svg>\n",
              "      </button>\n",
              "      \n",
              "  <style>\n",
              "    .colab-df-container {\n",
              "      display:flex;\n",
              "      flex-wrap:wrap;\n",
              "      gap: 12px;\n",
              "    }\n",
              "\n",
              "    .colab-df-convert {\n",
              "      background-color: #E8F0FE;\n",
              "      border: none;\n",
              "      border-radius: 50%;\n",
              "      cursor: pointer;\n",
              "      display: none;\n",
              "      fill: #1967D2;\n",
              "      height: 32px;\n",
              "      padding: 0 0 0 0;\n",
              "      width: 32px;\n",
              "    }\n",
              "\n",
              "    .colab-df-convert:hover {\n",
              "      background-color: #E2EBFA;\n",
              "      box-shadow: 0px 1px 2px rgba(60, 64, 67, 0.3), 0px 1px 3px 1px rgba(60, 64, 67, 0.15);\n",
              "      fill: #174EA6;\n",
              "    }\n",
              "\n",
              "    [theme=dark] .colab-df-convert {\n",
              "      background-color: #3B4455;\n",
              "      fill: #D2E3FC;\n",
              "    }\n",
              "\n",
              "    [theme=dark] .colab-df-convert:hover {\n",
              "      background-color: #434B5C;\n",
              "      box-shadow: 0px 1px 3px 1px rgba(0, 0, 0, 0.15);\n",
              "      filter: drop-shadow(0px 1px 2px rgba(0, 0, 0, 0.3));\n",
              "      fill: #FFFFFF;\n",
              "    }\n",
              "  </style>\n",
              "\n",
              "      <script>\n",
              "        const buttonEl =\n",
              "          document.querySelector('#df-c889b290-e5a4-42b5-af19-9eee18b1750d button.colab-df-convert');\n",
              "        buttonEl.style.display =\n",
              "          google.colab.kernel.accessAllowed ? 'block' : 'none';\n",
              "\n",
              "        async function convertToInteractive(key) {\n",
              "          const element = document.querySelector('#df-c889b290-e5a4-42b5-af19-9eee18b1750d');\n",
              "          const dataTable =\n",
              "            await google.colab.kernel.invokeFunction('convertToInteractive',\n",
              "                                                     [key], {});\n",
              "          if (!dataTable) return;\n",
              "\n",
              "          const docLinkHtml = 'Like what you see? Visit the ' +\n",
              "            '<a target=\"_blank\" href=https://colab.research.google.com/notebooks/data_table.ipynb>data table notebook</a>'\n",
              "            + ' to learn more about interactive tables.';\n",
              "          element.innerHTML = '';\n",
              "          dataTable['output_type'] = 'display_data';\n",
              "          await google.colab.output.renderOutput(dataTable, element);\n",
              "          const docLink = document.createElement('div');\n",
              "          docLink.innerHTML = docLinkHtml;\n",
              "          element.appendChild(docLink);\n",
              "        }\n",
              "      </script>\n",
              "    </div>\n",
              "  </div>\n",
              "  "
            ],
            "text/plain": [
              "              AWND         PGTM         PRCP  ...   WT01  WT02   WT08\n",
              "count  1823.000000    62.000000  1827.000000  ...  551.0  39.0  861.0\n",
              "mean      1.675710  1404.854839     0.035720  ...    1.0   1.0    1.0\n",
              "std       0.909434   350.813754     0.189859  ...    0.0   0.0    0.0\n",
              "min       0.000000   103.000000     0.000000  ...    1.0   1.0    1.0\n",
              "25%       1.120000  1337.500000     0.000000  ...    1.0   1.0    1.0\n",
              "50%       1.570000  1442.500000     0.000000  ...    1.0   1.0    1.0\n",
              "75%       2.010000  1545.000000     0.000000  ...    1.0   1.0    1.0\n",
              "max       8.050000  2314.000000     2.670000  ...    1.0   1.0    1.0\n",
              "\n",
              "[8 rows x 13 columns]"
            ]
          },
          "metadata": {},
          "execution_count": 1556
        }
      ]
    },
    {
      "cell_type": "code",
      "source": [
        "data.info()"
      ],
      "metadata": {
        "colab": {
          "base_uri": "https://localhost:8080/"
        },
        "id": "We7a41AKteUi",
        "outputId": "142c58a4-eb7a-451c-c2aa-2e3ac377e18b"
      },
      "execution_count": null,
      "outputs": [
        {
          "output_type": "stream",
          "name": "stdout",
          "text": [
            "<class 'pandas.core.frame.DataFrame'>\n",
            "RangeIndex: 1827 entries, 0 to 1826\n",
            "Data columns (total 16 columns):\n",
            " #   Column   Non-Null Count  Dtype  \n",
            "---  ------   --------------  -----  \n",
            " 0   STATION  1827 non-null   object \n",
            " 1   NAME     1827 non-null   object \n",
            " 2   DATE     1827 non-null   object \n",
            " 3   AWND     1823 non-null   float64\n",
            " 4   PGTM     62 non-null     float64\n",
            " 5   PRCP     1827 non-null   float64\n",
            " 6   TAVG     0 non-null      float64\n",
            " 7   TMAX     1827 non-null   int64  \n",
            " 8   TMIN     1827 non-null   int64  \n",
            " 9   WDF2     1822 non-null   float64\n",
            " 10  WDF5     1809 non-null   float64\n",
            " 11  WSF2     1823 non-null   float64\n",
            " 12  WSF5     1809 non-null   float64\n",
            " 13  WT01     551 non-null    float64\n",
            " 14  WT02     39 non-null     float64\n",
            " 15  WT08     861 non-null    float64\n",
            "dtypes: float64(11), int64(2), object(3)\n",
            "memory usage: 228.5+ KB\n"
          ]
        }
      ]
    },
    {
      "cell_type": "code",
      "source": [
        "import seaborn as sn\n",
        "import matplotlib.pyplot as plt\n",
        "corrMatrix = data.corr()\n",
        "plt.figure(figsize = (15,15))\n",
        "sn.heatmap(corrMatrix, annot=True)\n",
        "plt.show()"
      ],
      "metadata": {
        "colab": {
          "base_uri": "https://localhost:8080/",
          "height": 867
        },
        "id": "fS4Gmyy8H_At",
        "outputId": "f592f907-4e4a-4c32-a8e4-1c7a97c8b0c7"
      },
      "execution_count": null,
      "outputs": [
        {
          "output_type": "display_data",
          "data": {
            "image/png": "[encoded data removed]",
            "text/plain": [
              "<Figure size 1080x1080 with 2 Axes>"
            ]
          },
          "metadata": {
            "needs_background": "light"
          }
        }
      ]
    },
    {
      "cell_type": "code",
      "source": [
        "data['PRCP'][data.PRCP>0]=1"
      ],
      "metadata": {
        "colab": {
          "base_uri": "https://localhost:8080/"
        },
        "id": "jX_gVTqRibdP",
        "outputId": "e9692480-ac6d-4a7a-e47b-e1b37d6b6636"
      },
      "execution_count": null,
      "outputs": [
        {
          "output_type": "stream",
          "name": "stderr",
          "text": [
            "/usr/local/lib/python3.7/dist-packages/ipykernel_launcher.py:1: SettingWithCopyWarning: \n",
            "A value is trying to be set on a copy of a slice from a DataFrame\n",
            "\n",
            "See the caveats in the documentation: https://pandas.pydata.org/pandas-docs/stable/user_guide/indexing.html#returning-a-view-versus-a-copy\n",
            "  \"\"\"Entry point for launching an IPython kernel.\n"
          ]
        }
      ]
    },
    {
      "cell_type": "code",
      "source": [
        "data['STATION'].unique()\n"
      ],
      "metadata": {
        "colab": {
          "base_uri": "https://localhost:8080/"
        },
        "id": "I91IHc6w_7It",
        "outputId": "9ce1b226-4a68-4680-ce3b-ad26eebd6be8"
      },
      "execution_count": null,
      "outputs": [
        {
          "output_type": "execute_result",
          "data": {
            "text/plain": [
              "array(['USW00093134'], dtype=object)"
            ]
          },
          "metadata": {},
          "execution_count": 1560
        }
      ]
    },
    {
      "cell_type": "code",
      "source": [
        "data['NAME'].unique()"
      ],
      "metadata": {
        "colab": {
          "base_uri": "https://localhost:8080/"
        },
        "id": "tCObcurgAEAj",
        "outputId": "84836609-62ae-4458-918f-40dd5d6e085a"
      },
      "execution_count": null,
      "outputs": [
        {
          "output_type": "execute_result",
          "data": {
            "text/plain": [
              "array(['LOS ANGELES DOWNTOWN USC, CA US'], dtype=object)"
            ]
          },
          "metadata": {},
          "execution_count": 1561
        }
      ]
    },
    {
      "cell_type": "code",
      "source": [
        "data['PGTM'].value_counts()\n",
        "data['PGTM'].isna().sum()"
      ],
      "metadata": {
        "colab": {
          "base_uri": "https://localhost:8080/"
        },
        "id": "S0LZwz-S991U",
        "outputId": "bd96a661-6165-4aad-9222-4eed0b30c45f"
      },
      "execution_count": null,
      "outputs": [
        {
          "output_type": "execute_result",
          "data": {
            "text/plain": [
              "1765"
            ]
          },
          "metadata": {},
          "execution_count": 1562
        }
      ]
    },
    {
      "cell_type": "code",
      "source": [
        "data['TAVG'].isna().sum()"
      ],
      "metadata": {
        "colab": {
          "base_uri": "https://localhost:8080/"
        },
        "id": "7360Ud1Z_Hqv",
        "outputId": "16aea655-fe30-4834-9979-859f9b74301e"
      },
      "execution_count": null,
      "outputs": [
        {
          "output_type": "execute_result",
          "data": {
            "text/plain": [
              "1827"
            ]
          },
          "metadata": {},
          "execution_count": 1563
        }
      ]
    },
    {
      "cell_type": "code",
      "source": [
        "data['WT01'].isna().sum()"
      ],
      "metadata": {
        "colab": {
          "base_uri": "https://localhost:8080/"
        },
        "id": "WcKABVcU_OQh",
        "outputId": "810f33a4-f4ba-4255-a71d-024218f20c77"
      },
      "execution_count": null,
      "outputs": [
        {
          "output_type": "execute_result",
          "data": {
            "text/plain": [
              "1276"
            ]
          },
          "metadata": {},
          "execution_count": 1564
        }
      ]
    },
    {
      "cell_type": "code",
      "source": [
        "data['WT02'].isna().sum()"
      ],
      "metadata": {
        "colab": {
          "base_uri": "https://localhost:8080/"
        },
        "id": "gjPNGQQP_ZsX",
        "outputId": "69bf9961-b292-4adc-9ee7-584a0953a41f"
      },
      "execution_count": null,
      "outputs": [
        {
          "output_type": "execute_result",
          "data": {
            "text/plain": [
              "1788"
            ]
          },
          "metadata": {},
          "execution_count": 1565
        }
      ]
    },
    {
      "cell_type": "code",
      "source": [
        "data['WT08'].isna().sum()"
      ],
      "metadata": {
        "colab": {
          "base_uri": "https://localhost:8080/"
        },
        "id": "VRe1n3rE_dqF",
        "outputId": "95e94c89-3099-4e09-8996-8ac81273c973"
      },
      "execution_count": null,
      "outputs": [
        {
          "output_type": "execute_result",
          "data": {
            "text/plain": [
              "966"
            ]
          },
          "metadata": {},
          "execution_count": 1566
        }
      ]
    },
    {
      "cell_type": "code",
      "source": [
        "data.drop('PGTM',axis=1,inplace=True)\n",
        "data.drop('TAVG',axis=1,inplace=True)\n",
        "data.drop('WT02',axis=1,inplace=True)\n",
        "data.drop('STATION',axis=1,inplace=True)\n",
        "data.drop('NAME',axis=1,inplace=True)\n"
      ],
      "metadata": {
        "id": "bBW28PasExq8"
      },
      "execution_count": null,
      "outputs": []
    },
    {
      "cell_type": "code",
      "source": [
        "data"
      ],
      "metadata": {
        "colab": {
          "base_uri": "https://localhost:8080/",
          "height": 423
        },
        "id": "8rJEZ4iAHV15",
        "outputId": "55947f70-6362-49e9-d5d5-1eb6b243bfe7"
      },
      "execution_count": null,
      "outputs": [
        {
          "output_type": "execute_result",
          "data": {
            "text/html": [
              "\n",
              "  <div id=\"df-b581d458-bb90-4f36-999c-6290bf5f493a\">\n",
              "    <div class=\"colab-df-container\">\n",
              "      <div>\n",
              "<style scoped>\n",
              "    .dataframe tbody tr th:only-of-type {\n",
              "        vertical-align: middle;\n",
              "    }\n",
              "\n",
              "    .dataframe tbody tr th {\n",
              "        vertical-align: top;\n",
              "    }\n",
              "\n",
              "    .dataframe thead th {\n",
              "        text-align: right;\n",
              "    }\n",
              "</style>\n",
              "<table border=\"1\" class=\"dataframe\">\n",
              "  <thead>\n",
              "    <tr style=\"text-align: right;\">\n",
              "      <th></th>\n",
              "      <th>DATE</th>\n",
              "      <th>AWND</th>\n",
              "      <th>PRCP</th>\n",
              "      <th>TMAX</th>\n",
              "      <th>TMIN</th>\n",
              "      <th>WDF2</th>\n",
              "      <th>WDF5</th>\n",
              "      <th>WSF2</th>\n",
              "      <th>WSF5</th>\n",
              "      <th>WT01</th>\n",
              "      <th>WT08</th>\n",
              "    </tr>\n",
              "  </thead>\n",
              "  <tbody>\n",
              "    <tr>\n",
              "      <th>0</th>\n",
              "      <td>2016-01-01</td>\n",
              "      <td>2.46</td>\n",
              "      <td>0.0</td>\n",
              "      <td>64</td>\n",
              "      <td>43</td>\n",
              "      <td>10.0</td>\n",
              "      <td>30.0</td>\n",
              "      <td>8.1</td>\n",
              "      <td>11.0</td>\n",
              "      <td>NaN</td>\n",
              "      <td>1.0</td>\n",
              "    </tr>\n",
              "    <tr>\n",
              "      <th>1</th>\n",
              "      <td>2016-01-02</td>\n",
              "      <td>2.01</td>\n",
              "      <td>0.0</td>\n",
              "      <td>65</td>\n",
              "      <td>47</td>\n",
              "      <td>270.0</td>\n",
              "      <td>30.0</td>\n",
              "      <td>6.0</td>\n",
              "      <td>8.9</td>\n",
              "      <td>NaN</td>\n",
              "      <td>NaN</td>\n",
              "    </tr>\n",
              "    <tr>\n",
              "      <th>2</th>\n",
              "      <td>2016-01-03</td>\n",
              "      <td>0.67</td>\n",
              "      <td>0.0</td>\n",
              "      <td>62</td>\n",
              "      <td>44</td>\n",
              "      <td>150.0</td>\n",
              "      <td>150.0</td>\n",
              "      <td>10.1</td>\n",
              "      <td>14.1</td>\n",
              "      <td>NaN</td>\n",
              "      <td>NaN</td>\n",
              "    </tr>\n",
              "    <tr>\n",
              "      <th>3</th>\n",
              "      <td>2016-01-04</td>\n",
              "      <td>1.34</td>\n",
              "      <td>1.0</td>\n",
              "      <td>69</td>\n",
              "      <td>55</td>\n",
              "      <td>270.0</td>\n",
              "      <td>280.0</td>\n",
              "      <td>8.1</td>\n",
              "      <td>14.1</td>\n",
              "      <td>NaN</td>\n",
              "      <td>NaN</td>\n",
              "    </tr>\n",
              "    <tr>\n",
              "      <th>4</th>\n",
              "      <td>2016-01-05</td>\n",
              "      <td>2.46</td>\n",
              "      <td>1.0</td>\n",
              "      <td>59</td>\n",
              "      <td>49</td>\n",
              "      <td>140.0</td>\n",
              "      <td>140.0</td>\n",
              "      <td>10.1</td>\n",
              "      <td>16.1</td>\n",
              "      <td>1.0</td>\n",
              "      <td>NaN</td>\n",
              "    </tr>\n",
              "    <tr>\n",
              "      <th>...</th>\n",
              "      <td>...</td>\n",
              "      <td>...</td>\n",
              "      <td>...</td>\n",
              "      <td>...</td>\n",
              "      <td>...</td>\n",
              "      <td>...</td>\n",
              "      <td>...</td>\n",
              "      <td>...</td>\n",
              "      <td>...</td>\n",
              "      <td>...</td>\n",
              "      <td>...</td>\n",
              "    </tr>\n",
              "    <tr>\n",
              "      <th>1822</th>\n",
              "      <td>2020-12-27</td>\n",
              "      <td>1.12</td>\n",
              "      <td>1.0</td>\n",
              "      <td>66</td>\n",
              "      <td>55</td>\n",
              "      <td>270.0</td>\n",
              "      <td>260.0</td>\n",
              "      <td>8.9</td>\n",
              "      <td>18.1</td>\n",
              "      <td>1.0</td>\n",
              "      <td>1.0</td>\n",
              "    </tr>\n",
              "    <tr>\n",
              "      <th>1823</th>\n",
              "      <td>2020-12-28</td>\n",
              "      <td>4.70</td>\n",
              "      <td>1.0</td>\n",
              "      <td>56</td>\n",
              "      <td>47</td>\n",
              "      <td>90.0</td>\n",
              "      <td>260.0</td>\n",
              "      <td>14.1</td>\n",
              "      <td>21.0</td>\n",
              "      <td>1.0</td>\n",
              "      <td>NaN</td>\n",
              "    </tr>\n",
              "    <tr>\n",
              "      <th>1824</th>\n",
              "      <td>2020-12-29</td>\n",
              "      <td>1.57</td>\n",
              "      <td>0.0</td>\n",
              "      <td>65</td>\n",
              "      <td>42</td>\n",
              "      <td>340.0</td>\n",
              "      <td>360.0</td>\n",
              "      <td>10.1</td>\n",
              "      <td>18.1</td>\n",
              "      <td>NaN</td>\n",
              "      <td>NaN</td>\n",
              "    </tr>\n",
              "    <tr>\n",
              "      <th>1825</th>\n",
              "      <td>2020-12-30</td>\n",
              "      <td>0.45</td>\n",
              "      <td>0.0</td>\n",
              "      <td>69</td>\n",
              "      <td>44</td>\n",
              "      <td>260.0</td>\n",
              "      <td>260.0</td>\n",
              "      <td>6.9</td>\n",
              "      <td>12.1</td>\n",
              "      <td>NaN</td>\n",
              "      <td>NaN</td>\n",
              "    </tr>\n",
              "    <tr>\n",
              "      <th>1826</th>\n",
              "      <td>2020-12-31</td>\n",
              "      <td>1.57</td>\n",
              "      <td>0.0</td>\n",
              "      <td>70</td>\n",
              "      <td>43</td>\n",
              "      <td>350.0</td>\n",
              "      <td>350.0</td>\n",
              "      <td>12.1</td>\n",
              "      <td>19.9</td>\n",
              "      <td>NaN</td>\n",
              "      <td>NaN</td>\n",
              "    </tr>\n",
              "  </tbody>\n",
              "</table>\n",
              "<p>1827 rows × 11 columns</p>\n",
              "</div>\n",
              "      <button class=\"colab-df-convert\" onclick=\"convertToInteractive('df-b581d458-bb90-4f36-999c-6290bf5f493a')\"\n",
              "              title=\"Convert this dataframe to an interactive table.\"\n",
              "              style=\"display:none;\">\n",
              "        \n",
              "  <svg xmlns=\"http://www.w3.org/2000/svg\" height=\"24px\"viewBox=\"0 0 24 24\"\n",
              "       width=\"24px\">\n",
              "    <path d=\"M0 0h24v24H0V0z\" fill=\"none\"/>\n",
              "    <path d=\"M18.56 5.44l.94 2.06.94-2.06 2.06-.94-2.06-.94-.94-2.06-.94 2.06-2.06.94zm-11 1L8.5 8.5l.94-2.06 2.06-.94-2.06-.94L8.5 2.5l-.94 2.06-2.06.94zm10 10l.94 2.06.94-2.06 2.06-.94-2.06-.94-.94-2.06-.94 2.06-2.06.94z\"/><path d=\"M17.41 7.96l-1.37-1.37c-.4-.4-.92-.59-1.43-.59-.52 0-1.04.2-1.43.59L10.3 9.45l-7.72 7.72c-.78.78-.78 2.05 0 2.83L4 21.41c.39.39.9.59 1.41.59.51 0 1.02-.2 1.41-.59l7.78-7.78 2.81-2.81c.8-.78.8-2.07 0-2.86zM5.41 20L4 18.59l7.72-7.72 1.47 1.35L5.41 20z\"/>\n",
              "  </svg>\n",
              "      </button>\n",
              "      \n",
              "  <style>\n",
              "    .colab-df-container {\n",
              "      display:flex;\n",
              "      flex-wrap:wrap;\n",
              "      gap: 12px;\n",
              "    }\n",
              "\n",
              "    .colab-df-convert {\n",
              "      background-color: #E8F0FE;\n",
              "      border: none;\n",
              "      border-radius: 50%;\n",
              "      cursor: pointer;\n",
              "      display: none;\n",
              "      fill: #1967D2;\n",
              "      height: 32px;\n",
              "      padding: 0 0 0 0;\n",
              "      width: 32px;\n",
              "    }\n",
              "\n",
              "    .colab-df-convert:hover {\n",
              "      background-color: #E2EBFA;\n",
              "      box-shadow: 0px 1px 2px rgba(60, 64, 67, 0.3), 0px 1px 3px 1px rgba(60, 64, 67, 0.15);\n",
              "      fill: #174EA6;\n",
              "    }\n",
              "\n",
              "    [theme=dark] .colab-df-convert {\n",
              "      background-color: #3B4455;\n",
              "      fill: #D2E3FC;\n",
              "    }\n",
              "\n",
              "    [theme=dark] .colab-df-convert:hover {\n",
              "      background-color: #434B5C;\n",
              "      box-shadow: 0px 1px 3px 1px rgba(0, 0, 0, 0.15);\n",
              "      filter: drop-shadow(0px 1px 2px rgba(0, 0, 0, 0.3));\n",
              "      fill: #FFFFFF;\n",
              "    }\n",
              "  </style>\n",
              "\n",
              "      <script>\n",
              "        const buttonEl =\n",
              "          document.querySelector('#df-b581d458-bb90-4f36-999c-6290bf5f493a button.colab-df-convert');\n",
              "        buttonEl.style.display =\n",
              "          google.colab.kernel.accessAllowed ? 'block' : 'none';\n",
              "\n",
              "        async function convertToInteractive(key) {\n",
              "          const element = document.querySelector('#df-b581d458-bb90-4f36-999c-6290bf5f493a');\n",
              "          const dataTable =\n",
              "            await google.colab.kernel.invokeFunction('convertToInteractive',\n",
              "                                                     [key], {});\n",
              "          if (!dataTable) return;\n",
              "\n",
              "          const docLinkHtml = 'Like what you see? Visit the ' +\n",
              "            '<a target=\"_blank\" href=https://colab.research.google.com/notebooks/data_table.ipynb>data table notebook</a>'\n",
              "            + ' to learn more about interactive tables.';\n",
              "          element.innerHTML = '';\n",
              "          dataTable['output_type'] = 'display_data';\n",
              "          await google.colab.output.renderOutput(dataTable, element);\n",
              "          const docLink = document.createElement('div');\n",
              "          docLink.innerHTML = docLinkHtml;\n",
              "          element.appendChild(docLink);\n",
              "        }\n",
              "      </script>\n",
              "    </div>\n",
              "  </div>\n",
              "  "
            ],
            "text/plain": [
              "            DATE  AWND  PRCP  TMAX  TMIN   WDF2   WDF5  WSF2  WSF5  WT01  WT08\n",
              "0     2016-01-01  2.46   0.0    64    43   10.0   30.0   8.1  11.0   NaN   1.0\n",
              "1     2016-01-02  2.01   0.0    65    47  270.0   30.0   6.0   8.9   NaN   NaN\n",
              "2     2016-01-03  0.67   0.0    62    44  150.0  150.0  10.1  14.1   NaN   NaN\n",
              "3     2016-01-04  1.34   1.0    69    55  270.0  280.0   8.1  14.1   NaN   NaN\n",
              "4     2016-01-05  2.46   1.0    59    49  140.0  140.0  10.1  16.1   1.0   NaN\n",
              "...          ...   ...   ...   ...   ...    ...    ...   ...   ...   ...   ...\n",
              "1822  2020-12-27  1.12   1.0    66    55  270.0  260.0   8.9  18.1   1.0   1.0\n",
              "1823  2020-12-28  4.70   1.0    56    47   90.0  260.0  14.1  21.0   1.0   NaN\n",
              "1824  2020-12-29  1.57   0.0    65    42  340.0  360.0  10.1  18.1   NaN   NaN\n",
              "1825  2020-12-30  0.45   0.0    69    44  260.0  260.0   6.9  12.1   NaN   NaN\n",
              "1826  2020-12-31  1.57   0.0    70    43  350.0  350.0  12.1  19.9   NaN   NaN\n",
              "\n",
              "[1827 rows x 11 columns]"
            ]
          },
          "metadata": {},
          "execution_count": 1568
        }
      ]
    },
    {
      "cell_type": "code",
      "source": [
        "data['DATE'].isna().sum()"
      ],
      "metadata": {
        "colab": {
          "base_uri": "https://localhost:8080/"
        },
        "id": "PUOJJPXAdz5p",
        "outputId": "6472a5bd-1d8a-4e36-f58e-bb8944a65922"
      },
      "execution_count": null,
      "outputs": [
        {
          "output_type": "execute_result",
          "data": {
            "text/plain": [
              "0"
            ]
          },
          "metadata": {},
          "execution_count": 1569
        }
      ]
    },
    {
      "cell_type": "code",
      "source": [
        "data['AWND'].isna().sum()"
      ],
      "metadata": {
        "colab": {
          "base_uri": "https://localhost:8080/"
        },
        "id": "qhZ4xgUfd2Zl",
        "outputId": "b62696ab-4235-49f4-d640-9f75ff0cfbee"
      },
      "execution_count": null,
      "outputs": [
        {
          "output_type": "execute_result",
          "data": {
            "text/plain": [
              "4"
            ]
          },
          "metadata": {},
          "execution_count": 1570
        }
      ]
    },
    {
      "cell_type": "code",
      "source": [
        "data['PRCP'].isna().sum()"
      ],
      "metadata": {
        "colab": {
          "base_uri": "https://localhost:8080/"
        },
        "id": "19dCGfYWd8Pn",
        "outputId": "10d44300-0d51-493b-d61b-7dfdaa2da328"
      },
      "execution_count": null,
      "outputs": [
        {
          "output_type": "execute_result",
          "data": {
            "text/plain": [
              "0"
            ]
          },
          "metadata": {},
          "execution_count": 1571
        }
      ]
    },
    {
      "cell_type": "code",
      "source": [
        "data['TMAX'].isna().sum()"
      ],
      "metadata": {
        "colab": {
          "base_uri": "https://localhost:8080/"
        },
        "id": "tsR28zs0d-UX",
        "outputId": "05354817-d3d1-407d-d0d0-c4ab80d37756"
      },
      "execution_count": null,
      "outputs": [
        {
          "output_type": "execute_result",
          "data": {
            "text/plain": [
              "0"
            ]
          },
          "metadata": {},
          "execution_count": 1572
        }
      ]
    },
    {
      "cell_type": "code",
      "source": [
        "data['TMIN'].isna().sum()"
      ],
      "metadata": {
        "colab": {
          "base_uri": "https://localhost:8080/"
        },
        "id": "flww21KYeAQ2",
        "outputId": "820194c0-5646-4575-ad1e-fce7252f614f"
      },
      "execution_count": null,
      "outputs": [
        {
          "output_type": "stream",
          "name": "stderr",
          "text": [
            "/usr/local/lib/python3.7/dist-packages/IPython/core/displayhook.py:260: UserWarning: Output cache limit (currently 1000 entries) hit.\n",
            "Flushing oldest 200 entries.\n",
            "  'Flushing oldest {cull_count} entries.'.format(sz=sz, cull_count=cull_count))\n"
          ]
        },
        {
          "output_type": "execute_result",
          "data": {
            "text/plain": [
              "0"
            ]
          },
          "metadata": {},
          "execution_count": 1573
        }
      ]
    },
    {
      "cell_type": "code",
      "source": [
        "data['WDF2'].isna().sum()"
      ],
      "metadata": {
        "colab": {
          "base_uri": "https://localhost:8080/"
        },
        "id": "ermLm1mYeCP3",
        "outputId": "3d8c49fa-03a3-44ff-dfce-6293f4886e1d"
      },
      "execution_count": null,
      "outputs": [
        {
          "output_type": "execute_result",
          "data": {
            "text/plain": [
              "5"
            ]
          },
          "metadata": {},
          "execution_count": 1574
        }
      ]
    },
    {
      "cell_type": "code",
      "source": [
        "data['WDF5'].isna().sum()"
      ],
      "metadata": {
        "colab": {
          "base_uri": "https://localhost:8080/"
        },
        "id": "vuPHE_DWeGqv",
        "outputId": "db2e94df-633f-4ee6-b079-170a93c5c41e"
      },
      "execution_count": null,
      "outputs": [
        {
          "output_type": "execute_result",
          "data": {
            "text/plain": [
              "18"
            ]
          },
          "metadata": {},
          "execution_count": 1575
        }
      ]
    },
    {
      "cell_type": "code",
      "source": [
        "data['WSF2'].isna().sum()"
      ],
      "metadata": {
        "colab": {
          "base_uri": "https://localhost:8080/"
        },
        "id": "uZ8jKhLDeI83",
        "outputId": "de2b1e29-9792-4b36-ef67-f0601d8c1246"
      },
      "execution_count": null,
      "outputs": [
        {
          "output_type": "execute_result",
          "data": {
            "text/plain": [
              "4"
            ]
          },
          "metadata": {},
          "execution_count": 1576
        }
      ]
    },
    {
      "cell_type": "code",
      "source": [
        "data['WSF5'].isna().sum()"
      ],
      "metadata": {
        "colab": {
          "base_uri": "https://localhost:8080/"
        },
        "id": "w1IIol0feNV8",
        "outputId": "bc54fe9c-132e-4e03-814b-9a620e115020"
      },
      "execution_count": null,
      "outputs": [
        {
          "output_type": "execute_result",
          "data": {
            "text/plain": [
              "18"
            ]
          },
          "metadata": {},
          "execution_count": 1577
        }
      ]
    },
    {
      "cell_type": "code",
      "source": [
        "data['WT01'].isna().sum()"
      ],
      "metadata": {
        "colab": {
          "base_uri": "https://localhost:8080/"
        },
        "id": "bmiHi3icePZ8",
        "outputId": "6d627be5-d5ef-48c3-fc54-10b70dffcba7"
      },
      "execution_count": null,
      "outputs": [
        {
          "output_type": "execute_result",
          "data": {
            "text/plain": [
              "1276"
            ]
          },
          "metadata": {},
          "execution_count": 1578
        }
      ]
    },
    {
      "cell_type": "code",
      "source": [
        "data['WT08'].isna().sum()"
      ],
      "metadata": {
        "colab": {
          "base_uri": "https://localhost:8080/"
        },
        "id": "giIlZp3oeWal",
        "outputId": "09c7fa40-baa0-4a9c-b8b6-74a6148f660c"
      },
      "execution_count": null,
      "outputs": [
        {
          "output_type": "execute_result",
          "data": {
            "text/plain": [
              "966"
            ]
          },
          "metadata": {},
          "execution_count": 1579
        }
      ]
    },
    {
      "cell_type": "code",
      "source": [
        "data['AWND'] = data['AWND'].fillna(data['AWND'].mode()[0])\n",
        "data['WDF2'] = data['WDF2'].fillna(data['WDF2'].mode()[0])\n",
        "data['WDF5'] = data['WDF5'].fillna(data['WDF5'].mode()[0])\n",
        "data['WSF2'] = data['WSF2'].fillna(data['WSF2'].mode()[0])\n",
        "data['WSF5'] = data['WSF5'].fillna(data['WSF5'].mode()[0])\n"
      ],
      "metadata": {
        "id": "Hn_pvW0zeyx9"
      },
      "execution_count": null,
      "outputs": []
    },
    {
      "cell_type": "code",
      "source": [
        "data"
      ],
      "metadata": {
        "colab": {
          "base_uri": "https://localhost:8080/",
          "height": 423
        },
        "id": "puCFY9jAfqy_",
        "outputId": "41849ddb-f03b-4b56-fbdd-87d46a275728"
      },
      "execution_count": null,
      "outputs": [
        {
          "output_type": "execute_result",
          "data": {
            "text/html": [
              "\n",
              "  <div id=\"df-344296e2-6de7-4d9c-9483-9fec0db704ad\">\n",
              "    <div class=\"colab-df-container\">\n",
              "      <div>\n",
              "<style scoped>\n",
              "    .dataframe tbody tr th:only-of-type {\n",
              "        vertical-align: middle;\n",
              "    }\n",
              "\n",
              "    .dataframe tbody tr th {\n",
              "        vertical-align: top;\n",
              "    }\n",
              "\n",
              "    .dataframe thead th {\n",
              "        text-align: right;\n",
              "    }\n",
              "</style>\n",
              "<table border=\"1\" class=\"dataframe\">\n",
              "  <thead>\n",
              "    <tr style=\"text-align: right;\">\n",
              "      <th></th>\n",
              "      <th>DATE</th>\n",
              "      <th>AWND</th>\n",
              "      <th>PRCP</th>\n",
              "      <th>TMAX</th>\n",
              "      <th>TMIN</th>\n",
              "      <th>WDF2</th>\n",
              "      <th>WDF5</th>\n",
              "      <th>WSF2</th>\n",
              "      <th>WSF5</th>\n",
              "      <th>WT01</th>\n",
              "      <th>WT08</th>\n",
              "    </tr>\n",
              "  </thead>\n",
              "  <tbody>\n",
              "    <tr>\n",
              "      <th>0</th>\n",
              "      <td>2016-01-01</td>\n",
              "      <td>2.46</td>\n",
              "      <td>0.0</td>\n",
              "      <td>64</td>\n",
              "      <td>43</td>\n",
              "      <td>10.0</td>\n",
              "      <td>30.0</td>\n",
              "      <td>8.1</td>\n",
              "      <td>11.0</td>\n",
              "      <td>NaN</td>\n",
              "      <td>1.0</td>\n",
              "    </tr>\n",
              "    <tr>\n",
              "      <th>1</th>\n",
              "      <td>2016-01-02</td>\n",
              "      <td>2.01</td>\n",
              "      <td>0.0</td>\n",
              "      <td>65</td>\n",
              "      <td>47</td>\n",
              "      <td>270.0</td>\n",
              "      <td>30.0</td>\n",
              "      <td>6.0</td>\n",
              "      <td>8.9</td>\n",
              "      <td>NaN</td>\n",
              "      <td>NaN</td>\n",
              "    </tr>\n",
              "    <tr>\n",
              "      <th>2</th>\n",
              "      <td>2016-01-03</td>\n",
              "      <td>0.67</td>\n",
              "      <td>0.0</td>\n",
              "      <td>62</td>\n",
              "      <td>44</td>\n",
              "      <td>150.0</td>\n",
              "      <td>150.0</td>\n",
              "      <td>10.1</td>\n",
              "      <td>14.1</td>\n",
              "      <td>NaN</td>\n",
              "      <td>NaN</td>\n",
              "    </tr>\n",
              "    <tr>\n",
              "      <th>3</th>\n",
              "      <td>2016-01-04</td>\n",
              "      <td>1.34</td>\n",
              "      <td>1.0</td>\n",
              "      <td>69</td>\n",
              "      <td>55</td>\n",
              "      <td>270.0</td>\n",
              "      <td>280.0</td>\n",
              "      <td>8.1</td>\n",
              "      <td>14.1</td>\n",
              "      <td>NaN</td>\n",
              "      <td>NaN</td>\n",
              "    </tr>\n",
              "    <tr>\n",
              "      <th>4</th>\n",
              "      <td>2016-01-05</td>\n",
              "      <td>2.46</td>\n",
              "      <td>1.0</td>\n",
              "      <td>59</td>\n",
              "      <td>49</td>\n",
              "      <td>140.0</td>\n",
              "      <td>140.0</td>\n",
              "      <td>10.1</td>\n",
              "      <td>16.1</td>\n",
              "      <td>1.0</td>\n",
              "      <td>NaN</td>\n",
              "    </tr>\n",
              "    <tr>\n",
              "      <th>...</th>\n",
              "      <td>...</td>\n",
              "      <td>...</td>\n",
              "      <td>...</td>\n",
              "      <td>...</td>\n",
              "      <td>...</td>\n",
              "      <td>...</td>\n",
              "      <td>...</td>\n",
              "      <td>...</td>\n",
              "      <td>...</td>\n",
              "      <td>...</td>\n",
              "      <td>...</td>\n",
              "    </tr>\n",
              "    <tr>\n",
              "      <th>1822</th>\n",
              "      <td>2020-12-27</td>\n",
              "      <td>1.12</td>\n",
              "      <td>1.0</td>\n",
              "      <td>66</td>\n",
              "      <td>55</td>\n",
              "      <td>270.0</td>\n",
              "      <td>260.0</td>\n",
              "      <td>8.9</td>\n",
              "      <td>18.1</td>\n",
              "      <td>1.0</td>\n",
              "      <td>1.0</td>\n",
              "    </tr>\n",
              "    <tr>\n",
              "      <th>1823</th>\n",
              "      <td>2020-12-28</td>\n",
              "      <td>4.70</td>\n",
              "      <td>1.0</td>\n",
              "      <td>56</td>\n",
              "      <td>47</td>\n",
              "      <td>90.0</td>\n",
              "      <td>260.0</td>\n",
              "      <td>14.1</td>\n",
              "      <td>21.0</td>\n",
              "      <td>1.0</td>\n",
              "      <td>NaN</td>\n",
              "    </tr>\n",
              "    <tr>\n",
              "      <th>1824</th>\n",
              "      <td>2020-12-29</td>\n",
              "      <td>1.57</td>\n",
              "      <td>0.0</td>\n",
              "      <td>65</td>\n",
              "      <td>42</td>\n",
              "      <td>340.0</td>\n",
              "      <td>360.0</td>\n",
              "      <td>10.1</td>\n",
              "      <td>18.1</td>\n",
              "      <td>NaN</td>\n",
              "      <td>NaN</td>\n",
              "    </tr>\n",
              "    <tr>\n",
              "      <th>1825</th>\n",
              "      <td>2020-12-30</td>\n",
              "      <td>0.45</td>\n",
              "      <td>0.0</td>\n",
              "      <td>69</td>\n",
              "      <td>44</td>\n",
              "      <td>260.0</td>\n",
              "      <td>260.0</td>\n",
              "      <td>6.9</td>\n",
              "      <td>12.1</td>\n",
              "      <td>NaN</td>\n",
              "      <td>NaN</td>\n",
              "    </tr>\n",
              "    <tr>\n",
              "      <th>1826</th>\n",
              "      <td>2020-12-31</td>\n",
              "      <td>1.57</td>\n",
              "      <td>0.0</td>\n",
              "      <td>70</td>\n",
              "      <td>43</td>\n",
              "      <td>350.0</td>\n",
              "      <td>350.0</td>\n",
              "      <td>12.1</td>\n",
              "      <td>19.9</td>\n",
              "      <td>NaN</td>\n",
              "      <td>NaN</td>\n",
              "    </tr>\n",
              "  </tbody>\n",
              "</table>\n",
              "<p>1827 rows × 11 columns</p>\n",
              "</div>\n",
              "      <button class=\"colab-df-convert\" onclick=\"convertToInteractive('df-344296e2-6de7-4d9c-9483-9fec0db704ad')\"\n",
              "              title=\"Convert this dataframe to an interactive table.\"\n",
              "              style=\"display:none;\">\n",
              "        \n",
              "  <svg xmlns=\"http://www.w3.org/2000/svg\" height=\"24px\"viewBox=\"0 0 24 24\"\n",
              "       width=\"24px\">\n",
              "    <path d=\"M0 0h24v24H0V0z\" fill=\"none\"/>\n",
              "    <path d=\"M18.56 5.44l.94 2.06.94-2.06 2.06-.94-2.06-.94-.94-2.06-.94 2.06-2.06.94zm-11 1L8.5 8.5l.94-2.06 2.06-.94-2.06-.94L8.5 2.5l-.94 2.06-2.06.94zm10 10l.94 2.06.94-2.06 2.06-.94-2.06-.94-.94-2.06-.94 2.06-2.06.94z\"/><path d=\"M17.41 7.96l-1.37-1.37c-.4-.4-.92-.59-1.43-.59-.52 0-1.04.2-1.43.59L10.3 9.45l-7.72 7.72c-.78.78-.78 2.05 0 2.83L4 21.41c.39.39.9.59 1.41.59.51 0 1.02-.2 1.41-.59l7.78-7.78 2.81-2.81c.8-.78.8-2.07 0-2.86zM5.41 20L4 18.59l7.72-7.72 1.47 1.35L5.41 20z\"/>\n",
              "  </svg>\n",
              "      </button>\n",
              "      \n",
              "  <style>\n",
              "    .colab-df-container {\n",
              "      display:flex;\n",
              "      flex-wrap:wrap;\n",
              "      gap: 12px;\n",
              "    }\n",
              "\n",
              "    .colab-df-convert {\n",
              "      background-color: #E8F0FE;\n",
              "      border: none;\n",
              "      border-radius: 50%;\n",
              "      cursor: pointer;\n",
              "      display: none;\n",
              "      fill: #1967D2;\n",
              "      height: 32px;\n",
              "      padding: 0 0 0 0;\n",
              "      width: 32px;\n",
              "    }\n",
              "\n",
              "    .colab-df-convert:hover {\n",
              "      background-color: #E2EBFA;\n",
              "      box-shadow: 0px 1px 2px rgba(60, 64, 67, 0.3), 0px 1px 3px 1px rgba(60, 64, 67, 0.15);\n",
              "      fill: #174EA6;\n",
              "    }\n",
              "\n",
              "    [theme=dark] .colab-df-convert {\n",
              "      background-color: #3B4455;\n",
              "      fill: #D2E3FC;\n",
              "    }\n",
              "\n",
              "    [theme=dark] .colab-df-convert:hover {\n",
              "      background-color: #434B5C;\n",
              "      box-shadow: 0px 1px 3px 1px rgba(0, 0, 0, 0.15);\n",
              "      filter: drop-shadow(0px 1px 2px rgba(0, 0, 0, 0.3));\n",
              "      fill: #FFFFFF;\n",
              "    }\n",
              "  </style>\n",
              "\n",
              "      <script>\n",
              "        const buttonEl =\n",
              "          document.querySelector('#df-344296e2-6de7-4d9c-9483-9fec0db704ad button.colab-df-convert');\n",
              "        buttonEl.style.display =\n",
              "          google.colab.kernel.accessAllowed ? 'block' : 'none';\n",
              "\n",
              "        async function convertToInteractive(key) {\n",
              "          const element = document.querySelector('#df-344296e2-6de7-4d9c-9483-9fec0db704ad');\n",
              "          const dataTable =\n",
              "            await google.colab.kernel.invokeFunction('convertToInteractive',\n",
              "                                                     [key], {});\n",
              "          if (!dataTable) return;\n",
              "\n",
              "          const docLinkHtml = 'Like what you see? Visit the ' +\n",
              "            '<a target=\"_blank\" href=https://colab.research.google.com/notebooks/data_table.ipynb>data table notebook</a>'\n",
              "            + ' to learn more about interactive tables.';\n",
              "          element.innerHTML = '';\n",
              "          dataTable['output_type'] = 'display_data';\n",
              "          await google.colab.output.renderOutput(dataTable, element);\n",
              "          const docLink = document.createElement('div');\n",
              "          docLink.innerHTML = docLinkHtml;\n",
              "          element.appendChild(docLink);\n",
              "        }\n",
              "      </script>\n",
              "    </div>\n",
              "  </div>\n",
              "  "
            ],
            "text/plain": [
              "            DATE  AWND  PRCP  TMAX  TMIN   WDF2   WDF5  WSF2  WSF5  WT01  WT08\n",
              "0     2016-01-01  2.46   0.0    64    43   10.0   30.0   8.1  11.0   NaN   1.0\n",
              "1     2016-01-02  2.01   0.0    65    47  270.0   30.0   6.0   8.9   NaN   NaN\n",
              "2     2016-01-03  0.67   0.0    62    44  150.0  150.0  10.1  14.1   NaN   NaN\n",
              "3     2016-01-04  1.34   1.0    69    55  270.0  280.0   8.1  14.1   NaN   NaN\n",
              "4     2016-01-05  2.46   1.0    59    49  140.0  140.0  10.1  16.1   1.0   NaN\n",
              "...          ...   ...   ...   ...   ...    ...    ...   ...   ...   ...   ...\n",
              "1822  2020-12-27  1.12   1.0    66    55  270.0  260.0   8.9  18.1   1.0   1.0\n",
              "1823  2020-12-28  4.70   1.0    56    47   90.0  260.0  14.1  21.0   1.0   NaN\n",
              "1824  2020-12-29  1.57   0.0    65    42  340.0  360.0  10.1  18.1   NaN   NaN\n",
              "1825  2020-12-30  0.45   0.0    69    44  260.0  260.0   6.9  12.1   NaN   NaN\n",
              "1826  2020-12-31  1.57   0.0    70    43  350.0  350.0  12.1  19.9   NaN   NaN\n",
              "\n",
              "[1827 rows x 11 columns]"
            ]
          },
          "metadata": {},
          "execution_count": 1581
        }
      ]
    },
    {
      "cell_type": "code",
      "source": [
        "data['PRCP'].value_counts()"
      ],
      "metadata": {
        "colab": {
          "base_uri": "https://localhost:8080/"
        },
        "id": "ks_GAU_WhaWG",
        "outputId": "b9298b6a-f171-4f8a-d06f-549f5f78bd1d"
      },
      "execution_count": null,
      "outputs": [
        {
          "output_type": "execute_result",
          "data": {
            "text/plain": [
              "0.0    1660\n",
              "1.0     167\n",
              "Name: PRCP, dtype: int64"
            ]
          },
          "metadata": {},
          "execution_count": 1582
        }
      ]
    },
    {
      "cell_type": "code",
      "source": [
        "major_class = data[data['PRCP'] == 0]\n",
        "minor_class = data[data['PRCP'] == 1]\n",
        "\n",
        "print(\"Number of examples with PRCP value 0 =\", major_class.shape[0])\n",
        "print(\"Number of examples with PRCP value 1 =\", minor_class.shape[0])"
      ],
      "metadata": {
        "colab": {
          "base_uri": "https://localhost:8080/"
        },
        "id": "1K3VkaUVqRU8",
        "outputId": "eb6936a6-5f52-4765-e671-4e52a971d683"
      },
      "execution_count": null,
      "outputs": [
        {
          "output_type": "stream",
          "name": "stdout",
          "text": [
            "Number of examples with PRCP value 0 = 1660\n",
            "Number of examples with PRCP value 1 = 167\n"
          ]
        }
      ]
    },
    {
      "cell_type": "code",
      "source": [
        "from sklearn.utils import resample\n",
        "\n",
        "major_class_downsampled = resample(major_class, random_state = 50, replace  = True, n_samples = 913)\n",
        "minor_class_upsampled = resample(minor_class, random_state = 50, replace  = True, n_samples = 914)\n",
        "\n",
        "data = pd.concat([major_class_downsampled, minor_class_upsampled])"
      ],
      "metadata": {
        "id": "l5mabsqWqIJ5"
      },
      "execution_count": null,
      "outputs": []
    },
    {
      "cell_type": "code",
      "source": [
        "data.info()"
      ],
      "metadata": {
        "colab": {
          "base_uri": "https://localhost:8080/"
        },
        "id": "E-gUpnrDkNWN",
        "outputId": "ea1819fc-931b-41c2-a427-96f9b13c4ffd"
      },
      "execution_count": null,
      "outputs": [
        {
          "output_type": "stream",
          "name": "stdout",
          "text": [
            "<class 'pandas.core.frame.DataFrame'>\n",
            "Int64Index: 1827 entries, 1667 to 355\n",
            "Data columns (total 11 columns):\n",
            " #   Column  Non-Null Count  Dtype  \n",
            "---  ------  --------------  -----  \n",
            " 0   DATE    1827 non-null   object \n",
            " 1   AWND    1827 non-null   float64\n",
            " 2   PRCP    1827 non-null   float64\n",
            " 3   TMAX    1827 non-null   int64  \n",
            " 4   TMIN    1827 non-null   int64  \n",
            " 5   WDF2    1827 non-null   float64\n",
            " 6   WDF5    1827 non-null   float64\n",
            " 7   WSF2    1827 non-null   float64\n",
            " 8   WSF5    1827 non-null   float64\n",
            " 9   WT01    950 non-null    float64\n",
            " 10  WT08    731 non-null    float64\n",
            "dtypes: float64(8), int64(2), object(1)\n",
            "memory usage: 171.3+ KB\n"
          ]
        }
      ]
    },
    {
      "cell_type": "code",
      "source": [
        "from sklearn.preprocessing import LabelEncoder  \n",
        "label_encoder_y= LabelEncoder() \n",
        "\n",
        "data['DATE']= label_encoder_y.fit_transform(data['DATE'])\n",
        "data.info()"
      ],
      "metadata": {
        "colab": {
          "base_uri": "https://localhost:8080/"
        },
        "id": "2EQOxaC9p-Xl",
        "outputId": "6085c8f3-b44d-4eb0-8ab6-34e123e54627"
      },
      "execution_count": null,
      "outputs": [
        {
          "output_type": "stream",
          "name": "stdout",
          "text": [
            "<class 'pandas.core.frame.DataFrame'>\n",
            "Int64Index: 1827 entries, 1667 to 355\n",
            "Data columns (total 11 columns):\n",
            " #   Column  Non-Null Count  Dtype  \n",
            "---  ------  --------------  -----  \n",
            " 0   DATE    1827 non-null   int64  \n",
            " 1   AWND    1827 non-null   float64\n",
            " 2   PRCP    1827 non-null   float64\n",
            " 3   TMAX    1827 non-null   int64  \n",
            " 4   TMIN    1827 non-null   int64  \n",
            " 5   WDF2    1827 non-null   float64\n",
            " 6   WDF5    1827 non-null   float64\n",
            " 7   WSF2    1827 non-null   float64\n",
            " 8   WSF5    1827 non-null   float64\n",
            " 9   WT01    950 non-null    float64\n",
            " 10  WT08    731 non-null    float64\n",
            "dtypes: float64(8), int64(3)\n",
            "memory usage: 171.3 KB\n"
          ]
        }
      ]
    },
    {
      "cell_type": "code",
      "source": [
        "data.drop('WT01',axis=1,inplace=True)\n",
        "data.drop('WT08',axis=1,inplace=True)"
      ],
      "metadata": {
        "id": "1pzWIXmEPW95"
      },
      "execution_count": null,
      "outputs": []
    },
    {
      "cell_type": "code",
      "source": [
        "data"
      ],
      "metadata": {
        "colab": {
          "base_uri": "https://localhost:8080/",
          "height": 423
        },
        "id": "fcDz938CvwN9",
        "outputId": "5e4680ac-1f74-457b-894e-c5b5a4699fd1"
      },
      "execution_count": null,
      "outputs": [
        {
          "output_type": "execute_result",
          "data": {
            "text/html": [
              "\n",
              "  <div id=\"df-5052f18e-aab1-4113-a658-1904de99dc60\">\n",
              "    <div class=\"colab-df-container\">\n",
              "      <div>\n",
              "<style scoped>\n",
              "    .dataframe tbody tr th:only-of-type {\n",
              "        vertical-align: middle;\n",
              "    }\n",
              "\n",
              "    .dataframe tbody tr th {\n",
              "        vertical-align: top;\n",
              "    }\n",
              "\n",
              "    .dataframe thead th {\n",
              "        text-align: right;\n",
              "    }\n",
              "</style>\n",
              "<table border=\"1\" class=\"dataframe\">\n",
              "  <thead>\n",
              "    <tr style=\"text-align: right;\">\n",
              "      <th></th>\n",
              "      <th>DATE</th>\n",
              "      <th>AWND</th>\n",
              "      <th>PRCP</th>\n",
              "      <th>TMAX</th>\n",
              "      <th>TMIN</th>\n",
              "      <th>WDF2</th>\n",
              "      <th>WDF5</th>\n",
              "      <th>WSF2</th>\n",
              "      <th>WSF5</th>\n",
              "    </tr>\n",
              "  </thead>\n",
              "  <tbody>\n",
              "    <tr>\n",
              "      <th>1667</th>\n",
              "      <td>826</td>\n",
              "      <td>1.79</td>\n",
              "      <td>0.0</td>\n",
              "      <td>80</td>\n",
              "      <td>61</td>\n",
              "      <td>260.0</td>\n",
              "      <td>260.0</td>\n",
              "      <td>8.9</td>\n",
              "      <td>15.0</td>\n",
              "    </tr>\n",
              "    <tr>\n",
              "      <th>128</th>\n",
              "      <td>58</td>\n",
              "      <td>2.24</td>\n",
              "      <td>0.0</td>\n",
              "      <td>71</td>\n",
              "      <td>57</td>\n",
              "      <td>270.0</td>\n",
              "      <td>270.0</td>\n",
              "      <td>10.1</td>\n",
              "      <td>17.0</td>\n",
              "    </tr>\n",
              "    <tr>\n",
              "      <th>1449</th>\n",
              "      <td>699</td>\n",
              "      <td>1.34</td>\n",
              "      <td>0.0</td>\n",
              "      <td>77</td>\n",
              "      <td>50</td>\n",
              "      <td>100.0</td>\n",
              "      <td>90.0</td>\n",
              "      <td>6.0</td>\n",
              "      <td>8.9</td>\n",
              "    </tr>\n",
              "    <tr>\n",
              "      <th>151</th>\n",
              "      <td>67</td>\n",
              "      <td>2.01</td>\n",
              "      <td>0.0</td>\n",
              "      <td>74</td>\n",
              "      <td>60</td>\n",
              "      <td>270.0</td>\n",
              "      <td>280.0</td>\n",
              "      <td>8.9</td>\n",
              "      <td>14.1</td>\n",
              "    </tr>\n",
              "    <tr>\n",
              "      <th>84</th>\n",
              "      <td>38</td>\n",
              "      <td>1.79</td>\n",
              "      <td>0.0</td>\n",
              "      <td>78</td>\n",
              "      <td>54</td>\n",
              "      <td>280.0</td>\n",
              "      <td>270.0</td>\n",
              "      <td>8.9</td>\n",
              "      <td>14.1</td>\n",
              "    </tr>\n",
              "    <tr>\n",
              "      <th>...</th>\n",
              "      <td>...</td>\n",
              "      <td>...</td>\n",
              "      <td>...</td>\n",
              "      <td>...</td>\n",
              "      <td>...</td>\n",
              "      <td>...</td>\n",
              "      <td>...</td>\n",
              "      <td>...</td>\n",
              "      <td>...</td>\n",
              "    </tr>\n",
              "    <tr>\n",
              "      <th>851</th>\n",
              "      <td>403</td>\n",
              "      <td>2.24</td>\n",
              "      <td>1.0</td>\n",
              "      <td>61</td>\n",
              "      <td>55</td>\n",
              "      <td>150.0</td>\n",
              "      <td>170.0</td>\n",
              "      <td>10.1</td>\n",
              "      <td>15.0</td>\n",
              "    </tr>\n",
              "    <tr>\n",
              "      <th>629</th>\n",
              "      <td>296</td>\n",
              "      <td>2.68</td>\n",
              "      <td>1.0</td>\n",
              "      <td>73</td>\n",
              "      <td>64</td>\n",
              "      <td>270.0</td>\n",
              "      <td>280.0</td>\n",
              "      <td>12.1</td>\n",
              "      <td>18.1</td>\n",
              "    </tr>\n",
              "    <tr>\n",
              "      <th>290</th>\n",
              "      <td>127</td>\n",
              "      <td>2.24</td>\n",
              "      <td>1.0</td>\n",
              "      <td>73</td>\n",
              "      <td>61</td>\n",
              "      <td>280.0</td>\n",
              "      <td>280.0</td>\n",
              "      <td>10.1</td>\n",
              "      <td>15.0</td>\n",
              "    </tr>\n",
              "    <tr>\n",
              "      <th>370</th>\n",
              "      <td>166</td>\n",
              "      <td>3.80</td>\n",
              "      <td>1.0</td>\n",
              "      <td>65</td>\n",
              "      <td>54</td>\n",
              "      <td>270.0</td>\n",
              "      <td>110.0</td>\n",
              "      <td>8.9</td>\n",
              "      <td>13.0</td>\n",
              "    </tr>\n",
              "    <tr>\n",
              "      <th>355</th>\n",
              "      <td>159</td>\n",
              "      <td>2.91</td>\n",
              "      <td>1.0</td>\n",
              "      <td>70</td>\n",
              "      <td>54</td>\n",
              "      <td>110.0</td>\n",
              "      <td>70.0</td>\n",
              "      <td>12.1</td>\n",
              "      <td>19.9</td>\n",
              "    </tr>\n",
              "  </tbody>\n",
              "</table>\n",
              "<p>1827 rows × 9 columns</p>\n",
              "</div>\n",
              "      <button class=\"colab-df-convert\" onclick=\"convertToInteractive('df-5052f18e-aab1-4113-a658-1904de99dc60')\"\n",
              "              title=\"Convert this dataframe to an interactive table.\"\n",
              "              style=\"display:none;\">\n",
              "        \n",
              "  <svg xmlns=\"http://www.w3.org/2000/svg\" height=\"24px\"viewBox=\"0 0 24 24\"\n",
              "       width=\"24px\">\n",
              "    <path d=\"M0 0h24v24H0V0z\" fill=\"none\"/>\n",
              "    <path d=\"M18.56 5.44l.94 2.06.94-2.06 2.06-.94-2.06-.94-.94-2.06-.94 2.06-2.06.94zm-11 1L8.5 8.5l.94-2.06 2.06-.94-2.06-.94L8.5 2.5l-.94 2.06-2.06.94zm10 10l.94 2.06.94-2.06 2.06-.94-2.06-.94-.94-2.06-.94 2.06-2.06.94z\"/><path d=\"M17.41 7.96l-1.37-1.37c-.4-.4-.92-.59-1.43-.59-.52 0-1.04.2-1.43.59L10.3 9.45l-7.72 7.72c-.78.78-.78 2.05 0 2.83L4 21.41c.39.39.9.59 1.41.59.51 0 1.02-.2 1.41-.59l7.78-7.78 2.81-2.81c.8-.78.8-2.07 0-2.86zM5.41 20L4 18.59l7.72-7.72 1.47 1.35L5.41 20z\"/>\n",
              "  </svg>\n",
              "      </button>\n",
              "      \n",
              "  <style>\n",
              "    .colab-df-container {\n",
              "      display:flex;\n",
              "      flex-wrap:wrap;\n",
              "      gap: 12px;\n",
              "    }\n",
              "\n",
              "    .colab-df-convert {\n",
              "      background-color: #E8F0FE;\n",
              "      border: none;\n",
              "      border-radius: 50%;\n",
              "      cursor: pointer;\n",
              "      display: none;\n",
              "      fill: #1967D2;\n",
              "      height: 32px;\n",
              "      padding: 0 0 0 0;\n",
              "      width: 32px;\n",
              "    }\n",
              "\n",
              "    .colab-df-convert:hover {\n",
              "      background-color: #E2EBFA;\n",
              "      box-shadow: 0px 1px 2px rgba(60, 64, 67, 0.3), 0px 1px 3px 1px rgba(60, 64, 67, 0.15);\n",
              "      fill: #174EA6;\n",
              "    }\n",
              "\n",
              "    [theme=dark] .colab-df-convert {\n",
              "      background-color: #3B4455;\n",
              "      fill: #D2E3FC;\n",
              "    }\n",
              "\n",
              "    [theme=dark] .colab-df-convert:hover {\n",
              "      background-color: #434B5C;\n",
              "      box-shadow: 0px 1px 3px 1px rgba(0, 0, 0, 0.15);\n",
              "      filter: drop-shadow(0px 1px 2px rgba(0, 0, 0, 0.3));\n",
              "      fill: #FFFFFF;\n",
              "    }\n",
              "  </style>\n",
              "\n",
              "      <script>\n",
              "        const buttonEl =\n",
              "          document.querySelector('#df-5052f18e-aab1-4113-a658-1904de99dc60 button.colab-df-convert');\n",
              "        buttonEl.style.display =\n",
              "          google.colab.kernel.accessAllowed ? 'block' : 'none';\n",
              "\n",
              "        async function convertToInteractive(key) {\n",
              "          const element = document.querySelector('#df-5052f18e-aab1-4113-a658-1904de99dc60');\n",
              "          const dataTable =\n",
              "            await google.colab.kernel.invokeFunction('convertToInteractive',\n",
              "                                                     [key], {});\n",
              "          if (!dataTable) return;\n",
              "\n",
              "          const docLinkHtml = 'Like what you see? Visit the ' +\n",
              "            '<a target=\"_blank\" href=https://colab.research.google.com/notebooks/data_table.ipynb>data table notebook</a>'\n",
              "            + ' to learn more about interactive tables.';\n",
              "          element.innerHTML = '';\n",
              "          dataTable['output_type'] = 'display_data';\n",
              "          await google.colab.output.renderOutput(dataTable, element);\n",
              "          const docLink = document.createElement('div');\n",
              "          docLink.innerHTML = docLinkHtml;\n",
              "          element.appendChild(docLink);\n",
              "        }\n",
              "      </script>\n",
              "    </div>\n",
              "  </div>\n",
              "  "
            ],
            "text/plain": [
              "      DATE  AWND  PRCP  TMAX  TMIN   WDF2   WDF5  WSF2  WSF5\n",
              "1667   826  1.79   0.0    80    61  260.0  260.0   8.9  15.0\n",
              "128     58  2.24   0.0    71    57  270.0  270.0  10.1  17.0\n",
              "1449   699  1.34   0.0    77    50  100.0   90.0   6.0   8.9\n",
              "151     67  2.01   0.0    74    60  270.0  280.0   8.9  14.1\n",
              "84      38  1.79   0.0    78    54  280.0  270.0   8.9  14.1\n",
              "...    ...   ...   ...   ...   ...    ...    ...   ...   ...\n",
              "851    403  2.24   1.0    61    55  150.0  170.0  10.1  15.0\n",
              "629    296  2.68   1.0    73    64  270.0  280.0  12.1  18.1\n",
              "290    127  2.24   1.0    73    61  280.0  280.0  10.1  15.0\n",
              "370    166  3.80   1.0    65    54  270.0  110.0   8.9  13.0\n",
              "355    159  2.91   1.0    70    54  110.0   70.0  12.1  19.9\n",
              "\n",
              "[1827 rows x 9 columns]"
            ]
          },
          "metadata": {},
          "execution_count": 1588
        }
      ]
    },
    {
      "cell_type": "code",
      "source": [
        "data.describe()"
      ],
      "metadata": {
        "colab": {
          "base_uri": "https://localhost:8080/",
          "height": 300
        },
        "id": "afNK1CxYAxft",
        "outputId": "7a7c05af-5a80-495d-c7a2-ddedcd65110a"
      },
      "execution_count": null,
      "outputs": [
        {
          "output_type": "execute_result",
          "data": {
            "text/html": [
              "\n",
              "  <div id=\"df-34c5e8a7-aa3f-4c13-9529-e4e5ffd4407b\">\n",
              "    <div class=\"colab-df-container\">\n",
              "      <div>\n",
              "<style scoped>\n",
              "    .dataframe tbody tr th:only-of-type {\n",
              "        vertical-align: middle;\n",
              "    }\n",
              "\n",
              "    .dataframe tbody tr th {\n",
              "        vertical-align: top;\n",
              "    }\n",
              "\n",
              "    .dataframe thead th {\n",
              "        text-align: right;\n",
              "    }\n",
              "</style>\n",
              "<table border=\"1\" class=\"dataframe\">\n",
              "  <thead>\n",
              "    <tr style=\"text-align: right;\">\n",
              "      <th></th>\n",
              "      <th>DATE</th>\n",
              "      <th>AWND</th>\n",
              "      <th>PRCP</th>\n",
              "      <th>TMAX</th>\n",
              "      <th>TMIN</th>\n",
              "      <th>WDF2</th>\n",
              "      <th>WDF5</th>\n",
              "      <th>WSF2</th>\n",
              "      <th>WSF5</th>\n",
              "    </tr>\n",
              "  </thead>\n",
              "  <tbody>\n",
              "    <tr>\n",
              "      <th>count</th>\n",
              "      <td>1827.000000</td>\n",
              "      <td>1827.000000</td>\n",
              "      <td>1827.000000</td>\n",
              "      <td>1827.000000</td>\n",
              "      <td>1827.000000</td>\n",
              "      <td>1827.000000</td>\n",
              "      <td>1827.000000</td>\n",
              "      <td>1827.000000</td>\n",
              "      <td>1827.000000</td>\n",
              "    </tr>\n",
              "    <tr>\n",
              "      <th>mean</th>\n",
              "      <td>436.035030</td>\n",
              "      <td>2.071680</td>\n",
              "      <td>0.500274</td>\n",
              "      <td>71.143404</td>\n",
              "      <td>56.060208</td>\n",
              "      <td>228.286809</td>\n",
              "      <td>233.552271</td>\n",
              "      <td>9.646415</td>\n",
              "      <td>15.823153</td>\n",
              "    </tr>\n",
              "    <tr>\n",
              "      <th>std</th>\n",
              "      <td>258.303147</td>\n",
              "      <td>1.225508</td>\n",
              "      <td>0.500137</td>\n",
              "      <td>9.411443</td>\n",
              "      <td>6.417877</td>\n",
              "      <td>78.594366</td>\n",
              "      <td>77.533322</td>\n",
              "      <td>2.459005</td>\n",
              "      <td>4.375594</td>\n",
              "    </tr>\n",
              "    <tr>\n",
              "      <th>min</th>\n",
              "      <td>0.000000</td>\n",
              "      <td>0.000000</td>\n",
              "      <td>0.000000</td>\n",
              "      <td>52.000000</td>\n",
              "      <td>38.000000</td>\n",
              "      <td>10.000000</td>\n",
              "      <td>10.000000</td>\n",
              "      <td>2.900000</td>\n",
              "      <td>6.000000</td>\n",
              "    </tr>\n",
              "    <tr>\n",
              "      <th>25%</th>\n",
              "      <td>193.500000</td>\n",
              "      <td>1.120000</td>\n",
              "      <td>0.000000</td>\n",
              "      <td>64.000000</td>\n",
              "      <td>52.000000</td>\n",
              "      <td>250.000000</td>\n",
              "      <td>260.000000</td>\n",
              "      <td>8.100000</td>\n",
              "      <td>13.000000</td>\n",
              "    </tr>\n",
              "    <tr>\n",
              "      <th>50%</th>\n",
              "      <td>434.000000</td>\n",
              "      <td>1.790000</td>\n",
              "      <td>1.000000</td>\n",
              "      <td>69.000000</td>\n",
              "      <td>55.000000</td>\n",
              "      <td>270.000000</td>\n",
              "      <td>270.000000</td>\n",
              "      <td>8.900000</td>\n",
              "      <td>15.000000</td>\n",
              "    </tr>\n",
              "    <tr>\n",
              "      <th>75%</th>\n",
              "      <td>669.500000</td>\n",
              "      <td>2.460000</td>\n",
              "      <td>1.000000</td>\n",
              "      <td>78.000000</td>\n",
              "      <td>61.000000</td>\n",
              "      <td>270.000000</td>\n",
              "      <td>270.000000</td>\n",
              "      <td>10.100000</td>\n",
              "      <td>17.000000</td>\n",
              "    </tr>\n",
              "    <tr>\n",
              "      <th>max</th>\n",
              "      <td>900.000000</td>\n",
              "      <td>7.160000</td>\n",
              "      <td>1.000000</td>\n",
              "      <td>104.000000</td>\n",
              "      <td>76.000000</td>\n",
              "      <td>360.000000</td>\n",
              "      <td>360.000000</td>\n",
              "      <td>21.000000</td>\n",
              "      <td>34.000000</td>\n",
              "    </tr>\n",
              "  </tbody>\n",
              "</table>\n",
              "</div>\n",
              "      <button class=\"colab-df-convert\" onclick=\"convertToInteractive('df-34c5e8a7-aa3f-4c13-9529-e4e5ffd4407b')\"\n",
              "              title=\"Convert this dataframe to an interactive table.\"\n",
              "              style=\"display:none;\">\n",
              "        \n",
              "  <svg xmlns=\"http://www.w3.org/2000/svg\" height=\"24px\"viewBox=\"0 0 24 24\"\n",
              "       width=\"24px\">\n",
              "    <path d=\"M0 0h24v24H0V0z\" fill=\"none\"/>\n",
              "    <path d=\"M18.56 5.44l.94 2.06.94-2.06 2.06-.94-2.06-.94-.94-2.06-.94 2.06-2.06.94zm-11 1L8.5 8.5l.94-2.06 2.06-.94-2.06-.94L8.5 2.5l-.94 2.06-2.06.94zm10 10l.94 2.06.94-2.06 2.06-.94-2.06-.94-.94-2.06-.94 2.06-2.06.94z\"/><path d=\"M17.41 7.96l-1.37-1.37c-.4-.4-.92-.59-1.43-.59-.52 0-1.04.2-1.43.59L10.3 9.45l-7.72 7.72c-.78.78-.78 2.05 0 2.83L4 21.41c.39.39.9.59 1.41.59.51 0 1.02-.2 1.41-.59l7.78-7.78 2.81-2.81c.8-.78.8-2.07 0-2.86zM5.41 20L4 18.59l7.72-7.72 1.47 1.35L5.41 20z\"/>\n",
              "  </svg>\n",
              "      </button>\n",
              "      \n",
              "  <style>\n",
              "    .colab-df-container {\n",
              "      display:flex;\n",
              "      flex-wrap:wrap;\n",
              "      gap: 12px;\n",
              "    }\n",
              "\n",
              "    .colab-df-convert {\n",
              "      background-color: #E8F0FE;\n",
              "      border: none;\n",
              "      border-radius: 50%;\n",
              "      cursor: pointer;\n",
              "      display: none;\n",
              "      fill: #1967D2;\n",
              "      height: 32px;\n",
              "      padding: 0 0 0 0;\n",
              "      width: 32px;\n",
              "    }\n",
              "\n",
              "    .colab-df-convert:hover {\n",
              "      background-color: #E2EBFA;\n",
              "      box-shadow: 0px 1px 2px rgba(60, 64, 67, 0.3), 0px 1px 3px 1px rgba(60, 64, 67, 0.15);\n",
              "      fill: #174EA6;\n",
              "    }\n",
              "\n",
              "    [theme=dark] .colab-df-convert {\n",
              "      background-color: #3B4455;\n",
              "      fill: #D2E3FC;\n",
              "    }\n",
              "\n",
              "    [theme=dark] .colab-df-convert:hover {\n",
              "      background-color: #434B5C;\n",
              "      box-shadow: 0px 1px 3px 1px rgba(0, 0, 0, 0.15);\n",
              "      filter: drop-shadow(0px 1px 2px rgba(0, 0, 0, 0.3));\n",
              "      fill: #FFFFFF;\n",
              "    }\n",
              "  </style>\n",
              "\n",
              "      <script>\n",
              "        const buttonEl =\n",
              "          document.querySelector('#df-34c5e8a7-aa3f-4c13-9529-e4e5ffd4407b button.colab-df-convert');\n",
              "        buttonEl.style.display =\n",
              "          google.colab.kernel.accessAllowed ? 'block' : 'none';\n",
              "\n",
              "        async function convertToInteractive(key) {\n",
              "          const element = document.querySelector('#df-34c5e8a7-aa3f-4c13-9529-e4e5ffd4407b');\n",
              "          const dataTable =\n",
              "            await google.colab.kernel.invokeFunction('convertToInteractive',\n",
              "                                                     [key], {});\n",
              "          if (!dataTable) return;\n",
              "\n",
              "          const docLinkHtml = 'Like what you see? Visit the ' +\n",
              "            '<a target=\"_blank\" href=https://colab.research.google.com/notebooks/data_table.ipynb>data table notebook</a>'\n",
              "            + ' to learn more about interactive tables.';\n",
              "          element.innerHTML = '';\n",
              "          dataTable['output_type'] = 'display_data';\n",
              "          await google.colab.output.renderOutput(dataTable, element);\n",
              "          const docLink = document.createElement('div');\n",
              "          docLink.innerHTML = docLinkHtml;\n",
              "          element.appendChild(docLink);\n",
              "        }\n",
              "      </script>\n",
              "    </div>\n",
              "  </div>\n",
              "  "
            ],
            "text/plain": [
              "              DATE         AWND  ...         WSF2         WSF5\n",
              "count  1827.000000  1827.000000  ...  1827.000000  1827.000000\n",
              "mean    436.035030     2.071680  ...     9.646415    15.823153\n",
              "std     258.303147     1.225508  ...     2.459005     4.375594\n",
              "min       0.000000     0.000000  ...     2.900000     6.000000\n",
              "25%     193.500000     1.120000  ...     8.100000    13.000000\n",
              "50%     434.000000     1.790000  ...     8.900000    15.000000\n",
              "75%     669.500000     2.460000  ...    10.100000    17.000000\n",
              "max     900.000000     7.160000  ...    21.000000    34.000000\n",
              "\n",
              "[8 rows x 9 columns]"
            ]
          },
          "metadata": {},
          "execution_count": 1589
        }
      ]
    },
    {
      "cell_type": "code",
      "source": [
        "corrMatrix = data.corr()\n",
        "plt.figure(figsize = (17,10))\n",
        "sn.heatmap(corrMatrix, annot=True)\n",
        "plt.show()"
      ],
      "metadata": {
        "id": "1F6EXGApLt0M",
        "colab": {
          "base_uri": "https://localhost:8080/",
          "height": 596
        },
        "outputId": "7dc52f9b-233e-4b51-e75f-238cc7de22ed"
      },
      "execution_count": null,
      "outputs": [
        {
          "output_type": "display_data",
          "data": {
            "image/png": "[encoded data removed]",
            "text/plain": [
              "<Figure size 1224x720 with 2 Axes>"
            ]
          },
          "metadata": {
            "needs_background": "light"
          }
        }
      ]
    },
    {
      "cell_type": "code",
      "source": [
        "from sklearn.preprocessing import MinMaxScaler\n",
        "scaler = MinMaxScaler()\n",
        "scaler.fit(data)\n",
        "scaler.transform(data)"
      ],
      "metadata": {
        "colab": {
          "base_uri": "https://localhost:8080/"
        },
        "id": "UgHly5C0Q9IF",
        "outputId": "6761ebb1-fec6-468e-ff36-f9ca89c9469f"
      },
      "execution_count": null,
      "outputs": [
        {
          "output_type": "execute_result",
          "data": {
            "text/plain": [
              "array([[0.91777778, 0.25      , 0.        , ..., 0.71428571, 0.33149171,\n",
              "        0.32142857],\n",
              "       [0.06444444, 0.31284916, 0.        , ..., 0.74285714, 0.39779006,\n",
              "        0.39285714],\n",
              "       [0.77666667, 0.18715084, 0.        , ..., 0.22857143, 0.17127072,\n",
              "        0.10357143],\n",
              "       ...,\n",
              "       [0.14111111, 0.31284916, 1.        , ..., 0.77142857, 0.39779006,\n",
              "        0.32142857],\n",
              "       [0.18444444, 0.53072626, 1.        , ..., 0.28571429, 0.33149171,\n",
              "        0.25      ],\n",
              "       [0.17666667, 0.40642458, 1.        , ..., 0.17142857, 0.50828729,\n",
              "        0.49642857]])"
            ]
          },
          "metadata": {},
          "execution_count": 1591
        }
      ]
    },
    {
      "cell_type": "code",
      "source": [
        "train_features = ['DATE',\t'AWND',\t'TMAX',\t'TMIN',\t'WDF2',\t'WDF5',\t'WSF2',\t'WSF5']\n",
        "X = data[train_features]\n",
        "y = data.PRCP\n",
        "x1 = X.astype(int)\n",
        "y1 = y.astype(int)"
      ],
      "metadata": {
        "id": "MyalrK7VUSyR"
      },
      "execution_count": null,
      "outputs": []
    },
    {
      "cell_type": "code",
      "source": [
        "from sklearn.feature_selection import chi2\n",
        "from sklearn.feature_selection import SelectKBest"
      ],
      "metadata": {
        "id": "zxLBwEHyPqLb"
      },
      "execution_count": null,
      "outputs": []
    },
    {
      "cell_type": "code",
      "source": [
        "test = SelectKBest(score_func=chi2, k=5)\n",
        "fit = test.fit(x1,y1)   \n",
        "fit.scores_    "
      ],
      "metadata": {
        "colab": {
          "base_uri": "https://localhost:8080/"
        },
        "id": "RJ6YA6AxRDHs",
        "outputId": "0facb820-7c9a-49aa-ea99-70181f3880dd"
      },
      "execution_count": null,
      "outputs": [
        {
          "output_type": "execute_result",
          "data": {
            "text/plain": [
              "array([2304.20403746,  219.05978651, 1032.77267255,  135.69777077,\n",
              "       6972.90924865, 5131.56126124,  107.70009181,  225.43878307])"
            ]
          },
          "metadata": {},
          "execution_count": 1594
        }
      ]
    },
    {
      "cell_type": "code",
      "source": [
        "X_new=test.fit_transform(x1, y1)"
      ],
      "metadata": {
        "id": "m99GSFkh4eRq"
      },
      "execution_count": null,
      "outputs": []
    },
    {
      "cell_type": "code",
      "source": [
        "from sklearn.model_selection import train_test_split\n",
        "x_train,x_test,y_train,y_test=train_test_split(X_new,y1,test_size=0.2,random_state=55)"
      ],
      "metadata": {
        "id": "USLpdrdWTNMB"
      },
      "execution_count": null,
      "outputs": []
    },
    {
      "cell_type": "code",
      "source": [
        "\n",
        "!pip install catboost\n",
        "from catboost import CatBoostClassifier\n"
      ],
      "metadata": {
        "colab": {
          "base_uri": "https://localhost:8080/"
        },
        "id": "i3KM73BLd9Wp",
        "outputId": "50a02d41-752f-49dd-b437-fd5636580b7a"
      },
      "execution_count": null,
      "outputs": [
        {
          "output_type": "stream",
          "name": "stdout",
          "text": [
            "Requirement already satisfied: catboost in /usr/local/lib/python3.7/dist-packages (1.0.3)\n",
            "Requirement already satisfied: matplotlib in /usr/local/lib/python3.7/dist-packages (from catboost) (3.2.2)\n",
            "Requirement already satisfied: plotly in /usr/local/lib/python3.7/dist-packages (from catboost) (4.4.1)\n",
            "Requirement already satisfied: pandas>=0.24.0 in /usr/local/lib/python3.7/dist-packages (from catboost) (1.1.5)\n",
            "Requirement already satisfied: six in /usr/local/lib/python3.7/dist-packages (from catboost) (1.15.0)\n",
            "Requirement already satisfied: numpy>=1.16.0 in /usr/local/lib/python3.7/dist-packages (from catboost) (1.19.5)\n",
            "Requirement already satisfied: scipy in /usr/local/lib/python3.7/dist-packages (from catboost) (1.4.1)\n",
            "Requirement already satisfied: graphviz in /usr/local/lib/python3.7/dist-packages (from catboost) (0.10.1)\n",
            "Requirement already satisfied: pytz>=2017.2 in /usr/local/lib/python3.7/dist-packages (from pandas>=0.24.0->catboost) (2018.9)\n",
            "Requirement already satisfied: python-dateutil>=2.7.3 in /usr/local/lib/python3.7/dist-packages (from pandas>=0.24.0->catboost) (2.8.2)\n",
            "Requirement already satisfied: cycler>=0.10 in /usr/local/lib/python3.7/dist-packages (from matplotlib->catboost) (0.11.0)\n",
            "Requirement already satisfied: pyparsing!=2.0.4,!=2.1.2,!=2.1.6,>=2.0.1 in /usr/local/lib/python3.7/dist-packages (from matplotlib->catboost) (3.0.6)\n",
            "Requirement already satisfied: kiwisolver>=1.0.1 in /usr/local/lib/python3.7/dist-packages (from matplotlib->catboost) (1.3.2)\n",
            "Requirement already satisfied: retrying>=1.3.3 in /usr/local/lib/python3.7/dist-packages (from plotly->catboost) (1.3.3)\n"
          ]
        }
      ]
    },
    {
      "cell_type": "code",
      "source": [
        "from sklearn.metrics import mean_squared_error"
      ],
      "metadata": {
        "id": "Eocr4LLN7Mqg"
      },
      "execution_count": null,
      "outputs": []
    },
    {
      "cell_type": "code",
      "source": [
        "ml = CatBoostClassifier(verbose=0, \n",
        "                        depth=12,\n",
        "                        learning_rate=0.01,\n",
        "                        n_estimators=4000,\n",
        "                        l2_leaf_reg=2,\n",
        "                        od_pval=2,\n",
        "                        od_wait=\"Iter\")"
      ],
      "metadata": {
        "id": "pxdWopcWkQTS"
      },
      "execution_count": null,
      "outputs": []
    },
    {
      "cell_type": "code",
      "source": [
        "ml.fit(x_train, y_train,\n",
        "       verbose=5, early_stopping_rounds=50,\n",
        "       eval_set=[(x_test, y_test)],)\n",
        "y_pred=ml.predict(x_test)"
      ],
      "metadata": {
        "colab": {
          "base_uri": "https://localhost:8080/"
        },
        "id": "jXftlPV0jN71",
        "outputId": "269fb159-7185-469b-844e-10712a1dea20"
      },
      "execution_count": null,
      "outputs": [
        {
          "output_type": "stream",
          "name": "stdout",
          "text": [
            "0:\tlearn: 0.6822162\ttest: 0.6825221\tbest: 0.6825221 (0)\ttotal: 18.6ms\tremaining: 1m 14s\n",
            "5:\tlearn: 0.6363913\ttest: 0.6353789\tbest: 0.6353789 (5)\ttotal: 113ms\tremaining: 1m 15s\n",
            "10:\tlearn: 0.5909343\ttest: 0.5886803\tbest: 0.5886803 (10)\ttotal: 188ms\tremaining: 1m 8s\n",
            "15:\tlearn: 0.5504485\ttest: 0.5489896\tbest: 0.5489896 (15)\ttotal: 276ms\tremaining: 1m 8s\n",
            "20:\tlearn: 0.5188941\ttest: 0.5171894\tbest: 0.5171894 (20)\ttotal: 341ms\tremaining: 1m 4s\n",
            "25:\tlearn: 0.4848905\ttest: 0.4842590\tbest: 0.4842590 (25)\ttotal: 419ms\tremaining: 1m 4s\n",
            "30:\tlearn: 0.4533080\ttest: 0.4530862\tbest: 0.4530862 (30)\ttotal: 503ms\tremaining: 1m 4s\n",
            "35:\tlearn: 0.4259139\ttest: 0.4265868\tbest: 0.4265868 (35)\ttotal: 574ms\tremaining: 1m 3s\n",
            "40:\tlearn: 0.3983679\ttest: 0.3994256\tbest: 0.3994256 (40)\ttotal: 650ms\tremaining: 1m 2s\n",
            "45:\tlearn: 0.3763805\ttest: 0.3776948\tbest: 0.3776948 (45)\ttotal: 724ms\tremaining: 1m 2s\n",
            "50:\tlearn: 0.3607838\ttest: 0.3618481\tbest: 0.3618481 (50)\ttotal: 782ms\tremaining: 1m\n",
            "55:\tlearn: 0.3441054\ttest: 0.3464351\tbest: 0.3464351 (55)\ttotal: 867ms\tremaining: 1m 1s\n",
            "60:\tlearn: 0.3260850\ttest: 0.3294263\tbest: 0.3294263 (60)\ttotal: 940ms\tremaining: 1m\n",
            "65:\tlearn: 0.3120904\ttest: 0.3158327\tbest: 0.3158327 (65)\ttotal: 1s\tremaining: 59.8s\n",
            "70:\tlearn: 0.2991982\ttest: 0.3036781\tbest: 0.3036781 (70)\ttotal: 1.07s\tremaining: 59.5s\n",
            "75:\tlearn: 0.2869338\ttest: 0.2920344\tbest: 0.2920344 (75)\ttotal: 1.14s\tremaining: 58.7s\n",
            "80:\tlearn: 0.2743225\ttest: 0.2802007\tbest: 0.2802007 (80)\ttotal: 1.21s\tremaining: 58.7s\n",
            "85:\tlearn: 0.2648015\ttest: 0.2714139\tbest: 0.2714139 (85)\ttotal: 1.28s\tremaining: 58.2s\n",
            "90:\tlearn: 0.2539906\ttest: 0.2615364\tbest: 0.2615364 (90)\ttotal: 1.35s\tremaining: 58s\n",
            "95:\tlearn: 0.2452062\ttest: 0.2530800\tbest: 0.2530800 (95)\ttotal: 1.42s\tremaining: 57.9s\n",
            "100:\tlearn: 0.2371203\ttest: 0.2458349\tbest: 0.2458349 (100)\ttotal: 1.5s\tremaining: 58s\n",
            "105:\tlearn: 0.2307782\ttest: 0.2396972\tbest: 0.2396972 (105)\ttotal: 1.56s\tremaining: 57.3s\n",
            "110:\tlearn: 0.2237069\ttest: 0.2335398\tbest: 0.2335398 (110)\ttotal: 1.64s\tremaining: 57.5s\n",
            "115:\tlearn: 0.2182581\ttest: 0.2281453\tbest: 0.2281453 (115)\ttotal: 1.72s\tremaining: 57.7s\n",
            "120:\tlearn: 0.2120675\ttest: 0.2228822\tbest: 0.2228822 (120)\ttotal: 1.78s\tremaining: 57.1s\n",
            "125:\tlearn: 0.2069655\ttest: 0.2184320\tbest: 0.2184320 (125)\ttotal: 1.85s\tremaining: 56.9s\n",
            "130:\tlearn: 0.2026158\ttest: 0.2143544\tbest: 0.2143544 (130)\ttotal: 1.91s\tremaining: 56.4s\n",
            "135:\tlearn: 0.1962918\ttest: 0.2092356\tbest: 0.2092356 (135)\ttotal: 1.98s\tremaining: 56.4s\n",
            "140:\tlearn: 0.1908647\ttest: 0.2043612\tbest: 0.2043612 (140)\ttotal: 2.06s\tremaining: 56.4s\n",
            "145:\tlearn: 0.1870418\ttest: 0.2009684\tbest: 0.2009684 (145)\ttotal: 2.13s\tremaining: 56.4s\n",
            "150:\tlearn: 0.1829810\ttest: 0.1976323\tbest: 0.1976323 (150)\ttotal: 2.21s\tremaining: 56.3s\n",
            "155:\tlearn: 0.1795458\ttest: 0.1941589\tbest: 0.1941589 (155)\ttotal: 2.27s\tremaining: 56s\n",
            "160:\tlearn: 0.1750660\ttest: 0.1903261\tbest: 0.1903261 (160)\ttotal: 2.35s\tremaining: 56.1s\n",
            "165:\tlearn: 0.1701099\ttest: 0.1865765\tbest: 0.1865765 (165)\ttotal: 2.43s\tremaining: 56.1s\n",
            "170:\tlearn: 0.1665453\ttest: 0.1834920\tbest: 0.1834920 (170)\ttotal: 2.5s\tremaining: 56.1s\n",
            "175:\tlearn: 0.1633652\ttest: 0.1806661\tbest: 0.1806661 (175)\ttotal: 2.59s\tremaining: 56.3s\n",
            "180:\tlearn: 0.1608999\ttest: 0.1785474\tbest: 0.1785474 (180)\ttotal: 2.65s\tremaining: 56s\n",
            "185:\tlearn: 0.1575580\ttest: 0.1755638\tbest: 0.1755638 (185)\ttotal: 2.71s\tremaining: 55.7s\n",
            "190:\tlearn: 0.1545631\ttest: 0.1731657\tbest: 0.1731657 (190)\ttotal: 2.79s\tremaining: 55.7s\n",
            "195:\tlearn: 0.1508104\ttest: 0.1696816\tbest: 0.1696816 (195)\ttotal: 2.88s\tremaining: 55.9s\n",
            "200:\tlearn: 0.1482854\ttest: 0.1672552\tbest: 0.1672552 (200)\ttotal: 2.95s\tremaining: 55.8s\n",
            "205:\tlearn: 0.1447006\ttest: 0.1644187\tbest: 0.1644187 (205)\ttotal: 3.03s\tremaining: 55.8s\n",
            "210:\tlearn: 0.1418374\ttest: 0.1619365\tbest: 0.1619365 (210)\ttotal: 3.1s\tremaining: 55.7s\n",
            "215:\tlearn: 0.1394738\ttest: 0.1599064\tbest: 0.1599064 (215)\ttotal: 3.17s\tremaining: 55.6s\n",
            "220:\tlearn: 0.1362944\ttest: 0.1573597\tbest: 0.1573597 (220)\ttotal: 3.25s\tremaining: 55.5s\n",
            "225:\tlearn: 0.1336092\ttest: 0.1548574\tbest: 0.1548574 (225)\ttotal: 3.32s\tremaining: 55.4s\n",
            "230:\tlearn: 0.1303238\ttest: 0.1519286\tbest: 0.1519286 (230)\ttotal: 3.4s\tremaining: 55.4s\n",
            "235:\tlearn: 0.1289449\ttest: 0.1506219\tbest: 0.1506219 (235)\ttotal: 3.48s\tremaining: 55.4s\n",
            "240:\tlearn: 0.1276635\ttest: 0.1494913\tbest: 0.1494913 (240)\ttotal: 3.55s\tremaining: 55.4s\n",
            "245:\tlearn: 0.1256217\ttest: 0.1477307\tbest: 0.1477307 (245)\ttotal: 3.61s\tremaining: 55.1s\n",
            "250:\tlearn: 0.1238446\ttest: 0.1460465\tbest: 0.1460465 (250)\ttotal: 3.67s\tremaining: 54.9s\n",
            "255:\tlearn: 0.1222959\ttest: 0.1447167\tbest: 0.1447167 (255)\ttotal: 3.75s\tremaining: 54.8s\n",
            "260:\tlearn: 0.1199143\ttest: 0.1428999\tbest: 0.1428999 (260)\ttotal: 3.82s\tremaining: 54.8s\n",
            "265:\tlearn: 0.1178859\ttest: 0.1411615\tbest: 0.1411615 (265)\ttotal: 3.9s\tremaining: 54.8s\n",
            "270:\tlearn: 0.1160810\ttest: 0.1395640\tbest: 0.1395640 (270)\ttotal: 3.97s\tremaining: 54.6s\n",
            "275:\tlearn: 0.1146508\ttest: 0.1384981\tbest: 0.1384981 (275)\ttotal: 4.04s\tremaining: 54.5s\n",
            "280:\tlearn: 0.1124940\ttest: 0.1369585\tbest: 0.1369585 (280)\ttotal: 4.1s\tremaining: 54.3s\n",
            "285:\tlearn: 0.1103662\ttest: 0.1350602\tbest: 0.1350602 (285)\ttotal: 4.17s\tremaining: 54.2s\n",
            "290:\tlearn: 0.1088720\ttest: 0.1339452\tbest: 0.1339452 (290)\ttotal: 4.25s\tremaining: 54.1s\n",
            "295:\tlearn: 0.1072809\ttest: 0.1329224\tbest: 0.1329224 (295)\ttotal: 4.32s\tremaining: 54.1s\n",
            "300:\tlearn: 0.1059251\ttest: 0.1317640\tbest: 0.1317640 (300)\ttotal: 4.39s\tremaining: 54s\n",
            "305:\tlearn: 0.1041874\ttest: 0.1306308\tbest: 0.1306308 (305)\ttotal: 4.46s\tremaining: 53.9s\n",
            "310:\tlearn: 0.1032920\ttest: 0.1298399\tbest: 0.1298399 (310)\ttotal: 4.53s\tremaining: 53.7s\n",
            "315:\tlearn: 0.1019739\ttest: 0.1287555\tbest: 0.1287555 (315)\ttotal: 4.6s\tremaining: 53.6s\n",
            "320:\tlearn: 0.1003281\ttest: 0.1273609\tbest: 0.1273609 (320)\ttotal: 4.68s\tremaining: 53.7s\n",
            "325:\tlearn: 0.0987884\ttest: 0.1260357\tbest: 0.1260357 (325)\ttotal: 4.76s\tremaining: 53.6s\n",
            "330:\tlearn: 0.0974869\ttest: 0.1249501\tbest: 0.1249501 (330)\ttotal: 4.83s\tremaining: 53.6s\n",
            "335:\tlearn: 0.0965001\ttest: 0.1240839\tbest: 0.1240839 (335)\ttotal: 4.93s\tremaining: 53.7s\n",
            "340:\tlearn: 0.0947892\ttest: 0.1225491\tbest: 0.1225491 (340)\ttotal: 5s\tremaining: 53.7s\n",
            "345:\tlearn: 0.0936550\ttest: 0.1216149\tbest: 0.1216149 (345)\ttotal: 5.08s\tremaining: 53.7s\n",
            "350:\tlearn: 0.0927686\ttest: 0.1209115\tbest: 0.1209115 (350)\ttotal: 5.16s\tremaining: 53.6s\n",
            "355:\tlearn: 0.0912456\ttest: 0.1196296\tbest: 0.1196296 (355)\ttotal: 5.24s\tremaining: 53.6s\n",
            "360:\tlearn: 0.0896692\ttest: 0.1184465\tbest: 0.1184465 (360)\ttotal: 5.33s\tremaining: 53.7s\n",
            "365:\tlearn: 0.0888762\ttest: 0.1178223\tbest: 0.1178223 (365)\ttotal: 5.39s\tremaining: 53.5s\n",
            "370:\tlearn: 0.0880324\ttest: 0.1173452\tbest: 0.1173452 (370)\ttotal: 5.46s\tremaining: 53.4s\n",
            "375:\tlearn: 0.0869341\ttest: 0.1163675\tbest: 0.1163675 (375)\ttotal: 5.54s\tremaining: 53.4s\n",
            "380:\tlearn: 0.0860451\ttest: 0.1156385\tbest: 0.1156385 (380)\ttotal: 5.61s\tremaining: 53.3s\n",
            "385:\tlearn: 0.0848374\ttest: 0.1145098\tbest: 0.1145098 (385)\ttotal: 5.68s\tremaining: 53.2s\n",
            "390:\tlearn: 0.0836404\ttest: 0.1136690\tbest: 0.1136690 (390)\ttotal: 5.75s\tremaining: 53.1s\n",
            "395:\tlearn: 0.0829456\ttest: 0.1130634\tbest: 0.1130634 (395)\ttotal: 5.83s\tremaining: 53.1s\n",
            "400:\tlearn: 0.0821867\ttest: 0.1125464\tbest: 0.1125464 (400)\ttotal: 5.91s\tremaining: 53s\n",
            "405:\tlearn: 0.0812656\ttest: 0.1118398\tbest: 0.1118398 (405)\ttotal: 5.98s\tremaining: 52.9s\n",
            "410:\tlearn: 0.0804232\ttest: 0.1111389\tbest: 0.1111389 (410)\ttotal: 6.05s\tremaining: 52.8s\n",
            "415:\tlearn: 0.0795074\ttest: 0.1106193\tbest: 0.1106193 (415)\ttotal: 6.12s\tremaining: 52.7s\n",
            "420:\tlearn: 0.0785952\ttest: 0.1098760\tbest: 0.1098760 (420)\ttotal: 6.19s\tremaining: 52.6s\n",
            "425:\tlearn: 0.0776576\ttest: 0.1090872\tbest: 0.1090872 (425)\ttotal: 6.27s\tremaining: 52.6s\n",
            "430:\tlearn: 0.0765633\ttest: 0.1082496\tbest: 0.1082496 (430)\ttotal: 6.34s\tremaining: 52.5s\n",
            "435:\tlearn: 0.0759471\ttest: 0.1077859\tbest: 0.1077859 (435)\ttotal: 6.4s\tremaining: 52.4s\n",
            "440:\tlearn: 0.0749341\ttest: 0.1068618\tbest: 0.1068618 (440)\ttotal: 6.49s\tremaining: 52.3s\n",
            "445:\tlearn: 0.0741013\ttest: 0.1060955\tbest: 0.1060955 (445)\ttotal: 6.56s\tremaining: 52.3s\n",
            "450:\tlearn: 0.0732617\ttest: 0.1051502\tbest: 0.1051502 (450)\ttotal: 6.63s\tremaining: 52.2s\n",
            "455:\tlearn: 0.0727942\ttest: 0.1048837\tbest: 0.1048837 (455)\ttotal: 6.71s\tremaining: 52.2s\n",
            "460:\tlearn: 0.0721967\ttest: 0.1042668\tbest: 0.1042668 (460)\ttotal: 6.79s\tremaining: 52.1s\n",
            "465:\tlearn: 0.0714684\ttest: 0.1036015\tbest: 0.1036015 (465)\ttotal: 6.84s\tremaining: 51.9s\n",
            "470:\tlearn: 0.0706488\ttest: 0.1029433\tbest: 0.1029433 (470)\ttotal: 6.91s\tremaining: 51.8s\n",
            "475:\tlearn: 0.0700495\ttest: 0.1023923\tbest: 0.1023923 (475)\ttotal: 6.98s\tremaining: 51.7s\n",
            "480:\tlearn: 0.0692978\ttest: 0.1018812\tbest: 0.1018812 (480)\ttotal: 7.04s\tremaining: 51.5s\n",
            "485:\tlearn: 0.0681140\ttest: 0.1010569\tbest: 0.1010569 (485)\ttotal: 7.12s\tremaining: 51.5s\n",
            "490:\tlearn: 0.0674827\ttest: 0.1005442\tbest: 0.1005442 (490)\ttotal: 7.19s\tremaining: 51.4s\n",
            "495:\tlearn: 0.0667097\ttest: 0.0999423\tbest: 0.0999423 (495)\ttotal: 7.26s\tremaining: 51.3s\n",
            "500:\tlearn: 0.0660173\ttest: 0.0993494\tbest: 0.0993494 (500)\ttotal: 7.33s\tremaining: 51.2s\n",
            "505:\tlearn: 0.0651613\ttest: 0.0984420\tbest: 0.0984420 (505)\ttotal: 7.41s\tremaining: 51.2s\n",
            "510:\tlearn: 0.0644378\ttest: 0.0978711\tbest: 0.0978711 (510)\ttotal: 7.47s\tremaining: 51s\n",
            "515:\tlearn: 0.0636449\ttest: 0.0970894\tbest: 0.0970894 (515)\ttotal: 7.55s\tremaining: 51s\n",
            "520:\tlearn: 0.0628475\ttest: 0.0962111\tbest: 0.0962111 (520)\ttotal: 7.63s\tremaining: 51s\n",
            "525:\tlearn: 0.0624274\ttest: 0.0958046\tbest: 0.0958046 (525)\ttotal: 7.7s\tremaining: 50.8s\n",
            "530:\tlearn: 0.0615825\ttest: 0.0951349\tbest: 0.0951349 (530)\ttotal: 7.77s\tremaining: 50.8s\n",
            "535:\tlearn: 0.0608438\ttest: 0.0945410\tbest: 0.0945410 (535)\ttotal: 7.84s\tremaining: 50.7s\n",
            "540:\tlearn: 0.0602399\ttest: 0.0941313\tbest: 0.0941313 (540)\ttotal: 7.91s\tremaining: 50.6s\n",
            "545:\tlearn: 0.0595341\ttest: 0.0935584\tbest: 0.0935584 (545)\ttotal: 7.98s\tremaining: 50.5s\n",
            "550:\tlearn: 0.0587793\ttest: 0.0928688\tbest: 0.0928688 (550)\ttotal: 8.04s\tremaining: 50.4s\n",
            "555:\tlearn: 0.0582441\ttest: 0.0923705\tbest: 0.0923705 (555)\ttotal: 8.12s\tremaining: 50.3s\n",
            "560:\tlearn: 0.0574933\ttest: 0.0917922\tbest: 0.0917922 (560)\ttotal: 8.2s\tremaining: 50.2s\n",
            "565:\tlearn: 0.0569160\ttest: 0.0913848\tbest: 0.0913848 (565)\ttotal: 8.26s\tremaining: 50.1s\n",
            "570:\tlearn: 0.0563106\ttest: 0.0908403\tbest: 0.0908403 (570)\ttotal: 8.34s\tremaining: 50.1s\n",
            "575:\tlearn: 0.0557937\ttest: 0.0904077\tbest: 0.0904077 (575)\ttotal: 8.41s\tremaining: 50s\n",
            "580:\tlearn: 0.0553425\ttest: 0.0900296\tbest: 0.0900279 (579)\ttotal: 8.49s\tremaining: 50s\n",
            "585:\tlearn: 0.0547836\ttest: 0.0894772\tbest: 0.0894772 (585)\ttotal: 8.55s\tremaining: 49.8s\n",
            "590:\tlearn: 0.0541096\ttest: 0.0889640\tbest: 0.0889640 (590)\ttotal: 8.63s\tremaining: 49.8s\n",
            "595:\tlearn: 0.0534796\ttest: 0.0884960\tbest: 0.0884960 (595)\ttotal: 8.7s\tremaining: 49.7s\n",
            "600:\tlearn: 0.0530015\ttest: 0.0880606\tbest: 0.0880606 (600)\ttotal: 8.79s\tremaining: 49.7s\n",
            "605:\tlearn: 0.0522390\ttest: 0.0873948\tbest: 0.0873948 (605)\ttotal: 8.86s\tremaining: 49.6s\n",
            "610:\tlearn: 0.0517482\ttest: 0.0869621\tbest: 0.0869621 (610)\ttotal: 8.95s\tremaining: 49.6s\n",
            "615:\tlearn: 0.0512936\ttest: 0.0865344\tbest: 0.0865344 (615)\ttotal: 9s\tremaining: 49.5s\n",
            "620:\tlearn: 0.0506987\ttest: 0.0861337\tbest: 0.0861337 (620)\ttotal: 9.08s\tremaining: 49.4s\n",
            "625:\tlearn: 0.0503474\ttest: 0.0858201\tbest: 0.0858201 (625)\ttotal: 9.15s\tremaining: 49.3s\n",
            "630:\tlearn: 0.0499357\ttest: 0.0854847\tbest: 0.0854847 (630)\ttotal: 9.21s\tremaining: 49.2s\n",
            "635:\tlearn: 0.0493426\ttest: 0.0849931\tbest: 0.0849931 (635)\ttotal: 9.28s\tremaining: 49.1s\n",
            "640:\tlearn: 0.0487298\ttest: 0.0845277\tbest: 0.0845277 (640)\ttotal: 9.36s\tremaining: 49s\n",
            "645:\tlearn: 0.0481487\ttest: 0.0840510\tbest: 0.0840510 (645)\ttotal: 9.43s\tremaining: 49s\n",
            "650:\tlearn: 0.0475527\ttest: 0.0835530\tbest: 0.0835530 (650)\ttotal: 9.51s\tremaining: 48.9s\n",
            "655:\tlearn: 0.0470383\ttest: 0.0830615\tbest: 0.0830615 (655)\ttotal: 9.59s\tremaining: 48.9s\n",
            "660:\tlearn: 0.0465411\ttest: 0.0826169\tbest: 0.0826169 (660)\ttotal: 9.66s\tremaining: 48.8s\n",
            "665:\tlearn: 0.0460594\ttest: 0.0821775\tbest: 0.0821775 (665)\ttotal: 9.73s\tremaining: 48.7s\n",
            "670:\tlearn: 0.0455028\ttest: 0.0815742\tbest: 0.0815742 (670)\ttotal: 9.81s\tremaining: 48.7s\n",
            "675:\tlearn: 0.0449409\ttest: 0.0809776\tbest: 0.0809776 (675)\ttotal: 9.89s\tremaining: 48.6s\n",
            "680:\tlearn: 0.0444814\ttest: 0.0805858\tbest: 0.0805858 (680)\ttotal: 9.97s\tremaining: 48.6s\n",
            "685:\tlearn: 0.0439522\ttest: 0.0799147\tbest: 0.0799147 (685)\ttotal: 10.1s\tremaining: 48.6s\n",
            "690:\tlearn: 0.0434828\ttest: 0.0794370\tbest: 0.0794370 (690)\ttotal: 10.1s\tremaining: 48.5s\n",
            "695:\tlearn: 0.0430389\ttest: 0.0789283\tbest: 0.0789283 (695)\ttotal: 10.2s\tremaining: 48.4s\n",
            "700:\tlearn: 0.0425835\ttest: 0.0785036\tbest: 0.0785036 (700)\ttotal: 10.3s\tremaining: 48.4s\n",
            "705:\tlearn: 0.0420541\ttest: 0.0779414\tbest: 0.0779414 (705)\ttotal: 10.3s\tremaining: 48.3s\n",
            "710:\tlearn: 0.0416923\ttest: 0.0776196\tbest: 0.0776196 (710)\ttotal: 10.4s\tremaining: 48.2s\n",
            "715:\tlearn: 0.0412298\ttest: 0.0772682\tbest: 0.0772682 (715)\ttotal: 10.5s\tremaining: 48.1s\n",
            "720:\tlearn: 0.0407731\ttest: 0.0768496\tbest: 0.0768496 (720)\ttotal: 10.6s\tremaining: 48.1s\n",
            "725:\tlearn: 0.0403400\ttest: 0.0765940\tbest: 0.0765940 (725)\ttotal: 10.6s\tremaining: 48s\n",
            "730:\tlearn: 0.0399538\ttest: 0.0762354\tbest: 0.0762354 (730)\ttotal: 10.7s\tremaining: 47.9s\n",
            "735:\tlearn: 0.0395767\ttest: 0.0757992\tbest: 0.0757992 (735)\ttotal: 10.8s\tremaining: 47.9s\n",
            "740:\tlearn: 0.0391271\ttest: 0.0754605\tbest: 0.0754605 (740)\ttotal: 10.9s\tremaining: 47.8s\n",
            "745:\tlearn: 0.0386083\ttest: 0.0749717\tbest: 0.0749717 (745)\ttotal: 10.9s\tremaining: 47.7s\n",
            "750:\tlearn: 0.0382137\ttest: 0.0745676\tbest: 0.0745676 (750)\ttotal: 11s\tremaining: 47.6s\n",
            "755:\tlearn: 0.0378139\ttest: 0.0742417\tbest: 0.0742417 (755)\ttotal: 11.1s\tremaining: 47.6s\n",
            "760:\tlearn: 0.0375107\ttest: 0.0740051\tbest: 0.0740051 (760)\ttotal: 11.2s\tremaining: 47.5s\n",
            "765:\tlearn: 0.0370820\ttest: 0.0736229\tbest: 0.0736229 (765)\ttotal: 11.2s\tremaining: 47.4s\n",
            "770:\tlearn: 0.0366827\ttest: 0.0732910\tbest: 0.0732910 (770)\ttotal: 11.3s\tremaining: 47.4s\n",
            "775:\tlearn: 0.0363373\ttest: 0.0728080\tbest: 0.0728080 (775)\ttotal: 11.4s\tremaining: 47.3s\n",
            "780:\tlearn: 0.0359796\ttest: 0.0724889\tbest: 0.0724889 (780)\ttotal: 11.5s\tremaining: 47.2s\n",
            "785:\tlearn: 0.0355489\ttest: 0.0722322\tbest: 0.0722322 (785)\ttotal: 11.5s\tremaining: 47.1s\n",
            "790:\tlearn: 0.0350813\ttest: 0.0716784\tbest: 0.0716784 (790)\ttotal: 11.6s\tremaining: 47.1s\n",
            "795:\tlearn: 0.0346636\ttest: 0.0713655\tbest: 0.0713655 (795)\ttotal: 11.7s\tremaining: 47s\n",
            "800:\tlearn: 0.0342546\ttest: 0.0710277\tbest: 0.0710277 (800)\ttotal: 11.8s\tremaining: 46.9s\n",
            "805:\tlearn: 0.0338216\ttest: 0.0705267\tbest: 0.0705267 (805)\ttotal: 11.8s\tremaining: 46.9s\n",
            "810:\tlearn: 0.0333699\ttest: 0.0700386\tbest: 0.0700386 (810)\ttotal: 11.9s\tremaining: 46.8s\n",
            "815:\tlearn: 0.0331164\ttest: 0.0698021\tbest: 0.0698021 (815)\ttotal: 12s\tremaining: 46.8s\n",
            "820:\tlearn: 0.0328377\ttest: 0.0694941\tbest: 0.0694941 (820)\ttotal: 12s\tremaining: 46.6s\n",
            "825:\tlearn: 0.0325600\ttest: 0.0692127\tbest: 0.0692127 (825)\ttotal: 12.1s\tremaining: 46.5s\n",
            "830:\tlearn: 0.0322158\ttest: 0.0688697\tbest: 0.0688697 (830)\ttotal: 12.2s\tremaining: 46.5s\n",
            "835:\tlearn: 0.0319186\ttest: 0.0686195\tbest: 0.0686195 (835)\ttotal: 12.3s\tremaining: 46.4s\n",
            "840:\tlearn: 0.0315752\ttest: 0.0682100\tbest: 0.0682100 (840)\ttotal: 12.3s\tremaining: 46.3s\n",
            "845:\tlearn: 0.0312292\ttest: 0.0679219\tbest: 0.0679219 (845)\ttotal: 12.4s\tremaining: 46.3s\n",
            "850:\tlearn: 0.0308942\ttest: 0.0677172\tbest: 0.0677172 (850)\ttotal: 12.5s\tremaining: 46.2s\n",
            "855:\tlearn: 0.0306633\ttest: 0.0673952\tbest: 0.0673952 (855)\ttotal: 12.6s\tremaining: 46.1s\n",
            "860:\tlearn: 0.0304176\ttest: 0.0672017\tbest: 0.0672017 (860)\ttotal: 12.6s\tremaining: 46s\n",
            "865:\tlearn: 0.0300813\ttest: 0.0669096\tbest: 0.0669096 (865)\ttotal: 12.7s\tremaining: 45.9s\n",
            "870:\tlearn: 0.0297376\ttest: 0.0665883\tbest: 0.0665883 (870)\ttotal: 12.8s\tremaining: 45.9s\n",
            "875:\tlearn: 0.0294021\ttest: 0.0662929\tbest: 0.0662929 (875)\ttotal: 12.8s\tremaining: 45.8s\n",
            "880:\tlearn: 0.0291187\ttest: 0.0660447\tbest: 0.0660447 (880)\ttotal: 12.9s\tremaining: 45.7s\n",
            "885:\tlearn: 0.0288063\ttest: 0.0657489\tbest: 0.0657489 (885)\ttotal: 13s\tremaining: 45.7s\n",
            "890:\tlearn: 0.0284321\ttest: 0.0653767\tbest: 0.0653767 (890)\ttotal: 13.1s\tremaining: 45.6s\n",
            "895:\tlearn: 0.0280599\ttest: 0.0650428\tbest: 0.0650428 (895)\ttotal: 13.2s\tremaining: 45.6s\n",
            "900:\tlearn: 0.0277557\ttest: 0.0648584\tbest: 0.0648584 (900)\ttotal: 13.2s\tremaining: 45.5s\n",
            "905:\tlearn: 0.0274997\ttest: 0.0646104\tbest: 0.0646104 (905)\ttotal: 13.3s\tremaining: 45.4s\n",
            "910:\tlearn: 0.0272408\ttest: 0.0644067\tbest: 0.0644067 (910)\ttotal: 13.4s\tremaining: 45.4s\n",
            "915:\tlearn: 0.0269223\ttest: 0.0640716\tbest: 0.0640716 (915)\ttotal: 13.5s\tremaining: 45.3s\n",
            "920:\tlearn: 0.0266162\ttest: 0.0637257\tbest: 0.0637257 (920)\ttotal: 13.5s\tremaining: 45.2s\n",
            "925:\tlearn: 0.0263424\ttest: 0.0634737\tbest: 0.0634737 (925)\ttotal: 13.6s\tremaining: 45.2s\n",
            "930:\tlearn: 0.0261254\ttest: 0.0632817\tbest: 0.0632817 (930)\ttotal: 13.7s\tremaining: 45.1s\n",
            "935:\tlearn: 0.0258524\ttest: 0.0630201\tbest: 0.0630201 (935)\ttotal: 13.8s\tremaining: 45s\n",
            "940:\tlearn: 0.0255772\ttest: 0.0627404\tbest: 0.0627398 (939)\ttotal: 13.8s\tremaining: 44.9s\n",
            "945:\tlearn: 0.0253577\ttest: 0.0625236\tbest: 0.0625236 (945)\ttotal: 13.9s\tremaining: 44.8s\n",
            "950:\tlearn: 0.0251206\ttest: 0.0623463\tbest: 0.0623463 (950)\ttotal: 14s\tremaining: 44.7s\n",
            "955:\tlearn: 0.0248520\ttest: 0.0621423\tbest: 0.0621423 (955)\ttotal: 14s\tremaining: 44.7s\n",
            "960:\tlearn: 0.0246191\ttest: 0.0618906\tbest: 0.0618906 (960)\ttotal: 14.1s\tremaining: 44.6s\n",
            "965:\tlearn: 0.0243803\ttest: 0.0615890\tbest: 0.0615890 (965)\ttotal: 14.2s\tremaining: 44.5s\n",
            "970:\tlearn: 0.0241463\ttest: 0.0613667\tbest: 0.0613667 (970)\ttotal: 14.2s\tremaining: 44.4s\n",
            "975:\tlearn: 0.0239422\ttest: 0.0612054\tbest: 0.0612054 (975)\ttotal: 14.3s\tremaining: 44.4s\n",
            "980:\tlearn: 0.0237121\ttest: 0.0609703\tbest: 0.0609703 (980)\ttotal: 14.4s\tremaining: 44.3s\n",
            "985:\tlearn: 0.0234697\ttest: 0.0607474\tbest: 0.0607474 (985)\ttotal: 14.5s\tremaining: 44.3s\n",
            "990:\tlearn: 0.0232867\ttest: 0.0605683\tbest: 0.0605683 (990)\ttotal: 14.6s\tremaining: 44.2s\n",
            "995:\tlearn: 0.0230504\ttest: 0.0603986\tbest: 0.0603986 (995)\ttotal: 14.6s\tremaining: 44.1s\n",
            "1000:\tlearn: 0.0228615\ttest: 0.0602619\tbest: 0.0602619 (1000)\ttotal: 14.7s\tremaining: 44.1s\n",
            "1005:\tlearn: 0.0226874\ttest: 0.0601118\tbest: 0.0601118 (1005)\ttotal: 14.8s\tremaining: 44s\n",
            "1010:\tlearn: 0.0225279\ttest: 0.0599535\tbest: 0.0599535 (1010)\ttotal: 14.9s\tremaining: 43.9s\n",
            "1015:\tlearn: 0.0223042\ttest: 0.0596086\tbest: 0.0596086 (1015)\ttotal: 14.9s\tremaining: 43.9s\n",
            "1020:\tlearn: 0.0221206\ttest: 0.0594063\tbest: 0.0594063 (1020)\ttotal: 15s\tremaining: 43.8s\n",
            "1025:\tlearn: 0.0219073\ttest: 0.0591401\tbest: 0.0591401 (1025)\ttotal: 15.1s\tremaining: 43.7s\n",
            "1030:\tlearn: 0.0217176\ttest: 0.0589917\tbest: 0.0589917 (1030)\ttotal: 15.2s\tremaining: 43.7s\n",
            "1035:\tlearn: 0.0215356\ttest: 0.0587737\tbest: 0.0587737 (1035)\ttotal: 15.2s\tremaining: 43.6s\n",
            "1040:\tlearn: 0.0213714\ttest: 0.0586063\tbest: 0.0586063 (1040)\ttotal: 15.3s\tremaining: 43.5s\n",
            "1045:\tlearn: 0.0211827\ttest: 0.0584389\tbest: 0.0584389 (1045)\ttotal: 15.4s\tremaining: 43.4s\n",
            "1050:\tlearn: 0.0210040\ttest: 0.0582215\tbest: 0.0582215 (1050)\ttotal: 15.5s\tremaining: 43.4s\n",
            "1055:\tlearn: 0.0208778\ttest: 0.0580481\tbest: 0.0580481 (1055)\ttotal: 15.5s\tremaining: 43.3s\n",
            "1060:\tlearn: 0.0206941\ttest: 0.0577966\tbest: 0.0577934 (1059)\ttotal: 15.6s\tremaining: 43.2s\n",
            "1065:\tlearn: 0.0205402\ttest: 0.0576882\tbest: 0.0576882 (1065)\ttotal: 15.7s\tremaining: 43.1s\n",
            "1070:\tlearn: 0.0204058\ttest: 0.0575185\tbest: 0.0575185 (1070)\ttotal: 15.7s\tremaining: 43s\n",
            "1075:\tlearn: 0.0202782\ttest: 0.0574112\tbest: 0.0574112 (1075)\ttotal: 15.8s\tremaining: 42.9s\n",
            "1080:\tlearn: 0.0201223\ttest: 0.0572040\tbest: 0.0572040 (1080)\ttotal: 15.8s\tremaining: 42.8s\n",
            "1085:\tlearn: 0.0199818\ttest: 0.0570583\tbest: 0.0570583 (1085)\ttotal: 15.9s\tremaining: 42.7s\n",
            "1090:\tlearn: 0.0198370\ttest: 0.0569026\tbest: 0.0569026 (1090)\ttotal: 16s\tremaining: 42.6s\n",
            "1095:\tlearn: 0.0196572\ttest: 0.0566552\tbest: 0.0566552 (1095)\ttotal: 16.1s\tremaining: 42.5s\n",
            "1100:\tlearn: 0.0195447\ttest: 0.0565162\tbest: 0.0565162 (1100)\ttotal: 16.1s\tremaining: 42.4s\n",
            "1105:\tlearn: 0.0194462\ttest: 0.0563816\tbest: 0.0563816 (1105)\ttotal: 16.2s\tremaining: 42.3s\n",
            "1110:\tlearn: 0.0192959\ttest: 0.0561836\tbest: 0.0561836 (1110)\ttotal: 16.2s\tremaining: 42.2s\n",
            "1115:\tlearn: 0.0191679\ttest: 0.0560406\tbest: 0.0560406 (1115)\ttotal: 16.3s\tremaining: 42.1s\n",
            "1120:\tlearn: 0.0190331\ttest: 0.0558564\tbest: 0.0558564 (1120)\ttotal: 16.4s\tremaining: 42s\n",
            "1125:\tlearn: 0.0189074\ttest: 0.0556786\tbest: 0.0556786 (1125)\ttotal: 16.4s\tremaining: 42s\n",
            "1130:\tlearn: 0.0187808\ttest: 0.0555707\tbest: 0.0555707 (1130)\ttotal: 16.5s\tremaining: 41.9s\n",
            "1135:\tlearn: 0.0186353\ttest: 0.0553692\tbest: 0.0553692 (1135)\ttotal: 16.6s\tremaining: 41.8s\n",
            "1140:\tlearn: 0.0184948\ttest: 0.0552622\tbest: 0.0552622 (1140)\ttotal: 16.7s\tremaining: 41.8s\n",
            "1145:\tlearn: 0.0183918\ttest: 0.0551562\tbest: 0.0551562 (1145)\ttotal: 16.7s\tremaining: 41.7s\n",
            "1150:\tlearn: 0.0182590\ttest: 0.0549996\tbest: 0.0549996 (1150)\ttotal: 16.8s\tremaining: 41.6s\n",
            "1155:\tlearn: 0.0181397\ttest: 0.0549021\tbest: 0.0549021 (1155)\ttotal: 16.9s\tremaining: 41.6s\n",
            "1160:\tlearn: 0.0180106\ttest: 0.0547273\tbest: 0.0547273 (1160)\ttotal: 17s\tremaining: 41.5s\n",
            "1165:\tlearn: 0.0178571\ttest: 0.0545957\tbest: 0.0545957 (1165)\ttotal: 17.1s\tremaining: 41.4s\n",
            "1170:\tlearn: 0.0176972\ttest: 0.0545238\tbest: 0.0545238 (1170)\ttotal: 17.1s\tremaining: 41.4s\n",
            "1175:\tlearn: 0.0175620\ttest: 0.0542724\tbest: 0.0542724 (1175)\ttotal: 17.2s\tremaining: 41.3s\n",
            "1180:\tlearn: 0.0174250\ttest: 0.0541558\tbest: 0.0541558 (1180)\ttotal: 17.3s\tremaining: 41.2s\n",
            "1185:\tlearn: 0.0173297\ttest: 0.0540270\tbest: 0.0540270 (1185)\ttotal: 17.3s\tremaining: 41.1s\n",
            "1190:\tlearn: 0.0172078\ttest: 0.0538988\tbest: 0.0538988 (1190)\ttotal: 17.4s\tremaining: 41.1s\n",
            "1195:\tlearn: 0.0170870\ttest: 0.0537808\tbest: 0.0537808 (1195)\ttotal: 17.5s\tremaining: 41s\n",
            "1200:\tlearn: 0.0169584\ttest: 0.0536444\tbest: 0.0536389 (1199)\ttotal: 17.6s\tremaining: 40.9s\n",
            "1205:\tlearn: 0.0168674\ttest: 0.0535996\tbest: 0.0535996 (1205)\ttotal: 17.6s\tremaining: 40.9s\n",
            "1210:\tlearn: 0.0167712\ttest: 0.0534740\tbest: 0.0534738 (1209)\ttotal: 17.7s\tremaining: 40.8s\n",
            "1215:\tlearn: 0.0166568\ttest: 0.0533662\tbest: 0.0533584 (1214)\ttotal: 17.8s\tremaining: 40.7s\n",
            "1220:\tlearn: 0.0165300\ttest: 0.0532981\tbest: 0.0532981 (1220)\ttotal: 17.9s\tremaining: 40.7s\n",
            "1225:\tlearn: 0.0164111\ttest: 0.0531370\tbest: 0.0531370 (1225)\ttotal: 17.9s\tremaining: 40.6s\n",
            "1230:\tlearn: 0.0163093\ttest: 0.0529643\tbest: 0.0529643 (1230)\ttotal: 18s\tremaining: 40.5s\n",
            "1235:\tlearn: 0.0162252\ttest: 0.0528852\tbest: 0.0528852 (1235)\ttotal: 18.1s\tremaining: 40.4s\n",
            "1240:\tlearn: 0.0161383\ttest: 0.0527988\tbest: 0.0527988 (1240)\ttotal: 18.1s\tremaining: 40.3s\n",
            "1245:\tlearn: 0.0160447\ttest: 0.0527211\tbest: 0.0527211 (1245)\ttotal: 18.2s\tremaining: 40.2s\n",
            "1250:\tlearn: 0.0159691\ttest: 0.0526478\tbest: 0.0526478 (1250)\ttotal: 18.3s\tremaining: 40.1s\n",
            "1255:\tlearn: 0.0158899\ttest: 0.0525392\tbest: 0.0525392 (1255)\ttotal: 18.3s\tremaining: 40.1s\n",
            "1260:\tlearn: 0.0157870\ttest: 0.0523944\tbest: 0.0523944 (1260)\ttotal: 18.4s\tremaining: 40s\n",
            "1265:\tlearn: 0.0156946\ttest: 0.0522609\tbest: 0.0522609 (1265)\ttotal: 18.5s\tremaining: 40s\n",
            "1270:\tlearn: 0.0156207\ttest: 0.0521462\tbest: 0.0521462 (1270)\ttotal: 18.5s\tremaining: 39.8s\n",
            "1275:\tlearn: 0.0155239\ttest: 0.0520045\tbest: 0.0520045 (1275)\ttotal: 18.6s\tremaining: 39.7s\n",
            "1280:\tlearn: 0.0154490\ttest: 0.0519024\tbest: 0.0519024 (1280)\ttotal: 18.7s\tremaining: 39.6s\n",
            "1285:\tlearn: 0.0153521\ttest: 0.0518010\tbest: 0.0518010 (1285)\ttotal: 18.7s\tremaining: 39.5s\n",
            "1290:\tlearn: 0.0152633\ttest: 0.0516805\tbest: 0.0516805 (1290)\ttotal: 18.8s\tremaining: 39.4s\n",
            "1295:\tlearn: 0.0151753\ttest: 0.0516025\tbest: 0.0516025 (1295)\ttotal: 18.8s\tremaining: 39.3s\n",
            "1300:\tlearn: 0.0150934\ttest: 0.0514560\tbest: 0.0514560 (1300)\ttotal: 18.9s\tremaining: 39.2s\n",
            "1305:\tlearn: 0.0150116\ttest: 0.0514161\tbest: 0.0514132 (1304)\ttotal: 19s\tremaining: 39.1s\n",
            "1310:\tlearn: 0.0149433\ttest: 0.0513881\tbest: 0.0513839 (1308)\ttotal: 19s\tremaining: 39s\n",
            "1315:\tlearn: 0.0148754\ttest: 0.0513227\tbest: 0.0513227 (1315)\ttotal: 19.1s\tremaining: 38.9s\n",
            "1320:\tlearn: 0.0147823\ttest: 0.0511768\tbest: 0.0511768 (1320)\ttotal: 19.1s\tremaining: 38.8s\n",
            "1325:\tlearn: 0.0147277\ttest: 0.0511363\tbest: 0.0511363 (1325)\ttotal: 19.2s\tremaining: 38.7s\n",
            "1330:\tlearn: 0.0146570\ttest: 0.0510352\tbest: 0.0510352 (1330)\ttotal: 19.3s\tremaining: 38.6s\n",
            "1335:\tlearn: 0.0145879\ttest: 0.0509240\tbest: 0.0509240 (1335)\ttotal: 19.3s\tremaining: 38.5s\n",
            "1340:\tlearn: 0.0145140\ttest: 0.0508428\tbest: 0.0508428 (1340)\ttotal: 19.4s\tremaining: 38.4s\n",
            "1345:\tlearn: 0.0144014\ttest: 0.0506792\tbest: 0.0506792 (1345)\ttotal: 19.4s\tremaining: 38.3s\n",
            "1350:\tlearn: 0.0143132\ttest: 0.0505477\tbest: 0.0505477 (1350)\ttotal: 19.5s\tremaining: 38.3s\n",
            "1355:\tlearn: 0.0142099\ttest: 0.0505499\tbest: 0.0505414 (1352)\ttotal: 19.6s\tremaining: 38.2s\n",
            "1360:\tlearn: 0.0141325\ttest: 0.0504842\tbest: 0.0504842 (1360)\ttotal: 19.6s\tremaining: 38.1s\n",
            "1365:\tlearn: 0.0140247\ttest: 0.0503282\tbest: 0.0503282 (1365)\ttotal: 19.7s\tremaining: 38s\n",
            "1370:\tlearn: 0.0139403\ttest: 0.0503346\tbest: 0.0503282 (1365)\ttotal: 19.8s\tremaining: 37.9s\n",
            "1375:\tlearn: 0.0138709\ttest: 0.0502531\tbest: 0.0502531 (1375)\ttotal: 19.8s\tremaining: 37.8s\n",
            "1380:\tlearn: 0.0137834\ttest: 0.0501599\tbest: 0.0501599 (1380)\ttotal: 19.9s\tremaining: 37.8s\n",
            "1385:\tlearn: 0.0137083\ttest: 0.0500962\tbest: 0.0500962 (1385)\ttotal: 20s\tremaining: 37.7s\n",
            "1390:\tlearn: 0.0136136\ttest: 0.0500148\tbest: 0.0500148 (1390)\ttotal: 20.1s\tremaining: 37.6s\n",
            "1395:\tlearn: 0.0135396\ttest: 0.0498952\tbest: 0.0498813 (1394)\ttotal: 20.1s\tremaining: 37.5s\n",
            "1400:\tlearn: 0.0134376\ttest: 0.0498401\tbest: 0.0498401 (1400)\ttotal: 20.2s\tremaining: 37.5s\n",
            "1405:\tlearn: 0.0133557\ttest: 0.0497678\tbest: 0.0497678 (1405)\ttotal: 20.3s\tremaining: 37.4s\n",
            "1410:\tlearn: 0.0132995\ttest: 0.0497148\tbest: 0.0497147 (1409)\ttotal: 20.3s\tremaining: 37.3s\n",
            "1415:\tlearn: 0.0132342\ttest: 0.0497017\tbest: 0.0496976 (1413)\ttotal: 20.4s\tremaining: 37.2s\n",
            "1420:\tlearn: 0.0131602\ttest: 0.0496254\tbest: 0.0496254 (1420)\ttotal: 20.4s\tremaining: 37.1s\n",
            "1425:\tlearn: 0.0131084\ttest: 0.0495957\tbest: 0.0495957 (1425)\ttotal: 20.5s\tremaining: 37s\n",
            "1430:\tlearn: 0.0130362\ttest: 0.0495292\tbest: 0.0495292 (1430)\ttotal: 20.6s\tremaining: 36.9s\n",
            "1435:\tlearn: 0.0129630\ttest: 0.0494128\tbest: 0.0494128 (1435)\ttotal: 20.6s\tremaining: 36.8s\n",
            "1440:\tlearn: 0.0128582\ttest: 0.0492794\tbest: 0.0492794 (1440)\ttotal: 20.7s\tremaining: 36.8s\n",
            "1445:\tlearn: 0.0127962\ttest: 0.0492368\tbest: 0.0492368 (1445)\ttotal: 20.8s\tremaining: 36.7s\n",
            "1450:\tlearn: 0.0127087\ttest: 0.0491145\tbest: 0.0491145 (1450)\ttotal: 20.9s\tremaining: 36.6s\n",
            "1455:\tlearn: 0.0126451\ttest: 0.0490775\tbest: 0.0490775 (1455)\ttotal: 20.9s\tremaining: 36.6s\n",
            "1460:\tlearn: 0.0125829\ttest: 0.0490275\tbest: 0.0490275 (1460)\ttotal: 21s\tremaining: 36.5s\n",
            "1465:\tlearn: 0.0125361\ttest: 0.0489956\tbest: 0.0489861 (1464)\ttotal: 21.1s\tremaining: 36.4s\n",
            "1470:\tlearn: 0.0124697\ttest: 0.0489275\tbest: 0.0489275 (1470)\ttotal: 21.1s\tremaining: 36.3s\n",
            "1475:\tlearn: 0.0123862\ttest: 0.0489196\tbest: 0.0489196 (1475)\ttotal: 21.2s\tremaining: 36.2s\n",
            "1480:\tlearn: 0.0123182\ttest: 0.0488290\tbest: 0.0488290 (1480)\ttotal: 21.3s\tremaining: 36.2s\n",
            "1485:\tlearn: 0.0122407\ttest: 0.0487211\tbest: 0.0487211 (1485)\ttotal: 21.3s\tremaining: 36.1s\n",
            "1490:\tlearn: 0.0121881\ttest: 0.0486823\tbest: 0.0486823 (1490)\ttotal: 21.4s\tremaining: 36s\n",
            "1495:\tlearn: 0.0121343\ttest: 0.0486815\tbest: 0.0486533 (1493)\ttotal: 21.5s\tremaining: 35.9s\n",
            "1500:\tlearn: 0.0120813\ttest: 0.0486439\tbest: 0.0486439 (1500)\ttotal: 21.5s\tremaining: 35.8s\n",
            "1505:\tlearn: 0.0120192\ttest: 0.0486270\tbest: 0.0486148 (1502)\ttotal: 21.6s\tremaining: 35.8s\n",
            "1510:\tlearn: 0.0119641\ttest: 0.0485571\tbest: 0.0485571 (1510)\ttotal: 21.7s\tremaining: 35.7s\n",
            "1515:\tlearn: 0.0118900\ttest: 0.0484368\tbest: 0.0484368 (1515)\ttotal: 21.7s\tremaining: 35.6s\n",
            "1520:\tlearn: 0.0118211\ttest: 0.0483366\tbest: 0.0483366 (1520)\ttotal: 21.8s\tremaining: 35.5s\n",
            "1525:\tlearn: 0.0117650\ttest: 0.0482863\tbest: 0.0482644 (1524)\ttotal: 21.9s\tremaining: 35.5s\n",
            "1530:\tlearn: 0.0116968\ttest: 0.0481518\tbest: 0.0481518 (1530)\ttotal: 21.9s\tremaining: 35.4s\n",
            "1535:\tlearn: 0.0116615\ttest: 0.0481066\tbest: 0.0481066 (1535)\ttotal: 22s\tremaining: 35.3s\n",
            "1540:\tlearn: 0.0116168\ttest: 0.0480366\tbest: 0.0480366 (1540)\ttotal: 22s\tremaining: 35.2s\n",
            "1545:\tlearn: 0.0115633\ttest: 0.0479782\tbest: 0.0479782 (1545)\ttotal: 22.1s\tremaining: 35.1s\n",
            "1550:\tlearn: 0.0115057\ttest: 0.0478912\tbest: 0.0478912 (1550)\ttotal: 22.2s\tremaining: 35s\n",
            "1555:\tlearn: 0.0114581\ttest: 0.0478412\tbest: 0.0478412 (1555)\ttotal: 22.2s\tremaining: 34.9s\n",
            "1560:\tlearn: 0.0114054\ttest: 0.0477518\tbest: 0.0477518 (1560)\ttotal: 22.3s\tremaining: 34.8s\n",
            "1565:\tlearn: 0.0113441\ttest: 0.0476366\tbest: 0.0476366 (1565)\ttotal: 22.4s\tremaining: 34.8s\n",
            "1570:\tlearn: 0.0112740\ttest: 0.0475426\tbest: 0.0475426 (1570)\ttotal: 22.5s\tremaining: 34.7s\n",
            "1575:\tlearn: 0.0112199\ttest: 0.0474964\tbest: 0.0474964 (1575)\ttotal: 22.5s\tremaining: 34.6s\n",
            "1580:\tlearn: 0.0111761\ttest: 0.0474787\tbest: 0.0474640 (1578)\ttotal: 22.6s\tremaining: 34.5s\n",
            "1585:\tlearn: 0.0111207\ttest: 0.0474518\tbest: 0.0474518 (1585)\ttotal: 22.6s\tremaining: 34.5s\n",
            "1590:\tlearn: 0.0110628\ttest: 0.0474190\tbest: 0.0474022 (1588)\ttotal: 22.7s\tremaining: 34.4s\n",
            "1595:\tlearn: 0.0110198\ttest: 0.0473374\tbest: 0.0473374 (1595)\ttotal: 22.8s\tremaining: 34.3s\n",
            "1600:\tlearn: 0.0109796\ttest: 0.0472431\tbest: 0.0472431 (1600)\ttotal: 22.8s\tremaining: 34.2s\n",
            "1605:\tlearn: 0.0109367\ttest: 0.0471603\tbest: 0.0471603 (1605)\ttotal: 22.9s\tremaining: 34.1s\n",
            "1610:\tlearn: 0.0108845\ttest: 0.0470807\tbest: 0.0470807 (1610)\ttotal: 22.9s\tremaining: 34s\n",
            "1615:\tlearn: 0.0108352\ttest: 0.0470330\tbest: 0.0470330 (1615)\ttotal: 23s\tremaining: 34s\n",
            "1620:\tlearn: 0.0107893\ttest: 0.0470535\tbest: 0.0470187 (1618)\ttotal: 23.1s\tremaining: 33.9s\n",
            "1625:\tlearn: 0.0107597\ttest: 0.0470447\tbest: 0.0470187 (1618)\ttotal: 23.1s\tremaining: 33.8s\n",
            "1630:\tlearn: 0.0107303\ttest: 0.0470129\tbest: 0.0470129 (1630)\ttotal: 23.2s\tremaining: 33.7s\n",
            "1635:\tlearn: 0.0106962\ttest: 0.0469325\tbest: 0.0469325 (1635)\ttotal: 23.2s\tremaining: 33.6s\n",
            "1640:\tlearn: 0.0106440\ttest: 0.0468879\tbest: 0.0468879 (1640)\ttotal: 23.3s\tremaining: 33.5s\n",
            "1645:\tlearn: 0.0105874\ttest: 0.0467665\tbest: 0.0467665 (1645)\ttotal: 23.4s\tremaining: 33.4s\n",
            "1650:\tlearn: 0.0105249\ttest: 0.0467007\tbest: 0.0466972 (1649)\ttotal: 23.5s\tremaining: 33.4s\n",
            "1655:\tlearn: 0.0104726\ttest: 0.0466181\tbest: 0.0466181 (1655)\ttotal: 23.5s\tremaining: 33.3s\n",
            "1660:\tlearn: 0.0104271\ttest: 0.0465680\tbest: 0.0465497 (1658)\ttotal: 23.6s\tremaining: 33.2s\n",
            "1665:\tlearn: 0.0103607\ttest: 0.0464807\tbest: 0.0464807 (1665)\ttotal: 23.7s\tremaining: 33.2s\n",
            "1670:\tlearn: 0.0103171\ttest: 0.0464198\tbest: 0.0464198 (1670)\ttotal: 23.7s\tremaining: 33.1s\n",
            "1675:\tlearn: 0.0102591\ttest: 0.0463244\tbest: 0.0463244 (1675)\ttotal: 23.8s\tremaining: 33s\n",
            "1680:\tlearn: 0.0102180\ttest: 0.0462759\tbest: 0.0462759 (1680)\ttotal: 23.9s\tremaining: 32.9s\n",
            "1685:\tlearn: 0.0101654\ttest: 0.0462429\tbest: 0.0462429 (1685)\ttotal: 23.9s\tremaining: 32.9s\n",
            "1690:\tlearn: 0.0101054\ttest: 0.0461775\tbest: 0.0461775 (1690)\ttotal: 24s\tremaining: 32.8s\n",
            "1695:\tlearn: 0.0100763\ttest: 0.0461323\tbest: 0.0461323 (1695)\ttotal: 24.1s\tremaining: 32.7s\n",
            "1700:\tlearn: 0.0100393\ttest: 0.0460602\tbest: 0.0460602 (1700)\ttotal: 24.1s\tremaining: 32.6s\n",
            "1705:\tlearn: 0.0100017\ttest: 0.0460309\tbest: 0.0460309 (1705)\ttotal: 24.2s\tremaining: 32.5s\n",
            "1710:\tlearn: 0.0099577\ttest: 0.0459427\tbest: 0.0459427 (1710)\ttotal: 24.2s\tremaining: 32.4s\n",
            "1715:\tlearn: 0.0099161\ttest: 0.0458353\tbest: 0.0458353 (1715)\ttotal: 24.3s\tremaining: 32.3s\n",
            "1720:\tlearn: 0.0098839\ttest: 0.0457589\tbest: 0.0457589 (1720)\ttotal: 24.4s\tremaining: 32.3s\n",
            "1725:\tlearn: 0.0098359\ttest: 0.0457330\tbest: 0.0457330 (1725)\ttotal: 24.4s\tremaining: 32.2s\n",
            "1730:\tlearn: 0.0097965\ttest: 0.0456690\tbest: 0.0456690 (1730)\ttotal: 24.5s\tremaining: 32.1s\n",
            "1735:\tlearn: 0.0097576\ttest: 0.0456450\tbest: 0.0456429 (1733)\ttotal: 24.5s\tremaining: 32s\n",
            "1740:\tlearn: 0.0097156\ttest: 0.0456024\tbest: 0.0456024 (1740)\ttotal: 24.6s\tremaining: 31.9s\n",
            "1745:\tlearn: 0.0096739\ttest: 0.0455571\tbest: 0.0455546 (1743)\ttotal: 24.7s\tremaining: 31.8s\n",
            "1750:\tlearn: 0.0096234\ttest: 0.0455093\tbest: 0.0455084 (1749)\ttotal: 24.7s\tremaining: 31.8s\n",
            "1755:\tlearn: 0.0095914\ttest: 0.0455023\tbest: 0.0454863 (1754)\ttotal: 24.8s\tremaining: 31.7s\n",
            "1760:\tlearn: 0.0095574\ttest: 0.0454400\tbest: 0.0454400 (1760)\ttotal: 24.9s\tremaining: 31.6s\n",
            "1765:\tlearn: 0.0095159\ttest: 0.0453754\tbest: 0.0453754 (1765)\ttotal: 25s\tremaining: 31.6s\n",
            "1770:\tlearn: 0.0094908\ttest: 0.0453433\tbest: 0.0453433 (1770)\ttotal: 25s\tremaining: 31.5s\n",
            "1775:\tlearn: 0.0094462\ttest: 0.0453236\tbest: 0.0453236 (1775)\ttotal: 25.1s\tremaining: 31.4s\n",
            "1780:\tlearn: 0.0094102\ttest: 0.0452721\tbest: 0.0452721 (1780)\ttotal: 25.1s\tremaining: 31.3s\n",
            "1785:\tlearn: 0.0093747\ttest: 0.0452408\tbest: 0.0452408 (1785)\ttotal: 25.2s\tremaining: 31.3s\n",
            "1790:\tlearn: 0.0093443\ttest: 0.0451819\tbest: 0.0451819 (1790)\ttotal: 25.3s\tremaining: 31.2s\n",
            "1795:\tlearn: 0.0093090\ttest: 0.0451658\tbest: 0.0451573 (1793)\ttotal: 25.3s\tremaining: 31.1s\n",
            "1800:\tlearn: 0.0092722\ttest: 0.0451595\tbest: 0.0451573 (1793)\ttotal: 25.4s\tremaining: 31s\n",
            "1805:\tlearn: 0.0092383\ttest: 0.0451183\tbest: 0.0451024 (1804)\ttotal: 25.5s\tremaining: 30.9s\n",
            "1810:\tlearn: 0.0091955\ttest: 0.0450891\tbest: 0.0450891 (1810)\ttotal: 25.5s\tremaining: 30.9s\n",
            "1815:\tlearn: 0.0091614\ttest: 0.0450581\tbest: 0.0450581 (1815)\ttotal: 25.6s\tremaining: 30.8s\n",
            "1820:\tlearn: 0.0091238\ttest: 0.0450428\tbest: 0.0450428 (1820)\ttotal: 25.7s\tremaining: 30.7s\n",
            "1825:\tlearn: 0.0090805\ttest: 0.0449765\tbest: 0.0449765 (1825)\ttotal: 25.7s\tremaining: 30.7s\n",
            "1830:\tlearn: 0.0090527\ttest: 0.0449380\tbest: 0.0449380 (1830)\ttotal: 25.8s\tremaining: 30.5s\n",
            "1835:\tlearn: 0.0090125\ttest: 0.0449178\tbest: 0.0449178 (1835)\ttotal: 25.8s\tremaining: 30.5s\n",
            "1840:\tlearn: 0.0089844\ttest: 0.0449142\tbest: 0.0449089 (1839)\ttotal: 25.9s\tremaining: 30.4s\n",
            "1845:\tlearn: 0.0089505\ttest: 0.0448888\tbest: 0.0448888 (1845)\ttotal: 26s\tremaining: 30.3s\n",
            "1850:\tlearn: 0.0089184\ttest: 0.0448319\tbest: 0.0448319 (1850)\ttotal: 26.1s\tremaining: 30.3s\n",
            "1855:\tlearn: 0.0088908\ttest: 0.0447904\tbest: 0.0447904 (1855)\ttotal: 26.1s\tremaining: 30.2s\n",
            "1860:\tlearn: 0.0088565\ttest: 0.0447578\tbest: 0.0447578 (1860)\ttotal: 26.2s\tremaining: 30.1s\n",
            "1865:\tlearn: 0.0088226\ttest: 0.0447293\tbest: 0.0447293 (1865)\ttotal: 26.3s\tremaining: 30s\n",
            "1870:\tlearn: 0.0087884\ttest: 0.0446921\tbest: 0.0446921 (1870)\ttotal: 26.4s\tremaining: 30s\n",
            "1875:\tlearn: 0.0087682\ttest: 0.0446390\tbest: 0.0446390 (1875)\ttotal: 26.4s\tremaining: 29.9s\n",
            "1880:\tlearn: 0.0087354\ttest: 0.0445971\tbest: 0.0445971 (1880)\ttotal: 26.5s\tremaining: 29.8s\n",
            "1885:\tlearn: 0.0087054\ttest: 0.0445897\tbest: 0.0445865 (1883)\ttotal: 26.5s\tremaining: 29.7s\n",
            "1890:\tlearn: 0.0086817\ttest: 0.0445503\tbest: 0.0445503 (1890)\ttotal: 26.6s\tremaining: 29.7s\n",
            "1895:\tlearn: 0.0086524\ttest: 0.0445200\tbest: 0.0445200 (1895)\ttotal: 26.7s\tremaining: 29.6s\n",
            "1900:\tlearn: 0.0086243\ttest: 0.0445011\tbest: 0.0445011 (1900)\ttotal: 26.7s\tremaining: 29.5s\n",
            "1905:\tlearn: 0.0085916\ttest: 0.0444787\tbest: 0.0444787 (1905)\ttotal: 26.8s\tremaining: 29.4s\n",
            "1910:\tlearn: 0.0085493\ttest: 0.0444067\tbest: 0.0444067 (1910)\ttotal: 26.8s\tremaining: 29.3s\n",
            "1915:\tlearn: 0.0085196\ttest: 0.0443784\tbest: 0.0443784 (1915)\ttotal: 26.9s\tremaining: 29.3s\n",
            "1920:\tlearn: 0.0084889\ttest: 0.0443553\tbest: 0.0443553 (1920)\ttotal: 27s\tremaining: 29.2s\n",
            "1925:\tlearn: 0.0084663\ttest: 0.0443024\tbest: 0.0443024 (1925)\ttotal: 27s\tremaining: 29.1s\n",
            "1930:\tlearn: 0.0084353\ttest: 0.0442890\tbest: 0.0442790 (1929)\ttotal: 27.1s\tremaining: 29s\n",
            "1935:\tlearn: 0.0084143\ttest: 0.0442645\tbest: 0.0442645 (1935)\ttotal: 27.2s\tremaining: 29s\n",
            "1940:\tlearn: 0.0083811\ttest: 0.0442313\tbest: 0.0442265 (1938)\ttotal: 27.2s\tremaining: 28.9s\n",
            "1945:\tlearn: 0.0083555\ttest: 0.0442154\tbest: 0.0442154 (1945)\ttotal: 27.3s\tremaining: 28.8s\n",
            "1950:\tlearn: 0.0083253\ttest: 0.0441534\tbest: 0.0441534 (1950)\ttotal: 27.4s\tremaining: 28.7s\n",
            "1955:\tlearn: 0.0082950\ttest: 0.0441141\tbest: 0.0441141 (1955)\ttotal: 27.4s\tremaining: 28.7s\n",
            "1960:\tlearn: 0.0082728\ttest: 0.0440868\tbest: 0.0440868 (1960)\ttotal: 27.5s\tremaining: 28.6s\n",
            "1965:\tlearn: 0.0082419\ttest: 0.0440728\tbest: 0.0440693 (1963)\ttotal: 27.5s\tremaining: 28.5s\n",
            "1970:\tlearn: 0.0082089\ttest: 0.0440560\tbest: 0.0440538 (1969)\ttotal: 27.6s\tremaining: 28.4s\n",
            "1975:\tlearn: 0.0081828\ttest: 0.0440146\tbest: 0.0440146 (1975)\ttotal: 27.7s\tremaining: 28.3s\n",
            "1980:\tlearn: 0.0081557\ttest: 0.0439650\tbest: 0.0439650 (1980)\ttotal: 27.7s\tremaining: 28.3s\n",
            "1985:\tlearn: 0.0081158\ttest: 0.0439448\tbest: 0.0439448 (1985)\ttotal: 27.8s\tremaining: 28.2s\n",
            "1990:\tlearn: 0.0080780\ttest: 0.0438689\tbest: 0.0438689 (1990)\ttotal: 27.9s\tremaining: 28.1s\n",
            "1995:\tlearn: 0.0080421\ttest: 0.0438498\tbest: 0.0438498 (1995)\ttotal: 28s\tremaining: 28.1s\n",
            "2000:\tlearn: 0.0080084\ttest: 0.0437442\tbest: 0.0437442 (2000)\ttotal: 28s\tremaining: 28s\n",
            "2005:\tlearn: 0.0079815\ttest: 0.0436857\tbest: 0.0436857 (2005)\ttotal: 28.1s\tremaining: 27.9s\n",
            "2010:\tlearn: 0.0079528\ttest: 0.0436584\tbest: 0.0436584 (2010)\ttotal: 28.2s\tremaining: 27.9s\n",
            "2015:\tlearn: 0.0079244\ttest: 0.0435592\tbest: 0.0435592 (2015)\ttotal: 28.2s\tremaining: 27.8s\n",
            "2020:\tlearn: 0.0078961\ttest: 0.0435522\tbest: 0.0435520 (2018)\ttotal: 28.3s\tremaining: 27.7s\n",
            "2025:\tlearn: 0.0078773\ttest: 0.0435084\tbest: 0.0435084 (2025)\ttotal: 28.4s\tremaining: 27.7s\n",
            "2030:\tlearn: 0.0078528\ttest: 0.0434594\tbest: 0.0434594 (2030)\ttotal: 28.5s\tremaining: 27.6s\n",
            "2035:\tlearn: 0.0078232\ttest: 0.0434406\tbest: 0.0434406 (2035)\ttotal: 28.5s\tremaining: 27.5s\n",
            "2040:\tlearn: 0.0078075\ttest: 0.0434051\tbest: 0.0434051 (2040)\ttotal: 28.6s\tremaining: 27.4s\n",
            "2045:\tlearn: 0.0077794\ttest: 0.0434156\tbest: 0.0433941 (2042)\ttotal: 28.7s\tremaining: 27.4s\n",
            "2050:\tlearn: 0.0077539\ttest: 0.0433784\tbest: 0.0433784 (2050)\ttotal: 28.7s\tremaining: 27.3s\n",
            "2055:\tlearn: 0.0077391\ttest: 0.0433534\tbest: 0.0433534 (2055)\ttotal: 28.8s\tremaining: 27.2s\n",
            "2060:\tlearn: 0.0077075\ttest: 0.0433214\tbest: 0.0433214 (2060)\ttotal: 28.9s\tremaining: 27.1s\n",
            "2065:\tlearn: 0.0076734\ttest: 0.0432539\tbest: 0.0432539 (2065)\ttotal: 28.9s\tremaining: 27.1s\n",
            "2070:\tlearn: 0.0076516\ttest: 0.0432368\tbest: 0.0432368 (2070)\ttotal: 29s\tremaining: 27s\n",
            "2075:\tlearn: 0.0076230\ttest: 0.0432595\tbest: 0.0432237 (2072)\ttotal: 29.1s\tremaining: 26.9s\n",
            "2080:\tlearn: 0.0076087\ttest: 0.0432497\tbest: 0.0432237 (2072)\ttotal: 29.1s\tremaining: 26.8s\n",
            "2085:\tlearn: 0.0075846\ttest: 0.0432587\tbest: 0.0432237 (2072)\ttotal: 29.2s\tremaining: 26.8s\n",
            "2090:\tlearn: 0.0075603\ttest: 0.0432497\tbest: 0.0432237 (2072)\ttotal: 29.3s\tremaining: 26.7s\n",
            "2095:\tlearn: 0.0075357\ttest: 0.0432174\tbest: 0.0432174 (2095)\ttotal: 29.3s\tremaining: 26.6s\n",
            "2100:\tlearn: 0.0075066\ttest: 0.0431738\tbest: 0.0431738 (2100)\ttotal: 29.4s\tremaining: 26.6s\n",
            "2105:\tlearn: 0.0074898\ttest: 0.0431493\tbest: 0.0431467 (2104)\ttotal: 29.5s\tremaining: 26.5s\n",
            "2110:\tlearn: 0.0074687\ttest: 0.0431113\tbest: 0.0431113 (2110)\ttotal: 29.5s\tremaining: 26.4s\n",
            "2115:\tlearn: 0.0074524\ttest: 0.0430708\tbest: 0.0430708 (2115)\ttotal: 29.6s\tremaining: 26.4s\n",
            "2120:\tlearn: 0.0074320\ttest: 0.0430328\tbest: 0.0430328 (2120)\ttotal: 29.7s\tremaining: 26.3s\n",
            "2125:\tlearn: 0.0074040\ttest: 0.0430168\tbest: 0.0430082 (2124)\ttotal: 29.7s\tremaining: 26.2s\n",
            "2130:\tlearn: 0.0073822\ttest: 0.0429890\tbest: 0.0429890 (2130)\ttotal: 29.8s\tremaining: 26.1s\n",
            "2135:\tlearn: 0.0073546\ttest: 0.0429488\tbest: 0.0429488 (2135)\ttotal: 29.9s\tremaining: 26.1s\n",
            "2140:\tlearn: 0.0073319\ttest: 0.0429319\tbest: 0.0429260 (2139)\ttotal: 30s\tremaining: 26s\n",
            "2145:\tlearn: 0.0073143\ttest: 0.0428966\tbest: 0.0428966 (2145)\ttotal: 30s\tremaining: 26s\n",
            "2150:\tlearn: 0.0072957\ttest: 0.0428596\tbest: 0.0428596 (2150)\ttotal: 30.1s\tremaining: 25.9s\n",
            "2155:\tlearn: 0.0072764\ttest: 0.0428209\tbest: 0.0428209 (2155)\ttotal: 30.2s\tremaining: 25.8s\n",
            "2160:\tlearn: 0.0072547\ttest: 0.0427744\tbest: 0.0427744 (2160)\ttotal: 30.2s\tremaining: 25.7s\n",
            "2165:\tlearn: 0.0072380\ttest: 0.0427327\tbest: 0.0427327 (2165)\ttotal: 30.3s\tremaining: 25.7s\n",
            "2170:\tlearn: 0.0072173\ttest: 0.0426988\tbest: 0.0426988 (2170)\ttotal: 30.4s\tremaining: 25.6s\n",
            "2175:\tlearn: 0.0071955\ttest: 0.0426793\tbest: 0.0426760 (2174)\ttotal: 30.4s\tremaining: 25.5s\n",
            "2180:\tlearn: 0.0071781\ttest: 0.0426552\tbest: 0.0426552 (2180)\ttotal: 30.5s\tremaining: 25.4s\n",
            "2185:\tlearn: 0.0071634\ttest: 0.0426347\tbest: 0.0426347 (2185)\ttotal: 30.5s\tremaining: 25.3s\n",
            "2190:\tlearn: 0.0071385\ttest: 0.0426236\tbest: 0.0426236 (2190)\ttotal: 30.6s\tremaining: 25.3s\n",
            "2195:\tlearn: 0.0071179\ttest: 0.0425856\tbest: 0.0425856 (2195)\ttotal: 30.7s\tremaining: 25.2s\n",
            "2200:\tlearn: 0.0071035\ttest: 0.0425539\tbest: 0.0425527 (2199)\ttotal: 30.7s\tremaining: 25.1s\n",
            "2205:\tlearn: 0.0070798\ttest: 0.0425383\tbest: 0.0425383 (2205)\ttotal: 30.8s\tremaining: 25.1s\n",
            "2210:\tlearn: 0.0070560\ttest: 0.0425539\tbest: 0.0425383 (2205)\ttotal: 30.9s\tremaining: 25s\n",
            "2215:\tlearn: 0.0070412\ttest: 0.0425378\tbest: 0.0425378 (2215)\ttotal: 30.9s\tremaining: 24.9s\n",
            "2220:\tlearn: 0.0070202\ttest: 0.0425194\tbest: 0.0425194 (2220)\ttotal: 31s\tremaining: 24.8s\n",
            "2225:\tlearn: 0.0070053\ttest: 0.0424978\tbest: 0.0424946 (2224)\ttotal: 31.1s\tremaining: 24.8s\n",
            "2230:\tlearn: 0.0069861\ttest: 0.0424773\tbest: 0.0424773 (2230)\ttotal: 31.1s\tremaining: 24.7s\n",
            "2235:\tlearn: 0.0069704\ttest: 0.0424476\tbest: 0.0424476 (2235)\ttotal: 31.2s\tremaining: 24.6s\n",
            "2240:\tlearn: 0.0069530\ttest: 0.0424205\tbest: 0.0424205 (2240)\ttotal: 31.3s\tremaining: 24.5s\n",
            "2245:\tlearn: 0.0069281\ttest: 0.0423758\tbest: 0.0423758 (2245)\ttotal: 31.3s\tremaining: 24.5s\n",
            "2250:\tlearn: 0.0069169\ttest: 0.0423520\tbest: 0.0423520 (2250)\ttotal: 31.4s\tremaining: 24.4s\n",
            "2255:\tlearn: 0.0068952\ttest: 0.0423240\tbest: 0.0423240 (2255)\ttotal: 31.5s\tremaining: 24.3s\n",
            "2260:\tlearn: 0.0068678\ttest: 0.0423214\tbest: 0.0423196 (2258)\ttotal: 31.5s\tremaining: 24.3s\n",
            "2265:\tlearn: 0.0068500\ttest: 0.0423106\tbest: 0.0423032 (2263)\ttotal: 31.6s\tremaining: 24.2s\n",
            "2270:\tlearn: 0.0068261\ttest: 0.0422623\tbest: 0.0422623 (2270)\ttotal: 31.6s\tremaining: 24.1s\n",
            "2275:\tlearn: 0.0068119\ttest: 0.0422271\tbest: 0.0422271 (2275)\ttotal: 31.7s\tremaining: 24s\n",
            "2280:\tlearn: 0.0067942\ttest: 0.0422139\tbest: 0.0422118 (2279)\ttotal: 31.8s\tremaining: 23.9s\n",
            "2285:\tlearn: 0.0067762\ttest: 0.0422039\tbest: 0.0422039 (2285)\ttotal: 31.8s\tremaining: 23.9s\n",
            "2290:\tlearn: 0.0067619\ttest: 0.0421991\tbest: 0.0421984 (2288)\ttotal: 31.9s\tremaining: 23.8s\n",
            "2295:\tlearn: 0.0067504\ttest: 0.0421856\tbest: 0.0421856 (2295)\ttotal: 32s\tremaining: 23.7s\n",
            "2300:\tlearn: 0.0067296\ttest: 0.0421797\tbest: 0.0421797 (2300)\ttotal: 32s\tremaining: 23.7s\n",
            "2305:\tlearn: 0.0067145\ttest: 0.0421508\tbest: 0.0421508 (2305)\ttotal: 32.1s\tremaining: 23.6s\n",
            "2310:\tlearn: 0.0067021\ttest: 0.0421328\tbest: 0.0421328 (2310)\ttotal: 32.2s\tremaining: 23.5s\n",
            "2315:\tlearn: 0.0066810\ttest: 0.0421045\tbest: 0.0421045 (2315)\ttotal: 32.2s\tremaining: 23.4s\n",
            "2320:\tlearn: 0.0066610\ttest: 0.0420751\tbest: 0.0420751 (2320)\ttotal: 32.3s\tremaining: 23.3s\n",
            "2325:\tlearn: 0.0066481\ttest: 0.0420660\tbest: 0.0420660 (2325)\ttotal: 32.3s\tremaining: 23.3s\n",
            "2330:\tlearn: 0.0066269\ttest: 0.0420478\tbest: 0.0420478 (2330)\ttotal: 32.4s\tremaining: 23.2s\n",
            "2335:\tlearn: 0.0066056\ttest: 0.0420041\tbest: 0.0420041 (2335)\ttotal: 32.5s\tremaining: 23.1s\n",
            "2340:\tlearn: 0.0065847\ttest: 0.0419892\tbest: 0.0419865 (2338)\ttotal: 32.5s\tremaining: 23.1s\n",
            "2345:\tlearn: 0.0065659\ttest: 0.0419692\tbest: 0.0419561 (2344)\ttotal: 32.6s\tremaining: 23s\n",
            "2350:\tlearn: 0.0065486\ttest: 0.0419547\tbest: 0.0419547 (2350)\ttotal: 32.7s\tremaining: 22.9s\n",
            "2355:\tlearn: 0.0065325\ttest: 0.0419348\tbest: 0.0419322 (2353)\ttotal: 32.7s\tremaining: 22.8s\n",
            "2360:\tlearn: 0.0065218\ttest: 0.0419262\tbest: 0.0419245 (2359)\ttotal: 32.8s\tremaining: 22.8s\n",
            "2365:\tlearn: 0.0065052\ttest: 0.0418846\tbest: 0.0418846 (2365)\ttotal: 32.8s\tremaining: 22.7s\n",
            "2370:\tlearn: 0.0064909\ttest: 0.0418651\tbest: 0.0418651 (2370)\ttotal: 32.9s\tremaining: 22.6s\n",
            "2375:\tlearn: 0.0064719\ttest: 0.0418148\tbest: 0.0418148 (2375)\ttotal: 33s\tremaining: 22.5s\n",
            "2380:\tlearn: 0.0064549\ttest: 0.0417896\tbest: 0.0417896 (2380)\ttotal: 33s\tremaining: 22.5s\n",
            "2385:\tlearn: 0.0064372\ttest: 0.0417154\tbest: 0.0417154 (2385)\ttotal: 33.1s\tremaining: 22.4s\n",
            "2390:\tlearn: 0.0064203\ttest: 0.0417149\tbest: 0.0417047 (2387)\ttotal: 33.2s\tremaining: 22.3s\n",
            "2395:\tlearn: 0.0064027\ttest: 0.0417158\tbest: 0.0417047 (2387)\ttotal: 33.3s\tremaining: 22.3s\n",
            "2400:\tlearn: 0.0063840\ttest: 0.0417078\tbest: 0.0417047 (2387)\ttotal: 33.3s\tremaining: 22.2s\n",
            "2405:\tlearn: 0.0063686\ttest: 0.0416895\tbest: 0.0416895 (2405)\ttotal: 33.4s\tremaining: 22.1s\n",
            "2410:\tlearn: 0.0063527\ttest: 0.0416905\tbest: 0.0416895 (2405)\ttotal: 33.4s\tremaining: 22s\n",
            "2415:\tlearn: 0.0063357\ttest: 0.0416902\tbest: 0.0416863 (2411)\ttotal: 33.5s\tremaining: 22s\n",
            "2420:\tlearn: 0.0063177\ttest: 0.0416635\tbest: 0.0416635 (2420)\ttotal: 33.6s\tremaining: 21.9s\n",
            "2425:\tlearn: 0.0063030\ttest: 0.0416672\tbest: 0.0416635 (2420)\ttotal: 33.6s\tremaining: 21.8s\n",
            "2430:\tlearn: 0.0062829\ttest: 0.0416638\tbest: 0.0416598 (2426)\ttotal: 33.7s\tremaining: 21.7s\n",
            "2435:\tlearn: 0.0062741\ttest: 0.0416639\tbest: 0.0416598 (2426)\ttotal: 33.7s\tremaining: 21.7s\n",
            "2440:\tlearn: 0.0062589\ttest: 0.0416763\tbest: 0.0416598 (2426)\ttotal: 33.8s\tremaining: 21.6s\n",
            "2445:\tlearn: 0.0062424\ttest: 0.0416258\tbest: 0.0416258 (2445)\ttotal: 33.9s\tremaining: 21.5s\n",
            "2450:\tlearn: 0.0062210\ttest: 0.0415875\tbest: 0.0415875 (2450)\ttotal: 33.9s\tremaining: 21.4s\n",
            "2455:\tlearn: 0.0062038\ttest: 0.0415540\tbest: 0.0415540 (2455)\ttotal: 34s\tremaining: 21.4s\n",
            "2460:\tlearn: 0.0061861\ttest: 0.0415218\tbest: 0.0415213 (2459)\ttotal: 34.1s\tremaining: 21.3s\n",
            "2465:\tlearn: 0.0061783\ttest: 0.0415041\tbest: 0.0415041 (2465)\ttotal: 34.1s\tremaining: 21.2s\n",
            "2470:\tlearn: 0.0061648\ttest: 0.0414847\tbest: 0.0414847 (2470)\ttotal: 34.2s\tremaining: 21.2s\n",
            "2475:\tlearn: 0.0061504\ttest: 0.0414607\tbest: 0.0414596 (2474)\ttotal: 34.3s\tremaining: 21.1s\n",
            "2480:\tlearn: 0.0061322\ttest: 0.0414488\tbest: 0.0414402 (2479)\ttotal: 34.3s\tremaining: 21s\n",
            "2485:\tlearn: 0.0061132\ttest: 0.0414199\tbest: 0.0414199 (2485)\ttotal: 34.4s\tremaining: 21s\n",
            "2490:\tlearn: 0.0060957\ttest: 0.0413923\tbest: 0.0413920 (2489)\ttotal: 34.5s\tremaining: 20.9s\n",
            "2495:\tlearn: 0.0060828\ttest: 0.0413639\tbest: 0.0413628 (2494)\ttotal: 34.6s\tremaining: 20.8s\n",
            "2500:\tlearn: 0.0060635\ttest: 0.0413290\tbest: 0.0413290 (2500)\ttotal: 34.6s\tremaining: 20.8s\n",
            "2505:\tlearn: 0.0060477\ttest: 0.0412868\tbest: 0.0412868 (2505)\ttotal: 34.7s\tremaining: 20.7s\n",
            "2510:\tlearn: 0.0060339\ttest: 0.0412804\tbest: 0.0412804 (2510)\ttotal: 34.8s\tremaining: 20.6s\n",
            "2515:\tlearn: 0.0060202\ttest: 0.0412777\tbest: 0.0412777 (2515)\ttotal: 34.8s\tremaining: 20.5s\n",
            "2520:\tlearn: 0.0060046\ttest: 0.0412662\tbest: 0.0412657 (2519)\ttotal: 34.9s\tremaining: 20.5s\n",
            "2525:\tlearn: 0.0059906\ttest: 0.0412637\tbest: 0.0412618 (2522)\ttotal: 35s\tremaining: 20.4s\n",
            "2530:\tlearn: 0.0059710\ttest: 0.0412663\tbest: 0.0412431 (2529)\ttotal: 35s\tremaining: 20.3s\n",
            "2535:\tlearn: 0.0059555\ttest: 0.0412355\tbest: 0.0412355 (2535)\ttotal: 35.1s\tremaining: 20.3s\n",
            "2540:\tlearn: 0.0059367\ttest: 0.0412428\tbest: 0.0412355 (2535)\ttotal: 35.2s\tremaining: 20.2s\n",
            "2545:\tlearn: 0.0059189\ttest: 0.0412338\tbest: 0.0412260 (2543)\ttotal: 35.3s\tremaining: 20.1s\n",
            "2550:\tlearn: 0.0059024\ttest: 0.0412209\tbest: 0.0412093 (2548)\ttotal: 35.3s\tremaining: 20.1s\n",
            "2555:\tlearn: 0.0058895\ttest: 0.0412139\tbest: 0.0412093 (2548)\ttotal: 35.4s\tremaining: 20s\n",
            "2560:\tlearn: 0.0058716\ttest: 0.0411904\tbest: 0.0411904 (2560)\ttotal: 35.5s\tremaining: 19.9s\n",
            "2565:\tlearn: 0.0058563\ttest: 0.0411784\tbest: 0.0411779 (2562)\ttotal: 35.5s\tremaining: 19.9s\n",
            "2570:\tlearn: 0.0058440\ttest: 0.0411570\tbest: 0.0411570 (2570)\ttotal: 35.6s\tremaining: 19.8s\n",
            "2575:\tlearn: 0.0058284\ttest: 0.0411315\tbest: 0.0411291 (2573)\ttotal: 35.7s\tremaining: 19.7s\n",
            "2580:\tlearn: 0.0058159\ttest: 0.0411165\tbest: 0.0411165 (2580)\ttotal: 35.8s\tremaining: 19.7s\n",
            "2585:\tlearn: 0.0058025\ttest: 0.0411192\tbest: 0.0411094 (2581)\ttotal: 35.8s\tremaining: 19.6s\n",
            "2590:\tlearn: 0.0057876\ttest: 0.0410959\tbest: 0.0410959 (2590)\ttotal: 35.9s\tremaining: 19.5s\n",
            "2595:\tlearn: 0.0057759\ttest: 0.0411153\tbest: 0.0410889 (2592)\ttotal: 35.9s\tremaining: 19.4s\n",
            "2600:\tlearn: 0.0057631\ttest: 0.0411102\tbest: 0.0410889 (2592)\ttotal: 36s\tremaining: 19.4s\n",
            "2605:\tlearn: 0.0057439\ttest: 0.0410775\tbest: 0.0410775 (2605)\ttotal: 36.1s\tremaining: 19.3s\n",
            "2610:\tlearn: 0.0057271\ttest: 0.0410827\tbest: 0.0410720 (2606)\ttotal: 36.1s\tremaining: 19.2s\n",
            "2615:\tlearn: 0.0057097\ttest: 0.0410411\tbest: 0.0410411 (2615)\ttotal: 36.2s\tremaining: 19.2s\n",
            "2620:\tlearn: 0.0057010\ttest: 0.0410466\tbest: 0.0410411 (2616)\ttotal: 36.2s\tremaining: 19.1s\n",
            "2625:\tlearn: 0.0056871\ttest: 0.0410545\tbest: 0.0410411 (2616)\ttotal: 36.3s\tremaining: 19s\n",
            "2630:\tlearn: 0.0056717\ttest: 0.0409967\tbest: 0.0409967 (2630)\ttotal: 36.4s\tremaining: 18.9s\n",
            "2635:\tlearn: 0.0056547\ttest: 0.0409807\tbest: 0.0409807 (2635)\ttotal: 36.4s\tremaining: 18.9s\n",
            "2640:\tlearn: 0.0056411\ttest: 0.0409299\tbest: 0.0409299 (2640)\ttotal: 36.5s\tremaining: 18.8s\n",
            "2645:\tlearn: 0.0056274\ttest: 0.0409189\tbest: 0.0409189 (2645)\ttotal: 36.6s\tremaining: 18.7s\n",
            "2650:\tlearn: 0.0056108\ttest: 0.0408906\tbest: 0.0408906 (2650)\ttotal: 36.7s\tremaining: 18.7s\n",
            "2655:\tlearn: 0.0055962\ttest: 0.0409282\tbest: 0.0408906 (2650)\ttotal: 36.7s\tremaining: 18.6s\n",
            "2660:\tlearn: 0.0055829\ttest: 0.0409343\tbest: 0.0408906 (2650)\ttotal: 36.8s\tremaining: 18.5s\n",
            "2665:\tlearn: 0.0055643\ttest: 0.0409633\tbest: 0.0408906 (2650)\ttotal: 36.9s\tremaining: 18.4s\n",
            "2670:\tlearn: 0.0055499\ttest: 0.0409490\tbest: 0.0408906 (2650)\ttotal: 36.9s\tremaining: 18.4s\n",
            "2675:\tlearn: 0.0055375\ttest: 0.0409401\tbest: 0.0408906 (2650)\ttotal: 37s\tremaining: 18.3s\n",
            "2680:\tlearn: 0.0055161\ttest: 0.0409370\tbest: 0.0408906 (2650)\ttotal: 37.1s\tremaining: 18.3s\n",
            "2685:\tlearn: 0.0055010\ttest: 0.0409072\tbest: 0.0408906 (2650)\ttotal: 37.2s\tremaining: 18.2s\n",
            "2690:\tlearn: 0.0054950\ttest: 0.0409208\tbest: 0.0408906 (2650)\ttotal: 37.2s\tremaining: 18.1s\n",
            "2695:\tlearn: 0.0054757\ttest: 0.0408925\tbest: 0.0408906 (2650)\ttotal: 37.3s\tremaining: 18.1s\n",
            "2700:\tlearn: 0.0054618\ttest: 0.0408933\tbest: 0.0408906 (2650)\ttotal: 37.4s\tremaining: 18s\n",
            "Stopped by overfitting detector  (50 iterations wait)\n",
            "\n",
            "bestTest = 0.04089059072\n",
            "bestIteration = 2650\n",
            "\n",
            "Shrink model to first 2651 iterations.\n"
          ]
        }
      ]
    },
    {
      "cell_type": "code",
      "source": [
        "y_pred=pd.DataFrame(y_pred)\n",
        "y_pred"
      ],
      "metadata": {
        "colab": {
          "base_uri": "https://localhost:8080/",
          "height": 423
        },
        "id": "mnlIs8TvfsH-",
        "outputId": "c1af5d01-2327-4b51-c3b7-fc2196abdb71"
      },
      "execution_count": null,
      "outputs": [
        {
          "output_type": "execute_result",
          "data": {
            "text/html": [
              "\n",
              "  <div id=\"df-556e840c-5e36-40c6-8465-5f5ab78be76d\">\n",
              "    <div class=\"colab-df-container\">\n",
              "      <div>\n",
              "<style scoped>\n",
              "    .dataframe tbody tr th:only-of-type {\n",
              "        vertical-align: middle;\n",
              "    }\n",
              "\n",
              "    .dataframe tbody tr th {\n",
              "        vertical-align: top;\n",
              "    }\n",
              "\n",
              "    .dataframe thead th {\n",
              "        text-align: right;\n",
              "    }\n",
              "</style>\n",
              "<table border=\"1\" class=\"dataframe\">\n",
              "  <thead>\n",
              "    <tr style=\"text-align: right;\">\n",
              "      <th></th>\n",
              "      <th>0</th>\n",
              "    </tr>\n",
              "  </thead>\n",
              "  <tbody>\n",
              "    <tr>\n",
              "      <th>0</th>\n",
              "      <td>0</td>\n",
              "    </tr>\n",
              "    <tr>\n",
              "      <th>1</th>\n",
              "      <td>0</td>\n",
              "    </tr>\n",
              "    <tr>\n",
              "      <th>2</th>\n",
              "      <td>1</td>\n",
              "    </tr>\n",
              "    <tr>\n",
              "      <th>3</th>\n",
              "      <td>0</td>\n",
              "    </tr>\n",
              "    <tr>\n",
              "      <th>4</th>\n",
              "      <td>0</td>\n",
              "    </tr>\n",
              "    <tr>\n",
              "      <th>...</th>\n",
              "      <td>...</td>\n",
              "    </tr>\n",
              "    <tr>\n",
              "      <th>361</th>\n",
              "      <td>0</td>\n",
              "    </tr>\n",
              "    <tr>\n",
              "      <th>362</th>\n",
              "      <td>1</td>\n",
              "    </tr>\n",
              "    <tr>\n",
              "      <th>363</th>\n",
              "      <td>0</td>\n",
              "    </tr>\n",
              "    <tr>\n",
              "      <th>364</th>\n",
              "      <td>1</td>\n",
              "    </tr>\n",
              "    <tr>\n",
              "      <th>365</th>\n",
              "      <td>1</td>\n",
              "    </tr>\n",
              "  </tbody>\n",
              "</table>\n",
              "<p>366 rows × 1 columns</p>\n",
              "</div>\n",
              "      <button class=\"colab-df-convert\" onclick=\"convertToInteractive('df-556e840c-5e36-40c6-8465-5f5ab78be76d')\"\n",
              "              title=\"Convert this dataframe to an interactive table.\"\n",
              "              style=\"display:none;\">\n",
              "        \n",
              "  <svg xmlns=\"http://www.w3.org/2000/svg\" height=\"24px\"viewBox=\"0 0 24 24\"\n",
              "       width=\"24px\">\n",
              "    <path d=\"M0 0h24v24H0V0z\" fill=\"none\"/>\n",
              "    <path d=\"M18.56 5.44l.94 2.06.94-2.06 2.06-.94-2.06-.94-.94-2.06-.94 2.06-2.06.94zm-11 1L8.5 8.5l.94-2.06 2.06-.94-2.06-.94L8.5 2.5l-.94 2.06-2.06.94zm10 10l.94 2.06.94-2.06 2.06-.94-2.06-.94-.94-2.06-.94 2.06-2.06.94z\"/><path d=\"M17.41 7.96l-1.37-1.37c-.4-.4-.92-.59-1.43-.59-.52 0-1.04.2-1.43.59L10.3 9.45l-7.72 7.72c-.78.78-.78 2.05 0 2.83L4 21.41c.39.39.9.59 1.41.59.51 0 1.02-.2 1.41-.59l7.78-7.78 2.81-2.81c.8-.78.8-2.07 0-2.86zM5.41 20L4 18.59l7.72-7.72 1.47 1.35L5.41 20z\"/>\n",
              "  </svg>\n",
              "      </button>\n",
              "      \n",
              "  <style>\n",
              "    .colab-df-container {\n",
              "      display:flex;\n",
              "      flex-wrap:wrap;\n",
              "      gap: 12px;\n",
              "    }\n",
              "\n",
              "    .colab-df-convert {\n",
              "      background-color: #E8F0FE;\n",
              "      border: none;\n",
              "      border-radius: 50%;\n",
              "      cursor: pointer;\n",
              "      display: none;\n",
              "      fill: #1967D2;\n",
              "      height: 32px;\n",
              "      padding: 0 0 0 0;\n",
              "      width: 32px;\n",
              "    }\n",
              "\n",
              "    .colab-df-convert:hover {\n",
              "      background-color: #E2EBFA;\n",
              "      box-shadow: 0px 1px 2px rgba(60, 64, 67, 0.3), 0px 1px 3px 1px rgba(60, 64, 67, 0.15);\n",
              "      fill: #174EA6;\n",
              "    }\n",
              "\n",
              "    [theme=dark] .colab-df-convert {\n",
              "      background-color: #3B4455;\n",
              "      fill: #D2E3FC;\n",
              "    }\n",
              "\n",
              "    [theme=dark] .colab-df-convert:hover {\n",
              "      background-color: #434B5C;\n",
              "      box-shadow: 0px 1px 3px 1px rgba(0, 0, 0, 0.15);\n",
              "      filter: drop-shadow(0px 1px 2px rgba(0, 0, 0, 0.3));\n",
              "      fill: #FFFFFF;\n",
              "    }\n",
              "  </style>\n",
              "\n",
              "      <script>\n",
              "        const buttonEl =\n",
              "          document.querySelector('#df-556e840c-5e36-40c6-8465-5f5ab78be76d button.colab-df-convert');\n",
              "        buttonEl.style.display =\n",
              "          google.colab.kernel.accessAllowed ? 'block' : 'none';\n",
              "\n",
              "        async function convertToInteractive(key) {\n",
              "          const element = document.querySelector('#df-556e840c-5e36-40c6-8465-5f5ab78be76d');\n",
              "          const dataTable =\n",
              "            await google.colab.kernel.invokeFunction('convertToInteractive',\n",
              "                                                     [key], {});\n",
              "          if (!dataTable) return;\n",
              "\n",
              "          const docLinkHtml = 'Like what you see? Visit the ' +\n",
              "            '<a target=\"_blank\" href=https://colab.research.google.com/notebooks/data_table.ipynb>data table notebook</a>'\n",
              "            + ' to learn more about interactive tables.';\n",
              "          element.innerHTML = '';\n",
              "          dataTable['output_type'] = 'display_data';\n",
              "          await google.colab.output.renderOutput(dataTable, element);\n",
              "          const docLink = document.createElement('div');\n",
              "          docLink.innerHTML = docLinkHtml;\n",
              "          element.appendChild(docLink);\n",
              "        }\n",
              "      </script>\n",
              "    </div>\n",
              "  </div>\n",
              "  "
            ],
            "text/plain": [
              "     0\n",
              "0    0\n",
              "1    0\n",
              "2    1\n",
              "3    0\n",
              "4    0\n",
              "..  ..\n",
              "361  0\n",
              "362  1\n",
              "363  0\n",
              "364  1\n",
              "365  1\n",
              "\n",
              "[366 rows x 1 columns]"
            ]
          },
          "metadata": {},
          "execution_count": 1601
        }
      ]
    },
    {
      "cell_type": "code",
      "source": [
        "import math\n",
        "math.sqrt(mean_squared_error(y_test,y_pred))"
      ],
      "metadata": {
        "colab": {
          "base_uri": "https://localhost:8080/"
        },
        "id": "RWAIzz4CW7iu",
        "outputId": "87a358a6-d105-477d-a31f-0826c9be79d5"
      },
      "execution_count": null,
      "outputs": [
        {
          "output_type": "execute_result",
          "data": {
            "text/plain": [
              "0.1168811455530461"
            ]
          },
          "metadata": {},
          "execution_count": 1602
        }
      ]
    },
    {
      "cell_type": "code",
      "source": [
        "ml.score(x_test,y_test)"
      ],
      "metadata": {
        "colab": {
          "base_uri": "https://localhost:8080/"
        },
        "id": "OsOBzgw7Xdy4",
        "outputId": "84bbf19d-2d5c-4479-adb9-975f39be4b21"
      },
      "execution_count": null,
      "outputs": [
        {
          "output_type": "execute_result",
          "data": {
            "text/plain": [
              "0.9863387978142076"
            ]
          },
          "metadata": {},
          "execution_count": 1603
        }
      ]
    },
    {
      "cell_type": "code",
      "source": [
        "from sklearn.metrics import roc_auc_score\n",
        "roc_auc_score(y_test,y_pred)"
      ],
      "metadata": {
        "colab": {
          "base_uri": "https://localhost:8080/"
        },
        "id": "OD1AgSG4pkTH",
        "outputId": "ec288e8e-dd60-4810-b3fd-f7b5b53b68d1"
      },
      "execution_count": null,
      "outputs": [
        {
          "output_type": "execute_result",
          "data": {
            "text/plain": [
              "0.9864130434782609"
            ]
          },
          "metadata": {},
          "execution_count": 1604
        }
      ]
    },
    {
      "cell_type": "code",
      "source": [
        "from sklearn.metrics import accuracy_score\n",
        "accuracy_score(y_test, y_pred)"
      ],
      "metadata": {
        "colab": {
          "base_uri": "https://localhost:8080/"
        },
        "id": "A_HgsRQWuiFX",
        "outputId": "ad428e0d-d5c9-4380-e1fe-c3984a27e7ab"
      },
      "execution_count": null,
      "outputs": [
        {
          "output_type": "execute_result",
          "data": {
            "text/plain": [
              "0.9863387978142076"
            ]
          },
          "metadata": {},
          "execution_count": 1605
        }
      ]
    }
  ]
}