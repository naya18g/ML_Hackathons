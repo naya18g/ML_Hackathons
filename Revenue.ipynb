{
  "nbformat": 4,
  "nbformat_minor": 0,
  "metadata": {
    "colab": {
      "name": "Untitled1 (3).ipynb",
      "provenance": [],
      "include_colab_link": true
    },
    "kernelspec": {
      "name": "python3",
      "display_name": "Python 3"
    },
    "language_info": {
      "name": "python"
    }
  },
  "cells": [
    {
      "cell_type": "markdown",
      "metadata": {
        "id": "view-in-github",
        "colab_type": "text"
      },
      "source": [
        "<a href=\"https://colab.research.google.com/github/naya18g/Project/blob/main/Revenue.ipynb\" target=\"_parent\"><img src=\"https://colab.research.google.com/assets/colab-badge.svg\" alt=\"Open In Colab\"/></a>"
      ]
    },
    {
      "cell_type": "code",
      "metadata": {
        "colab": {
          "base_uri": "https://localhost:8080/"
        },
        "id": "beAyjHx4vupe",
        "outputId": "5d0f4c62-eadc-4559-e29b-c2f5d4e733af"
      },
      "source": [
        "!pip install catboost\n",
        "from sklearn.datasets import make_regression\n",
        "from catboost import CatBoostRegressor\n",
        "import pandas as pd\n",
        "train_data=pd.read_csv('Train_Data.csv')\n",
        "train_data.head()\n",
        "train_data.drop('campaign',axis=1,inplace=True)\n",
        "train_data.drop('adgroup',axis=1,inplace=True)\n",
        "train_data.drop('ad',axis=1,inplace=True)\n",
        "train_data.drop('date',axis=1,inplace=True)\n",
        "train_data.head()\n",
        "train_data.describe()\n",
        "from sklearn.model_selection import train_test_split\n",
        "y=train_data.revenue\n",
        "train_features=['impressions','clicks','cost','conversions']\n",
        "x=train_data[train_features]\n",
        "x_train,x_test,y_train,y_test=train_test_split(x,y,test_size=0.2,random_state=42)\n",
        "ml=CatBoostRegressor(verbose=0, n_estimators=50)\n",
        "ml.fit(x_train,y_train)\n",
        "ml.predict(x_test)\n",
        "test_data=pd.read_csv('Test_Data.csv')\n",
        "test_data.head()\n",
        "test_data.describe()\n",
        "test_data.drop('campaign',axis=1,inplace=True)\n",
        "test_data.drop('adgroup',axis=1,inplace=True)\n",
        "test_data.drop('ad',axis=1,inplace=True)\n",
        "test_data.drop('date',axis=1,inplace=True)\n",
        "test_data.head()\n",
        "test_features=['impressions','clicks','cost','conversions']\n",
        "X=test_data[test_features]\n",
        "revenue=0\n",
        "test_data['revenue']=revenue\n",
        "Y=test_data.revenue\n",
        "pred=ml.predict(X)\n",
        "df=pd.DataFrame({'revenue':pred})\n",
        "df[df.revenue<0]=0\n",
        "print(df)\n",
        "df.to_csv('S19.csv')"
      ],
      "execution_count": null,
      "outputs": [
        {
          "output_type": "stream",
          "text": [
            "Requirement already satisfied: catboost in /usr/local/lib/python3.7/dist-packages (0.26)\n",
            "Requirement already satisfied: scipy in /usr/local/lib/python3.7/dist-packages (from catboost) (1.4.1)\n",
            "Requirement already satisfied: pandas>=0.24.0 in /usr/local/lib/python3.7/dist-packages (from catboost) (1.1.5)\n",
            "Requirement already satisfied: plotly in /usr/local/lib/python3.7/dist-packages (from catboost) (4.4.1)\n",
            "Requirement already satisfied: matplotlib in /usr/local/lib/python3.7/dist-packages (from catboost) (3.2.2)\n",
            "Requirement already satisfied: graphviz in /usr/local/lib/python3.7/dist-packages (from catboost) (0.10.1)\n",
            "Requirement already satisfied: six in /usr/local/lib/python3.7/dist-packages (from catboost) (1.15.0)\n",
            "Requirement already satisfied: numpy>=1.16.0 in /usr/local/lib/python3.7/dist-packages (from catboost) (1.19.5)\n",
            "Requirement already satisfied: python-dateutil>=2.7.3 in /usr/local/lib/python3.7/dist-packages (from pandas>=0.24.0->catboost) (2.8.1)\n",
            "Requirement already satisfied: pytz>=2017.2 in /usr/local/lib/python3.7/dist-packages (from pandas>=0.24.0->catboost) (2018.9)\n",
            "Requirement already satisfied: retrying>=1.3.3 in /usr/local/lib/python3.7/dist-packages (from plotly->catboost) (1.3.3)\n",
            "Requirement already satisfied: cycler>=0.10 in /usr/local/lib/python3.7/dist-packages (from matplotlib->catboost) (0.10.0)\n",
            "Requirement already satisfied: pyparsing!=2.0.4,!=2.1.2,!=2.1.6,>=2.0.1 in /usr/local/lib/python3.7/dist-packages (from matplotlib->catboost) (2.4.7)\n",
            "Requirement already satisfied: kiwisolver>=1.0.1 in /usr/local/lib/python3.7/dist-packages (from matplotlib->catboost) (1.3.1)\n",
            "        revenue\n",
            "0    132.694901\n",
            "1      0.000000\n",
            "2      0.000000\n",
            "3      0.000000\n",
            "4      0.000000\n",
            "..          ...\n",
            "313    0.000000\n",
            "314    0.000000\n",
            "315    0.000000\n",
            "316    0.000000\n",
            "317  141.897732\n",
            "\n",
            "[318 rows x 1 columns]\n"
          ],
          "name": "stdout"
        }
      ]
    }
  ]
}