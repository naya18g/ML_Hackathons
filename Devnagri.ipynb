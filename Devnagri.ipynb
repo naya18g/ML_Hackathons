{
  "nbformat": 4,
  "nbformat_minor": 0,
  "metadata": {
    "kernelspec": {
      "language": "python",
      "display_name": "Python 3",
      "name": "python3"
    },
    "language_info": {
      "pygments_lexer": "ipython3",
      "nbconvert_exporter": "python",
      "version": "3.6.4",
      "file_extension": ".py",
      "codemirror_mode": {
        "name": "ipython",
        "version": 3
      },
      "name": "python",
      "mimetype": "text/x-python"
    },
    "colab": {
      "name": "notebookf22f789f83 (1).ipynb",
      "provenance": [],
      "include_colab_link": true
    }
  },
  "cells": [
    {
      "cell_type": "markdown",
      "metadata": {
        "id": "view-in-github",
        "colab_type": "text"
      },
      "source": [
        "<a href=\"https://colab.research.google.com/github/naya18g/Project/blob/main/Devnagri.ipynb\" target=\"_parent\"><img src=\"https://colab.research.google.com/assets/colab-badge.svg\" alt=\"Open In Colab\"/></a>"
      ]
    },
    {
      "cell_type": "code",
      "metadata": {
        "_uuid": "8f2839f25d086af736a60e9eeb907d3b93b6e0e5",
        "_cell_guid": "b1076dfc-b9ad-4769-8c92-a6c4dae69d19",
        "execution": {
          "iopub.status.busy": "2021-10-24T15:00:42.534669Z",
          "iopub.execute_input": "2021-10-24T15:00:42.535005Z",
          "iopub.status.idle": "2021-10-24T15:01:33.429329Z",
          "shell.execute_reply.started": "2021-10-24T15:00:42.534967Z",
          "shell.execute_reply": "2021-10-24T15:01:33.427305Z"
        },
        "trusted": true,
        "id": "MYzBWiZFzRyP"
      },
      "source": [
        "# This Python 3 environment comes with many helpful analytics libraries installed\n",
        "# It is defined by the kaggle/python Docker image: https://github.com/kaggle/docker-python\n",
        "# For example, here's several helpful packages to load\n",
        "\n",
        "import numpy as np # linear algebra\n",
        "import pandas as pd # data processing, CSV file I/O (e.g. pd.read_csv)\n",
        "\n",
        "# Input data files are available in the read-only \"../input/\" directory\n",
        "# For example, running this (by clicking run or pressing Shift+Enter) will list all files under the input directory\n",
        "\n",
        "import os\n",
        "for dirname, _, filenames in os.walk('/kaggle/input'):\n",
        "    for filename in filenames:\n",
        "        print(os.path.join(dirname, filename))\n",
        "\n",
        "# You can write up to 20GB to the current directory (/kaggle/working/) that gets preserved as output when you create a version using \"Save & Run All\" \n",
        "# You can also write temporary files to /kaggle/temp/, but they won't be saved outside of the current session"
      ],
      "execution_count": null,
      "outputs": []
    },
    {
      "cell_type": "code",
      "metadata": {
        "execution": {
          "iopub.status.busy": "2021-10-24T15:04:40.525998Z",
          "iopub.execute_input": "2021-10-24T15:04:40.526309Z",
          "iopub.status.idle": "2021-10-24T15:04:49.394041Z",
          "shell.execute_reply.started": "2021-10-24T15:04:40.526275Z",
          "shell.execute_reply": "2021-10-24T15:04:49.393098Z"
        },
        "trusted": true,
        "id": "dPVVtXc7zRyU"
      },
      "source": [
        "import os\n",
        "import numpy as np\n",
        "import matplotlib.pyplot as plt\n",
        "from skimage.io import imread\n",
        "from skimage.transform import resize\n",
        "import keras\n",
        "from keras.models import Sequential\n",
        "from keras.layers import Dense, Dropout, Conv2D, MaxPool2D, Flatten, BatchNormalization\n",
        "from keras.utils import np_utils\n",
        "from sklearn.metrics import accuracy_score"
      ],
      "execution_count": null,
      "outputs": []
    },
    {
      "cell_type": "code",
      "metadata": {
        "execution": {
          "iopub.status.busy": "2021-10-24T15:04:54.155301Z",
          "iopub.execute_input": "2021-10-24T15:04:54.155631Z",
          "iopub.status.idle": "2021-10-24T15:04:54.169147Z",
          "shell.execute_reply.started": "2021-10-24T15:04:54.155595Z",
          "shell.execute_reply": "2021-10-24T15:04:54.168244Z"
        },
        "trusted": true,
        "id": "BfUZBBsfzRyU"
      },
      "source": [
        "target_train = []\n",
        "img_train = []\n",
        "img_train_flat = []\n",
        "DATADIR = '/kaggle/input/devnagri-script-classification/Data/Train'\n",
        "targets = os.listdir(DATADIR)\n",
        "len(targets)"
      ],
      "execution_count": null,
      "outputs": []
    },
    {
      "cell_type": "code",
      "metadata": {
        "execution": {
          "iopub.status.busy": "2021-10-24T15:05:00.79977Z",
          "iopub.execute_input": "2021-10-24T15:05:00.800255Z",
          "iopub.status.idle": "2021-10-24T15:09:42.264816Z",
          "shell.execute_reply.started": "2021-10-24T15:05:00.800198Z",
          "shell.execute_reply": "2021-10-24T15:09:42.263812Z"
        },
        "trusted": true,
        "id": "EOC1dXF2zRyV"
      },
      "source": [
        "for target in targets:\n",
        "    path = os.path.join(DATADIR,target)\n",
        "    label  = targets.index(target)\n",
        "    for img in os.listdir(path):\n",
        "        img_array = imread(os.path.join(path,img))\n",
        "        img_train.append(img_array)\n",
        "        img_train_flat.append(img_array.flatten())\n",
        "        target_train.append(label)\n",
        "img_train_flat = np.array(img_train_flat) \n",
        "target_train = np.array(target_train)\n",
        "img_train = np.array(img_train)\n",
        "        "
      ],
      "execution_count": null,
      "outputs": []
    },
    {
      "cell_type": "code",
      "metadata": {
        "execution": {
          "iopub.status.busy": "2021-10-24T15:10:18.778853Z",
          "iopub.execute_input": "2021-10-24T15:10:18.779181Z",
          "iopub.status.idle": "2021-10-24T15:10:18.786833Z",
          "shell.execute_reply.started": "2021-10-24T15:10:18.77914Z",
          "shell.execute_reply": "2021-10-24T15:10:18.785887Z"
        },
        "trusted": true,
        "id": "t-NV7GdwzRyV"
      },
      "source": [
        "img_train.shape"
      ],
      "execution_count": null,
      "outputs": []
    },
    {
      "cell_type": "code",
      "metadata": {
        "execution": {
          "iopub.status.busy": "2021-10-24T15:10:25.14233Z",
          "iopub.execute_input": "2021-10-24T15:10:25.143116Z",
          "iopub.status.idle": "2021-10-24T15:10:25.449377Z",
          "shell.execute_reply.started": "2021-10-24T15:10:25.143072Z",
          "shell.execute_reply": "2021-10-24T15:10:25.44833Z"
        },
        "trusted": true,
        "id": "mtC1l7S0zRyV"
      },
      "source": [
        "img_train_flat = img_train_flat / 255.0"
      ],
      "execution_count": null,
      "outputs": []
    },
    {
      "cell_type": "code",
      "metadata": {
        "execution": {
          "iopub.status.busy": "2021-10-24T15:10:29.595436Z",
          "iopub.execute_input": "2021-10-24T15:10:29.595747Z",
          "iopub.status.idle": "2021-10-24T15:10:29.608899Z",
          "shell.execute_reply.started": "2021-10-24T15:10:29.595713Z",
          "shell.execute_reply": "2021-10-24T15:10:29.60784Z"
        },
        "trusted": true,
        "id": "TWyP0O3WzRyW"
      },
      "source": [
        "id_test = []\n",
        "for i in range(1,13801):\n",
        "    id_test.append(str(i)+\".png\")"
      ],
      "execution_count": null,
      "outputs": []
    },
    {
      "cell_type": "code",
      "metadata": {
        "execution": {
          "iopub.status.busy": "2021-10-24T15:10:34.508837Z",
          "iopub.execute_input": "2021-10-24T15:10:34.509185Z",
          "iopub.status.idle": "2021-10-24T15:11:22.409945Z",
          "shell.execute_reply.started": "2021-10-24T15:10:34.509146Z",
          "shell.execute_reply": "2021-10-24T15:11:22.409299Z"
        },
        "trusted": true,
        "id": "yc9XlLQPzRyW"
      },
      "source": [
        "DATADIR_test = '/kaggle/input/devnagri-script-classification/Data/Test'\n",
        "img_test = []\n",
        "img_test_flat = []\n",
        "for img in id_test:\n",
        "    img_array = imread(os.path.join(DATADIR_test,img))\n",
        "    img_test.append(img_array)\n",
        "    img_test_flat.append(img_array.flatten())\n",
        "img_test_flat = np.array(img_test_flat)\n",
        "img_test = np.array(img_test)"
      ],
      "execution_count": null,
      "outputs": []
    },
    {
      "cell_type": "code",
      "metadata": {
        "execution": {
          "iopub.status.busy": "2021-10-24T15:11:50.178152Z",
          "iopub.execute_input": "2021-10-24T15:11:50.178449Z",
          "iopub.status.idle": "2021-10-24T15:11:50.230369Z",
          "shell.execute_reply.started": "2021-10-24T15:11:50.178419Z",
          "shell.execute_reply": "2021-10-24T15:11:50.22947Z"
        },
        "trusted": true,
        "id": "Cn5M8nHLzRyX"
      },
      "source": [
        "img_test_flat = img_test_flat / 255.0"
      ],
      "execution_count": null,
      "outputs": []
    },
    {
      "cell_type": "code",
      "metadata": {
        "execution": {
          "iopub.status.busy": "2021-10-24T15:12:01.113039Z",
          "iopub.execute_input": "2021-10-24T15:12:01.113701Z",
          "iopub.status.idle": "2021-10-24T15:12:01.119063Z",
          "shell.execute_reply.started": "2021-10-24T15:12:01.113665Z",
          "shell.execute_reply": "2021-10-24T15:12:01.118469Z"
        },
        "trusted": true,
        "id": "iscdpnEMzRyX"
      },
      "source": [
        "img_train_flat"
      ],
      "execution_count": null,
      "outputs": []
    },
    {
      "cell_type": "code",
      "metadata": {
        "execution": {
          "iopub.status.busy": "2021-10-24T15:12:06.899313Z",
          "iopub.execute_input": "2021-10-24T15:12:06.899852Z",
          "iopub.status.idle": "2021-10-24T15:12:06.909634Z",
          "shell.execute_reply.started": "2021-10-24T15:12:06.899815Z",
          "shell.execute_reply": "2021-10-24T15:12:06.908121Z"
        },
        "trusted": true,
        "id": "Pl6Po7iHzRyX"
      },
      "source": [
        "img_train"
      ],
      "execution_count": null,
      "outputs": []
    },
    {
      "cell_type": "code",
      "metadata": {
        "execution": {
          "iopub.status.busy": "2021-10-24T15:12:12.000364Z",
          "iopub.execute_input": "2021-10-24T15:12:12.001091Z",
          "iopub.status.idle": "2021-10-24T15:12:12.008801Z",
          "shell.execute_reply.started": "2021-10-24T15:12:12.001045Z",
          "shell.execute_reply": "2021-10-24T15:12:12.007867Z"
        },
        "trusted": true,
        "id": "c1B-5DVMzRyX"
      },
      "source": [
        "img_test_flat"
      ],
      "execution_count": null,
      "outputs": []
    },
    {
      "cell_type": "code",
      "metadata": {
        "execution": {
          "iopub.status.busy": "2021-10-24T15:12:16.66472Z",
          "iopub.execute_input": "2021-10-24T15:12:16.665484Z",
          "iopub.status.idle": "2021-10-24T15:12:16.672586Z",
          "shell.execute_reply.started": "2021-10-24T15:12:16.665442Z",
          "shell.execute_reply": "2021-10-24T15:12:16.671371Z"
        },
        "trusted": true,
        "id": "VrgllPlFzRyY"
      },
      "source": [
        "img_array"
      ],
      "execution_count": null,
      "outputs": []
    },
    {
      "cell_type": "code",
      "metadata": {
        "execution": {
          "iopub.status.busy": "2021-10-24T15:12:19.528428Z",
          "iopub.execute_input": "2021-10-24T15:12:19.528916Z",
          "iopub.status.idle": "2021-10-24T15:12:19.534233Z",
          "shell.execute_reply.started": "2021-10-24T15:12:19.528865Z",
          "shell.execute_reply": "2021-10-24T15:12:19.53361Z"
        },
        "trusted": true,
        "id": "AsXgPyuUzRyY"
      },
      "source": [
        "img_array.shape"
      ],
      "execution_count": null,
      "outputs": []
    },
    {
      "cell_type": "code",
      "metadata": {
        "execution": {
          "iopub.status.busy": "2021-10-24T15:12:24.377115Z",
          "iopub.execute_input": "2021-10-24T15:12:24.377814Z",
          "iopub.status.idle": "2021-10-24T15:12:24.382628Z",
          "shell.execute_reply.started": "2021-10-24T15:12:24.377768Z",
          "shell.execute_reply": "2021-10-24T15:12:24.381902Z"
        },
        "trusted": true,
        "id": "D8k2TDxVzRyY"
      },
      "source": [
        "img_test_flat.shape"
      ],
      "execution_count": null,
      "outputs": []
    },
    {
      "cell_type": "code",
      "metadata": {
        "execution": {
          "iopub.status.busy": "2021-10-24T15:12:27.287819Z",
          "iopub.execute_input": "2021-10-24T15:12:27.288294Z",
          "iopub.status.idle": "2021-10-24T15:12:27.294869Z",
          "shell.execute_reply.started": "2021-10-24T15:12:27.288234Z",
          "shell.execute_reply": "2021-10-24T15:12:27.293975Z"
        },
        "trusted": true,
        "id": "dvXcIRoBzRyY"
      },
      "source": [
        "img_train_flat.shape"
      ],
      "execution_count": null,
      "outputs": []
    },
    {
      "cell_type": "code",
      "metadata": {
        "execution": {
          "iopub.status.busy": "2021-10-24T15:12:30.17803Z",
          "iopub.execute_input": "2021-10-24T15:12:30.178623Z",
          "iopub.status.idle": "2021-10-24T15:12:30.185039Z",
          "shell.execute_reply.started": "2021-10-24T15:12:30.178568Z",
          "shell.execute_reply": "2021-10-24T15:12:30.184362Z"
        },
        "trusted": true,
        "id": "pApDi6rGzRyY"
      },
      "source": [
        "img_train.shape"
      ],
      "execution_count": null,
      "outputs": []
    },
    {
      "cell_type": "code",
      "metadata": {
        "execution": {
          "iopub.status.busy": "2021-10-24T11:12:51.508503Z",
          "iopub.execute_input": "2021-10-24T11:12:51.508781Z",
          "iopub.status.idle": "2021-10-24T11:12:51.51483Z",
          "shell.execute_reply.started": "2021-10-24T11:12:51.508752Z",
          "shell.execute_reply": "2021-10-24T11:12:51.514027Z"
        },
        "trusted": true,
        "id": "ZqzZlywFzRyY"
      },
      "source": [
        "img_test.shape"
      ],
      "execution_count": null,
      "outputs": []
    },
    {
      "cell_type": "code",
      "metadata": {
        "execution": {
          "iopub.status.busy": "2021-10-24T15:12:35.100326Z",
          "iopub.execute_input": "2021-10-24T15:12:35.100641Z",
          "iopub.status.idle": "2021-10-24T15:12:35.104486Z",
          "shell.execute_reply.started": "2021-10-24T15:12:35.100609Z",
          "shell.execute_reply": "2021-10-24T15:12:35.103639Z"
        },
        "trusted": true,
        "id": "GXNAFOklzRyZ"
      },
      "source": [
        "x = img_train\n",
        "y = target_train\n"
      ],
      "execution_count": null,
      "outputs": []
    },
    {
      "cell_type": "code",
      "metadata": {
        "execution": {
          "iopub.status.busy": "2021-10-24T15:12:41.757179Z",
          "iopub.execute_input": "2021-10-24T15:12:41.757485Z",
          "iopub.status.idle": "2021-10-24T15:12:41.822742Z",
          "shell.execute_reply.started": "2021-10-24T15:12:41.757451Z",
          "shell.execute_reply": "2021-10-24T15:12:41.821594Z"
        },
        "trusted": true,
        "id": "nnBo9JGgzRyZ"
      },
      "source": [
        "from sklearn.model_selection import train_test_split\n",
        "x_train, x_test, y_train, y_test = train_test_split(x, y, test_size=0.2, random_state=42)"
      ],
      "execution_count": null,
      "outputs": []
    },
    {
      "cell_type": "code",
      "metadata": {
        "execution": {
          "iopub.status.busy": "2021-10-24T15:12:44.452539Z",
          "iopub.execute_input": "2021-10-24T15:12:44.45283Z",
          "iopub.status.idle": "2021-10-24T15:12:44.459201Z",
          "shell.execute_reply.started": "2021-10-24T15:12:44.452796Z",
          "shell.execute_reply": "2021-10-24T15:12:44.458217Z"
        },
        "trusted": true,
        "id": "7ubSXBUPzRyZ"
      },
      "source": [
        "x_train.shape"
      ],
      "execution_count": null,
      "outputs": []
    },
    {
      "cell_type": "code",
      "metadata": {
        "execution": {
          "iopub.status.busy": "2021-10-24T15:12:47.197462Z",
          "iopub.execute_input": "2021-10-24T15:12:47.198218Z",
          "iopub.status.idle": "2021-10-24T15:12:47.20199Z",
          "shell.execute_reply.started": "2021-10-24T15:12:47.198181Z",
          "shell.execute_reply": "2021-10-24T15:12:47.201069Z"
        },
        "trusted": true,
        "id": "D-jAEks3zRyZ"
      },
      "source": [
        "x_train = x_train.reshape(-1,32,32,1)"
      ],
      "execution_count": null,
      "outputs": []
    },
    {
      "cell_type": "code",
      "metadata": {
        "execution": {
          "iopub.status.busy": "2021-10-24T15:12:50.056544Z",
          "iopub.execute_input": "2021-10-24T15:12:50.057279Z",
          "iopub.status.idle": "2021-10-24T15:12:50.063046Z",
          "shell.execute_reply.started": "2021-10-24T15:12:50.057235Z",
          "shell.execute_reply": "2021-10-24T15:12:50.062184Z"
        },
        "trusted": true,
        "id": "ak0Im2ZmzRyZ"
      },
      "source": [
        "x_train.shape"
      ],
      "execution_count": null,
      "outputs": []
    },
    {
      "cell_type": "code",
      "metadata": {
        "execution": {
          "iopub.status.busy": "2021-10-24T15:12:54.164571Z",
          "iopub.execute_input": "2021-10-24T15:12:54.164992Z",
          "iopub.status.idle": "2021-10-24T15:12:54.171294Z",
          "shell.execute_reply.started": "2021-10-24T15:12:54.16496Z",
          "shell.execute_reply": "2021-10-24T15:12:54.17045Z"
        },
        "trusted": true,
        "id": "Ibsx3kbZzRyZ"
      },
      "source": [
        "y_train.shape"
      ],
      "execution_count": null,
      "outputs": []
    },
    {
      "cell_type": "code",
      "metadata": {
        "execution": {
          "iopub.status.busy": "2021-10-24T15:12:56.797459Z",
          "iopub.execute_input": "2021-10-24T15:12:56.797885Z",
          "iopub.status.idle": "2021-10-24T15:12:56.804045Z",
          "shell.execute_reply.started": "2021-10-24T15:12:56.797852Z",
          "shell.execute_reply": "2021-10-24T15:12:56.803341Z"
        },
        "trusted": true,
        "id": "ERv6qP_wzRyZ"
      },
      "source": [
        "x_test.shape"
      ],
      "execution_count": null,
      "outputs": []
    },
    {
      "cell_type": "code",
      "metadata": {
        "execution": {
          "iopub.status.busy": "2021-10-24T15:12:59.908052Z",
          "iopub.execute_input": "2021-10-24T15:12:59.908994Z",
          "iopub.status.idle": "2021-10-24T15:12:59.913227Z",
          "shell.execute_reply.started": "2021-10-24T15:12:59.908935Z",
          "shell.execute_reply": "2021-10-24T15:12:59.912307Z"
        },
        "trusted": true,
        "id": "BZ_Cpg1WzRya"
      },
      "source": [
        "x_test = x_test.reshape(-1,32,32,1)"
      ],
      "execution_count": null,
      "outputs": []
    },
    {
      "cell_type": "code",
      "metadata": {
        "execution": {
          "iopub.status.busy": "2021-10-24T15:13:05.488912Z",
          "iopub.execute_input": "2021-10-24T15:13:05.489225Z",
          "iopub.status.idle": "2021-10-24T15:13:05.495087Z",
          "shell.execute_reply.started": "2021-10-24T15:13:05.489192Z",
          "shell.execute_reply": "2021-10-24T15:13:05.494209Z"
        },
        "trusted": true,
        "id": "buScZ45kzRya"
      },
      "source": [
        "x_test.shape"
      ],
      "execution_count": null,
      "outputs": []
    },
    {
      "cell_type": "code",
      "metadata": {
        "execution": {
          "iopub.status.busy": "2021-10-24T15:13:08.228167Z",
          "iopub.execute_input": "2021-10-24T15:13:08.228974Z",
          "iopub.status.idle": "2021-10-24T15:13:08.235441Z",
          "shell.execute_reply.started": "2021-10-24T15:13:08.228926Z",
          "shell.execute_reply": "2021-10-24T15:13:08.234601Z"
        },
        "trusted": true,
        "id": "EOhSRqEXzRya"
      },
      "source": [
        "y_test.shape"
      ],
      "execution_count": null,
      "outputs": []
    },
    {
      "cell_type": "code",
      "metadata": {
        "execution": {
          "iopub.status.busy": "2021-10-24T15:39:14.976283Z",
          "iopub.execute_input": "2021-10-24T15:39:14.976606Z",
          "iopub.status.idle": "2021-10-24T15:39:15.008223Z",
          "shell.execute_reply.started": "2021-10-24T15:39:14.976573Z",
          "shell.execute_reply": "2021-10-24T15:39:15.007343Z"
        },
        "trusted": true,
        "id": "qdCILi7ZzRya"
      },
      "source": [
        "y_train  = np_utils.to_categorical(y_train,46)\n",
        "y_train.shape"
      ],
      "execution_count": null,
      "outputs": []
    },
    {
      "cell_type": "code",
      "metadata": {
        "execution": {
          "iopub.status.busy": "2021-10-24T15:39:38.541203Z",
          "iopub.execute_input": "2021-10-24T15:39:38.541537Z",
          "iopub.status.idle": "2021-10-24T15:39:38.556749Z",
          "shell.execute_reply.started": "2021-10-24T15:39:38.541501Z",
          "shell.execute_reply": "2021-10-24T15:39:38.555892Z"
        },
        "trusted": true,
        "id": "c-9GreydzRya"
      },
      "source": [
        "y_test  = np_utils.to_categorical(y_test,46)\n",
        "y_test.shape"
      ],
      "execution_count": null,
      "outputs": []
    },
    {
      "cell_type": "code",
      "metadata": {
        "execution": {
          "iopub.status.busy": "2021-10-24T17:25:11.441369Z",
          "iopub.execute_input": "2021-10-24T17:25:11.442292Z",
          "iopub.status.idle": "2021-10-24T17:25:11.561544Z",
          "shell.execute_reply.started": "2021-10-24T17:25:11.442239Z",
          "shell.execute_reply": "2021-10-24T17:25:11.560609Z"
        },
        "trusted": true,
        "id": "bexZ1OA4zRya"
      },
      "source": [
        "model = Sequential()\n",
        "model.add(Conv2D(40, kernel_size = 5,  activation='relu', input_shape = (32,32,1)))\n",
        "model.add(BatchNormalization())\n",
        "model.add(Conv2D(40,kernel_size = 3 ,strides=2, padding='same', activation='relu'))\n",
        "model.add(BatchNormalization())\n",
        "model.add(Dense(60, activation='relu'))\n",
        "model.add(BatchNormalization())\n",
        "model.add(Flatten())\n",
        "model.add(Dropout(0.2))\n",
        "model.add(Dense(120, activation='relu'))\n",
        "model.add(Dense(46, activation='softmax'))\n",
        "\n",
        "\n",
        "model.compile(optimizer=\"adam\", loss=\"categorical_crossentropy\", metrics=[\"accuracy\"])"
      ],
      "execution_count": null,
      "outputs": []
    },
    {
      "cell_type": "code",
      "metadata": {
        "execution": {
          "iopub.status.busy": "2021-10-24T17:25:15.039188Z",
          "iopub.execute_input": "2021-10-24T17:25:15.039522Z",
          "iopub.status.idle": "2021-10-24T17:35:38.103491Z",
          "shell.execute_reply.started": "2021-10-24T17:25:15.039486Z",
          "shell.execute_reply": "2021-10-24T17:35:38.102641Z"
        },
        "trusted": true,
        "id": "4iVZkS_szRya"
      },
      "source": [
        "training_history = model.fit(\n",
        "x_train,\n",
        "y_train, \n",
        "batch_size=32,\n",
        "verbose=1, \n",
        "epochs=10,\n",
        "validation_data=(x_test, y_test)\n",
        ")"
      ],
      "execution_count": null,
      "outputs": []
    },
    {
      "cell_type": "code",
      "metadata": {
        "execution": {
          "iopub.status.busy": "2021-10-24T17:35:42.702042Z",
          "iopub.execute_input": "2021-10-24T17:35:42.702406Z",
          "iopub.status.idle": "2021-10-24T17:35:46.089683Z",
          "shell.execute_reply.started": "2021-10-24T17:35:42.702356Z",
          "shell.execute_reply": "2021-10-24T17:35:46.088724Z"
        },
        "trusted": true,
        "id": "e7YMkP6BzRya"
      },
      "source": [
        "img_train = img_train.reshape(-1,32,32,1)\n",
        "img_test = img_test.reshape(-1,32,32,1)\n",
        "pred = model.predict(img_test)\n",
        "  \n",
        "    "
      ],
      "execution_count": null,
      "outputs": []
    },
    {
      "cell_type": "code",
      "metadata": {
        "execution": {
          "iopub.status.busy": "2021-10-24T17:38:30.553617Z",
          "iopub.execute_input": "2021-10-24T17:38:30.55389Z",
          "iopub.status.idle": "2021-10-24T17:38:30.608482Z",
          "shell.execute_reply.started": "2021-10-24T17:38:30.553863Z",
          "shell.execute_reply": "2021-10-24T17:38:30.607722Z"
        },
        "trusted": true,
        "id": "0gs7T0QNzRya"
      },
      "source": [
        "y_preds = []\n",
        "for i in range(0,13800):\n",
        "    y_preds.append(targets[np.argmax(pred[i])])"
      ],
      "execution_count": null,
      "outputs": []
    },
    {
      "cell_type": "code",
      "metadata": {
        "execution": {
          "iopub.status.busy": "2021-10-24T17:38:41.104107Z",
          "iopub.execute_input": "2021-10-24T17:38:41.104778Z",
          "iopub.status.idle": "2021-10-24T17:38:41.116284Z",
          "shell.execute_reply.started": "2021-10-24T17:38:41.104741Z",
          "shell.execute_reply": "2021-10-24T17:38:41.115499Z"
        },
        "trusted": true,
        "id": "rmQ027AtzRya"
      },
      "source": [
        "fid = pd.Series(id_test,name = \"Id\")\n",
        "fpreds = pd.Series(y_preds,name=\"Category\")\n",
        "fid = pd.DataFrame(fid)\n",
        "res = fid.join(fpreds)"
      ],
      "execution_count": null,
      "outputs": []
    },
    {
      "cell_type": "code",
      "metadata": {
        "execution": {
          "iopub.status.busy": "2021-10-24T17:38:54.604429Z",
          "iopub.execute_input": "2021-10-24T17:38:54.604843Z",
          "iopub.status.idle": "2021-10-24T17:38:54.647093Z",
          "shell.execute_reply.started": "2021-10-24T17:38:54.604811Z",
          "shell.execute_reply": "2021-10-24T17:38:54.64633Z"
        },
        "trusted": true,
        "id": "26_5LnCTzRyb"
      },
      "source": [
        "res.to_csv(\"submission1.csv\",index=False)"
      ],
      "execution_count": null,
      "outputs": []
    }
  ]
}